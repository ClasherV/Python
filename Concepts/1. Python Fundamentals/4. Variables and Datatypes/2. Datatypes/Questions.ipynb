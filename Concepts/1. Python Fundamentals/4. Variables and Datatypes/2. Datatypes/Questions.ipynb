{
 "cells": [
  {
   "cell_type": "markdown",
   "id": "5830b671",
   "metadata": {},
   "source": [
    "<pre>Q.1 Are the following expressions equal?Why or why not?\n",
    "\n",
    "     x or y and not z\n",
    "     (x or y) and (not z)\n",
    "     (x or (y and (not z)))\n",
    "</pre>"
   ]
  },
  {
   "cell_type": "code",
   "execution_count": 1,
   "id": "50304ee7",
   "metadata": {},
   "outputs": [
    {
     "name": "stdout",
     "output_type": "stream",
     "text": [
      "1\n",
      "False\n",
      "1\n"
     ]
    }
   ],
   "source": [
    "x,y,z=1,2,3\n",
    "print(x or y and not z)\n",
    "print((x or y) and (not z))\n",
    "print((x or (y and (not z))))"
   ]
  },
  {
   "cell_type": "markdown",
   "id": "8e76201a",
   "metadata": {},
   "source": [
    "<pre>Q.2 State when would only first argument be evaluated and when both first and second arguments are evaluated in following expressions if a=5,b=10,c=-5,d=0.\n",
    "\n",
    "     (i) b>c and c>d\n",
    "     (ii) a<=b or c<=d\n",
    "     (iii) (b+c)<=a and not(c < a)\n",
    "     (iv) b < d and d < a\n",
    "</pre>"
   ]
  },
  {
   "cell_type": "code",
   "execution_count": 2,
   "id": "b06d8750",
   "metadata": {},
   "outputs": [
    {
     "data": {
      "text/plain": [
       "False"
      ]
     },
     "execution_count": 2,
     "metadata": {},
     "output_type": "execute_result"
    }
   ],
   "source": [
    "a,b,c,d=5,10,-5,0\n",
    "b>c and c>d"
   ]
  },
  {
   "cell_type": "code",
   "execution_count": 3,
   "id": "3a09540d",
   "metadata": {},
   "outputs": [
    {
     "data": {
      "text/plain": [
       "True"
      ]
     },
     "execution_count": 3,
     "metadata": {},
     "output_type": "execute_result"
    }
   ],
   "source": [
    "a<=b or c<=d"
   ]
  },
  {
   "cell_type": "code",
   "execution_count": 4,
   "id": "7c86bedc",
   "metadata": {},
   "outputs": [
    {
     "data": {
      "text/plain": [
       "False"
      ]
     },
     "execution_count": 4,
     "metadata": {},
     "output_type": "execute_result"
    }
   ],
   "source": [
    "(b+c)<=a and not(c < a)"
   ]
  },
  {
   "cell_type": "code",
   "execution_count": 5,
   "id": "04965a91",
   "metadata": {},
   "outputs": [
    {
     "data": {
      "text/plain": [
       "False"
      ]
     },
     "execution_count": 5,
     "metadata": {},
     "output_type": "execute_result"
    }
   ],
   "source": [
    "b < d and d < a"
   ]
  },
  {
   "cell_type": "markdown",
   "id": "62a90923",
   "metadata": {},
   "source": [
    "<pre>Q.3 Write conversion function you would use for following type of conversions.\n",
    "\n",
    "     (i) Boolean to string\n",
    "     (ii) integer to float\n",
    "     (iii) float to integer\n",
    "     (iv) string to integer\n",
    "     (v) string to float\n",
    "     (vi) string to Boolean\n",
    "     (vii) integer to complex\n",
    "</pre>"
   ]
  },
  {
   "cell_type": "code",
   "execution_count": 6,
   "id": "9c1e0db6",
   "metadata": {},
   "outputs": [
    {
     "data": {
      "text/plain": [
       "'True'"
      ]
     },
     "execution_count": 6,
     "metadata": {},
     "output_type": "execute_result"
    }
   ],
   "source": [
    "str(True)"
   ]
  },
  {
   "cell_type": "code",
   "execution_count": 8,
   "id": "67ba62f1",
   "metadata": {},
   "outputs": [
    {
     "data": {
      "text/plain": [
       "2.0"
      ]
     },
     "execution_count": 8,
     "metadata": {},
     "output_type": "execute_result"
    }
   ],
   "source": [
    "float(2)"
   ]
  },
  {
   "cell_type": "code",
   "execution_count": 9,
   "id": "4ef34d55",
   "metadata": {},
   "outputs": [
    {
     "data": {
      "text/plain": [
       "2"
      ]
     },
     "execution_count": 9,
     "metadata": {},
     "output_type": "execute_result"
    }
   ],
   "source": [
    "int(2.5)"
   ]
  },
  {
   "cell_type": "code",
   "execution_count": 10,
   "id": "1d25f301",
   "metadata": {},
   "outputs": [
    {
     "data": {
      "text/plain": [
       "2"
      ]
     },
     "execution_count": 10,
     "metadata": {},
     "output_type": "execute_result"
    }
   ],
   "source": [
    "int('2')"
   ]
  },
  {
   "cell_type": "code",
   "execution_count": 11,
   "id": "309f6c95",
   "metadata": {},
   "outputs": [
    {
     "data": {
      "text/plain": [
       "2.5"
      ]
     },
     "execution_count": 11,
     "metadata": {},
     "output_type": "execute_result"
    }
   ],
   "source": [
    "float('2.5')"
   ]
  },
  {
   "cell_type": "code",
   "execution_count": 12,
   "id": "002f66b9",
   "metadata": {},
   "outputs": [
    {
     "data": {
      "text/plain": [
       "True"
      ]
     },
     "execution_count": 12,
     "metadata": {},
     "output_type": "execute_result"
    }
   ],
   "source": [
    "bool('True')"
   ]
  },
  {
   "cell_type": "code",
   "execution_count": 15,
   "id": "79921175",
   "metadata": {},
   "outputs": [
    {
     "data": {
      "text/plain": [
       "(5+4j)"
      ]
     },
     "execution_count": 15,
     "metadata": {},
     "output_type": "execute_result"
    }
   ],
   "source": [
    "complex(2+3,4)"
   ]
  },
  {
   "cell_type": "markdown",
   "id": "c119a1d3",
   "metadata": {},
   "source": [
    "<pre>Q.4 Which of the following expressions will yield a Boolean type value as its output?\n",
    "    \n",
    "     (i) 10>2\n",
    "     (ii) 2!=4\n",
    "     (iii) (2+5,6+6)\n",
    "     (iv) 5>2 and not (10>11)\n",
    "     (v) [2,4,[3,4]]\n",
    "     (vi) 4==2**2\n",
    "     (vii) 4,2**2\n",
    "     (viii) 'cat'<'dog'\n",
    "     (ix) 'Cat'<'dog'\n",
    "     (x) 5>2 and 10>11\n",
    "     (xi) 5>2 or 10>11\n",
    "</pre>"
   ]
  },
  {
   "cell_type": "code",
   "execution_count": 18,
   "id": "9b26b5b0",
   "metadata": {},
   "outputs": [
    {
     "data": {
      "text/plain": [
       "True"
      ]
     },
     "execution_count": 18,
     "metadata": {},
     "output_type": "execute_result"
    }
   ],
   "source": [
    "10>2"
   ]
  },
  {
   "cell_type": "code",
   "execution_count": 19,
   "id": "809c8ca3",
   "metadata": {},
   "outputs": [
    {
     "data": {
      "text/plain": [
       "True"
      ]
     },
     "execution_count": 19,
     "metadata": {},
     "output_type": "execute_result"
    }
   ],
   "source": [
    "2!=4"
   ]
  },
  {
   "cell_type": "code",
   "execution_count": 20,
   "id": "3c5de903",
   "metadata": {},
   "outputs": [
    {
     "data": {
      "text/plain": [
       "(7, 12)"
      ]
     },
     "execution_count": 20,
     "metadata": {},
     "output_type": "execute_result"
    }
   ],
   "source": [
    "(2+5,6+6)"
   ]
  },
  {
   "cell_type": "code",
   "execution_count": 21,
   "id": "066d5ea2",
   "metadata": {},
   "outputs": [
    {
     "data": {
      "text/plain": [
       "True"
      ]
     },
     "execution_count": 21,
     "metadata": {},
     "output_type": "execute_result"
    }
   ],
   "source": [
    "5>2 and not(10>11)"
   ]
  },
  {
   "cell_type": "code",
   "execution_count": 23,
   "id": "f9a9ecb1",
   "metadata": {},
   "outputs": [
    {
     "data": {
      "text/plain": [
       "[2, 4, [3, 4]]"
      ]
     },
     "execution_count": 23,
     "metadata": {},
     "output_type": "execute_result"
    }
   ],
   "source": [
    "[2,4,[3,4]]"
   ]
  },
  {
   "cell_type": "code",
   "execution_count": 24,
   "id": "8a4f7a56",
   "metadata": {},
   "outputs": [
    {
     "data": {
      "text/plain": [
       "True"
      ]
     },
     "execution_count": 24,
     "metadata": {},
     "output_type": "execute_result"
    }
   ],
   "source": [
    "4==2**2"
   ]
  },
  {
   "cell_type": "code",
   "execution_count": 25,
   "id": "9a19726b",
   "metadata": {},
   "outputs": [
    {
     "data": {
      "text/plain": [
       "(4, 4)"
      ]
     },
     "execution_count": 25,
     "metadata": {},
     "output_type": "execute_result"
    }
   ],
   "source": [
    "4,2**2"
   ]
  },
  {
   "cell_type": "code",
   "execution_count": 26,
   "id": "21098923",
   "metadata": {},
   "outputs": [
    {
     "data": {
      "text/plain": [
       "True"
      ]
     },
     "execution_count": 26,
     "metadata": {},
     "output_type": "execute_result"
    }
   ],
   "source": [
    "'cat'<'dog'"
   ]
  },
  {
   "cell_type": "code",
   "execution_count": 27,
   "id": "124bf342",
   "metadata": {},
   "outputs": [
    {
     "data": {
      "text/plain": [
       "True"
      ]
     },
     "execution_count": 27,
     "metadata": {},
     "output_type": "execute_result"
    }
   ],
   "source": [
    "'Cat'<'dog'"
   ]
  },
  {
   "cell_type": "code",
   "execution_count": 28,
   "id": "b4f3ab62",
   "metadata": {},
   "outputs": [
    {
     "data": {
      "text/plain": [
       "False"
      ]
     },
     "execution_count": 28,
     "metadata": {},
     "output_type": "execute_result"
    }
   ],
   "source": [
    "5>2 and 10>11"
   ]
  },
  {
   "cell_type": "code",
   "execution_count": 29,
   "id": "7de99634",
   "metadata": {},
   "outputs": [
    {
     "data": {
      "text/plain": [
       "True"
      ]
     },
     "execution_count": 29,
     "metadata": {},
     "output_type": "execute_result"
    }
   ],
   "source": [
    "5>2 or 10>11"
   ]
  },
  {
   "cell_type": "markdown",
   "id": "4ec405a7",
   "metadata": {},
   "source": [
    "<pre>Q.5 Write Boolean expressions in Python for these conditions:\n",
    "\n",
    "     (i) x is a factor of y(that is, x divides evenly into y)\n",
    "     (ii) age is at least 18 and state equals 'Goa'\n",
    "     (iii) the string name is not 'Nimra'\n",
    "</pre>"
   ]
  },
  {
   "cell_type": "code",
   "execution_count": 31,
   "id": "cd8da65f",
   "metadata": {},
   "outputs": [
    {
     "data": {
      "text/plain": [
       "True"
      ]
     },
     "execution_count": 31,
     "metadata": {},
     "output_type": "execute_result"
    }
   ],
   "source": [
    "x,y=10,5\n",
    "x%y==0"
   ]
  },
  {
   "cell_type": "code",
   "execution_count": 32,
   "id": "20d6b379",
   "metadata": {},
   "outputs": [
    {
     "data": {
      "text/plain": [
       "True"
      ]
     },
     "execution_count": 32,
     "metadata": {},
     "output_type": "execute_result"
    }
   ],
   "source": [
    "age,state=18,'Goa'\n",
    "age>=18 and state=='Goa'"
   ]
  },
  {
   "cell_type": "code",
   "execution_count": 33,
   "id": "ba216c3b",
   "metadata": {},
   "outputs": [
    {
     "data": {
      "text/plain": [
       "True"
      ]
     },
     "execution_count": 33,
     "metadata": {},
     "output_type": "execute_result"
    }
   ],
   "source": [
    "name='Ada'\n",
    "name!='Nimra'"
   ]
  },
  {
   "cell_type": "markdown",
   "id": "908bfb83",
   "metadata": {},
   "source": [
    "<pre>Q.6 Which of the following code fragments may result into data loss?\n",
    " \n",
    "     (a) a=17\n",
    "         b=float(a)\n",
    "        \n",
    "     (b) c=27.97832\n",
    "         d=int(c)\n",
    "        \n",
    "     (c) e=29/5\n",
    "         f=float(e)\n",
    "     \n",
    "     (d) g=29/5\n",
    "         h=int(g)\n",
    "</pre>"
   ]
  },
  {
   "cell_type": "code",
   "execution_count": 35,
   "id": "e64631e7",
   "metadata": {},
   "outputs": [
    {
     "name": "stdout",
     "output_type": "stream",
     "text": [
      "17 17.0\n"
     ]
    }
   ],
   "source": [
    "a=17\n",
    "b=float(a)\n",
    "print(a,b)"
   ]
  },
  {
   "cell_type": "code",
   "execution_count": 36,
   "id": "4c9ac481",
   "metadata": {},
   "outputs": [
    {
     "name": "stdout",
     "output_type": "stream",
     "text": [
      "27.97832 27\n"
     ]
    }
   ],
   "source": [
    "c=27.97832\n",
    "d=int(c)\n",
    "print(c,d)"
   ]
  },
  {
   "cell_type": "code",
   "execution_count": 37,
   "id": "3ea50693",
   "metadata": {},
   "outputs": [
    {
     "name": "stdout",
     "output_type": "stream",
     "text": [
      "5.8 5.8\n"
     ]
    }
   ],
   "source": [
    "e=29/5\n",
    "f=float(e)\n",
    "print(e,f)"
   ]
  },
  {
   "cell_type": "code",
   "execution_count": 38,
   "id": "850a0ef1",
   "metadata": {},
   "outputs": [
    {
     "name": "stdout",
     "output_type": "stream",
     "text": [
      "5.8 5\n"
     ]
    }
   ],
   "source": [
    "g=29/5\n",
    "h=int(g)\n",
    "print(g,h)"
   ]
  },
  {
   "cell_type": "code",
   "execution_count": null,
   "id": "f9a91de5",
   "metadata": {},
   "outputs": [],
   "source": []
  }
 ],
 "metadata": {
  "kernelspec": {
   "display_name": "Python 3",
   "language": "python",
   "name": "python3"
  },
  "language_info": {
   "codemirror_mode": {
    "name": "ipython",
    "version": 3
   },
   "file_extension": ".py",
   "mimetype": "text/x-python",
   "name": "python",
   "nbconvert_exporter": "python",
   "pygments_lexer": "ipython3",
   "version": "3.13.1"
  }
 },
 "nbformat": 4,
 "nbformat_minor": 5
}
