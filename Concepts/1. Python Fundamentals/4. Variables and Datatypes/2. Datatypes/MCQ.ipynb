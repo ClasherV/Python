{
 "cells": [
  {
   "cell_type": "markdown",
   "id": "d9328475",
   "metadata": {},
   "source": [
    "<h1>Valid Python Datatypes</h1>\n",
    "\n",
    "Numeric, None, Mappings, list, Sequence, set, tuple, dictionary"
   ]
  },
  {
   "cell_type": "markdown",
   "id": "d65edd44",
   "metadata": {},
   "source": [
    "<h1>Dtypes as num</h1>\n",
    "\n",
    "Integer, Boolean, complex, floating point, list, None"
   ]
  },
  {
   "cell_type": "markdown",
   "id": "a14e5782",
   "metadata": {},
   "source": [
    "a=35;m=a\n",
    "\n",
    "<h2>len(objects), len(references)</h2>\n",
    "\n",
    "<h2>2 int obj, 2 ref</h2>\n",
    "<h2>1 int obj, 2 ref</h2>\n",
    "<h2>1 int obj, 1 ref</h2>\n",
    "<h2>2 int obj, 1 ref</h2>"
   ]
  },
  {
   "cell_type": "markdown",
   "id": "211f244e",
   "metadata": {},
   "source": [
    "<h1>Which built in func returns unique number assigned to an obj</h1>\n",
    "\n",
    "identify(), id(), refnum(), ref()"
   ]
  },
  {
   "cell_type": "markdown",
   "id": "d9d3e0bd",
   "metadata": {},
   "source": [
    "<h1>The operator used to check fif both the operands reference fthe same object memory, is the _____operator:</h1>\n",
    "\n",
    "in, is, id, =="
   ]
  },
  {
   "cell_type": "markdown",
   "id": "5236da30",
   "metadata": {},
   "source": [
    "<h1>For two objects x and y, the expression x is y will yield True, if and only if:</h1>\n",
    "\n",
    "id(x)==id(y), len(x)==len(y), x==y, all of these\n"
   ]
  },
  {
   "cell_type": "markdown",
   "id": "1d11dd0c",
   "metadata": {},
   "source": [
    "<h1>Which of the following is not an immutable type in Python</h1>\n",
    "\n",
    "String, Tuples, Set, dictionary"
   ]
  },
  {
   "cell_type": "markdown",
   "id": "c1b5ae9c",
   "metadata": {},
   "source": [
    "<h1>Python operator always yields the result of ___datatype</h1>\n",
    "\n",
    "integer, floating point, complex, all of these"
   ]
  },
  {
   "cell_type": "markdown",
   "id": "9c49df5a",
   "metadata": {},
   "source": [
    "<h1>What is the value of the expression 100/25</h1>\n",
    "\n",
    "4,4.0,2.5, none of these"
   ]
  },
  {
   "cell_type": "markdown",
   "id": "93a66a53",
   "metadata": {},
   "source": [
    "<h1>What is the value of the expression 100//25</h1>\n",
    "\n",
    "4, 4.0, 2.5, none of these"
   ]
  },
  {
   "cell_type": "markdown",
   "id": "f0fa84ff",
   "metadata": {},
   "source": [
    "<h1>In Python, a variable must be declared before it is assigned a value.</h1>\n",
    "\n",
    "True, False, Only in Functions, Only in modules"
   ]
  },
  {
   "cell_type": "markdown",
   "id": "b2020c03",
   "metadata": {},
   "source": [
    "<h1>In Python, a variable is assigned a value of one type, and then later assigned a value of a different type. This will yield</h1>\n",
    "\n",
    "Warning, Error, None, No Error"
   ]
  },
  {
   "cell_type": "markdown",
   "id": "793892b3",
   "metadata": {},
   "source": [
    "<h1>In Python, a variable may be assigned a value of one type, and then later assigned a value of a different type. This concept is known as</h1>\n",
    "\n",
    "mutability, static typing, dynamic typing, immutability"
   ]
  },
  {
   "cell_type": "markdown",
   "id": "89b7d8d6",
   "metadata": {},
   "source": [
    "<h1>Is it safe to directly use the == operator to determine whether objects of type float are equal?</h1>\n",
    "\n",
    "Yes, No, Yes if the values are < 100, Yes if the values are > 100"
   ]
  },
  {
   "cell_type": "markdown",
   "id": "d86c555d",
   "metadata": {},
   "source": [
    "<h1>What will the following code produce?</h1>\n",
    "\n",
    "a=8.6;\n",
    "b=2;\n",
    "print(a/b);\n",
    "4.3, 4.0, 4, compilation error"
   ]
  },
  {
   "cell_type": "markdown",
   "id": "dec18936",
   "metadata": {},
   "source": [
    "<h1>In the Python statement x=a+5-b, a and b are</h1>\n",
    "\n",
    "Operands, Expression, operators, Equation"
   ]
  },
  {
   "cell_type": "markdown",
   "id": "20bf8209",
   "metadata": {},
   "source": [
    "<h1>In the Python statement x=a+5-b, a+5-b is</h1>\n",
    "\n",
    "Operands, Expression, operators, Equation"
   ]
  },
  {
   "cell_type": "markdown",
   "id": "bdfa2122",
   "metadata": {},
   "source": [
    "<h1>What will be the value of y after following code fragment is executed?</h1>\n",
    "\n",
    "<h2>x=10.0\n",
    "y=(x < 100.0)andx>=10</h2>\n",
    "\n",
    "110, True, False, Error"
   ]
  },
  {
   "cell_type": "markdown",
   "id": "563b88b8",
   "metadata": {},
   "source": [
    "<h1>Which of the following literals has True truth-value?</h1>\n",
    "\n",
    "0.000001, 'None', 0, [], False, True, 1, 33, None, 0.0"
   ]
  },
  {
   "cell_type": "markdown",
   "id": "2da4099a",
   "metadata": {},
   "source": [
    "<h1>What will the following code result as?</h1>\n",
    "<h2>import math\n",
    "x=100\n",
    "print(x>0 and math.sqrt(x))</h2>\n",
    "True, 1, 10, 10.0"
   ]
  },
  {
   "cell_type": "markdown",
   "id": "11da7f05",
   "metadata": {},
   "source": [
    "<h1>Which of the following operators has the lowest precedence?</h1>\n",
    "\n",
    "not, %, and, +, **"
   ]
  },
  {
   "cell_type": "markdown",
   "id": "b79778d3",
   "metadata": {},
   "source": [
    "<h1>What is the value of the expression 10+3**3*2</h1>\n",
    "\n",
    "28, 739, 829, 64"
   ]
  },
  {
   "cell_type": "markdown",
   "id": "2e4841cf",
   "metadata": {},
   "source": [
    "<h1>To increase the value of x five times using an augmented assignment operator, the correct expression will be</h1>\n",
    "\n",
    "x+=5, x*=5, x=x**5, none of these"
   ]
  },
  {
   "cell_type": "markdown",
   "id": "3aad5483",
   "metadata": {},
   "source": [
    "<h1>What will be the result of the expression 10 or 0?</h1>\n",
    "\n",
    "0, 1, 10, 1.0"
   ]
  },
  {
   "cell_type": "markdown",
   "id": "d6170ebf",
   "metadata": {},
   "source": [
    "<h1>What will be the result of the expression 5 or 10?</h1>\n",
    "\n",
    "5, 1, 10, 0"
   ]
  },
  {
   "cell_type": "markdown",
   "id": "2ec173b7",
   "metadata": {},
   "source": [
    "<h1>What will be the result of the expression 5 and 10?</h1>\n",
    "\n",
    "5, 1, 10, 0"
   ]
  },
  {
   "cell_type": "markdown",
   "id": "32713034",
   "metadata": {},
   "source": [
    "<h1>What will be the result of the expression 15 and 10</h1>\n",
    "\n",
    "5, 1, 10, 0"
   ]
  },
  {
   "cell_type": "markdown",
   "id": "24a90816",
   "metadata": {},
   "source": [
    "<h1>What will be the result of the expression 10 or 0?</h1>\n",
    "\n",
    "0, 1, 10, 1.0"
   ]
  },
  {
   "cell_type": "markdown",
   "id": "7dfae6d6",
   "metadata": {},
   "source": [
    "<h1>What will be the result of the expression 'a' or '' ('' is an empty string)?</h1>\n",
    "\n",
    "'a', '', 1, 0"
   ]
  },
  {
   "cell_type": "markdown",
   "id": "1cd51172",
   "metadata": {},
   "source": [
    "<h1>What will be the result of the expression 'a' and '' ('' is an empty string)?</h1>\n",
    "\n",
    "'a', '', 1, 0"
   ]
  },
  {
   "cell_type": "markdown",
   "id": "8281e7ee",
   "metadata": {},
   "source": [
    "<h1>What will be the result of the expression 'x' and 'a'?</h1>\n",
    "\n",
    "'a', '', 'x', 1"
   ]
  },
  {
   "cell_type": "markdown",
   "id": "5495627f",
   "metadata": {},
   "source": [
    "<h1>What will be the result of the expression 'a' and 'x'?</h1>\n",
    "\n",
    "'a', '', 'x', 1"
   ]
  },
  {
   "cell_type": "markdown",
   "id": "9c90fba6",
   "metadata": {},
   "source": [
    "<h1>What will be the result of the expression 'a' and 'None'?</h1>\n",
    "\n",
    "'a', '', 'None', 1"
   ]
  },
  {
   "cell_type": "markdown",
   "id": "ec0edce5",
   "metadata": {},
   "source": [
    "<h1>What will be the result of the expression 'None' and 'a'?</h1>\n",
    "\n",
    "'a', '', 'None', 1"
   ]
  },
  {
   "cell_type": "markdown",
   "id": "7eff10a8",
   "metadata": {},
   "source": [
    "<h1>What will be the result of the expression 'false' and False?</h1>\n",
    "\n",
    "false, False, 'false', 'False'"
   ]
  },
  {
   "cell_type": "markdown",
   "id": "f1d204f4",
   "metadata": {},
   "source": [
    "<h1>What will be the result of the expression 'false' or False?</h1>\n",
    "\n",
    "false, False, 'false', 'False'"
   ]
  }
 ],
 "metadata": {
  "kernelspec": {
   "display_name": "Python 3",
   "language": "python",
   "name": "python3"
  },
  "language_info": {
   "codemirror_mode": {
    "name": "ipython",
    "version": 3
   },
   "file_extension": ".py",
   "mimetype": "text/x-python",
   "name": "python",
   "nbconvert_exporter": "python",
   "pygments_lexer": "ipython3",
   "version": "3.13.3"
  }
 },
 "nbformat": 4,
 "nbformat_minor": 5
}
