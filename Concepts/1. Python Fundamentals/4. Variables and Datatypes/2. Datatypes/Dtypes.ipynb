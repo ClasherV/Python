{
 "cells": [
  {
   "cell_type": "code",
   "execution_count": null,
   "id": "4fc81de3",
   "metadata": {},
   "outputs": [],
   "source": [
    "bool(0)"
   ]
  },
  {
   "cell_type": "code",
   "execution_count": 1,
   "id": "f21b797b",
   "metadata": {},
   "outputs": [
    {
     "data": {
      "text/plain": [
       "'False'"
      ]
     },
     "execution_count": 1,
     "metadata": {},
     "output_type": "execute_result"
    }
   ],
   "source": [
    "str(False)"
   ]
  },
  {
   "cell_type": "code",
   "execution_count": 2,
   "id": "e23b9a96",
   "metadata": {},
   "outputs": [
    {
     "name": "stdout",
     "output_type": "stream",
     "text": [
      "2147483647 True\n"
     ]
    }
   ],
   "source": [
    "A=2147483647\n",
    "B=bool(1)\n",
    "print(A,B)"
   ]
  },
  {
   "cell_type": "code",
   "execution_count": 6,
   "id": "c32c7222",
   "metadata": {},
   "outputs": [
    {
     "name": "stdout",
     "output_type": "stream",
     "text": [
      "5 5 5\n",
      "140703135245352 140703135245352 140703135245352\n",
      "10 7 7\n",
      "140703135245512 140703135245416 140703135245416\n",
      "5 140703135245352\n"
     ]
    }
   ],
   "source": [
    "p=5\n",
    "q=p\n",
    "r=5\n",
    "print(p,q,r)\n",
    "print(id(p),id(q),id(r))\n",
    "p=10\n",
    "r=7\n",
    "q=r\n",
    "print(p,q,r)\n",
    "print(id(p),id(q),id(r))\n",
    "t=5\n",
    "print(t,id(t))"
   ]
  },
  {
   "cell_type": "code",
   "execution_count": 7,
   "id": "3cd9c618",
   "metadata": {},
   "outputs": [
    {
     "name": "stdout",
     "output_type": "stream",
     "text": [
      "1893861940352\n",
      "1893861940352\n"
     ]
    }
   ],
   "source": [
    "Chk=[2,4,6]\n",
    "print(id(Chk))\n",
    "Chk[1]=21\n",
    "print(id(Chk))"
   ]
  },
  {
   "cell_type": "code",
   "execution_count": 8,
   "id": "89a5b90b",
   "metadata": {},
   "outputs": [
    {
     "data": {
      "text/plain": [
       "int"
      ]
     },
     "execution_count": 8,
     "metadata": {},
     "output_type": "execute_result"
    }
   ],
   "source": [
    "a=4\n",
    "type(a)"
   ]
  },
  {
   "cell_type": "code",
   "execution_count": 9,
   "id": "7d0376bd",
   "metadata": {},
   "outputs": [
    {
     "name": "stdout",
     "output_type": "stream",
     "text": [
      "4\n"
     ]
    }
   ],
   "source": [
    "print(a)"
   ]
  },
  {
   "cell_type": "code",
   "execution_count": 10,
   "id": "0a875be5",
   "metadata": {},
   "outputs": [
    {
     "data": {
      "text/plain": [
       "140703135245320"
      ]
     },
     "execution_count": 10,
     "metadata": {},
     "output_type": "execute_result"
    }
   ],
   "source": [
    "id(a)"
   ]
  },
  {
   "cell_type": "code",
   "execution_count": null,
   "id": "0bab6989",
   "metadata": {},
   "outputs": [],
   "source": []
  }
 ],
 "metadata": {
  "kernelspec": {
   "display_name": "Python 3",
   "language": "python",
   "name": "python3"
  },
  "language_info": {
   "codemirror_mode": {
    "name": "ipython",
    "version": 3
   },
   "file_extension": ".py",
   "mimetype": "text/x-python",
   "name": "python",
   "nbconvert_exporter": "python",
   "pygments_lexer": "ipython3",
   "version": "3.13.3"
  }
 },
 "nbformat": 4,
 "nbformat_minor": 5
}
