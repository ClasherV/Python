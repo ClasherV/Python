{
 "cells": [
  {
   "cell_type": "markdown",
   "id": "7d023318",
   "metadata": {},
   "source": [
    "<pre>Q.1 Write the corresponding Python expressions for the following mathematical expressions:\n",
    "\n",
    "     (i) Square Root of (a^2 + b^2 +c^2)\n",
    "     (ii) 2-ye^(2y) + 4y\n",
    "     (iii) p+(q/(r+s)^4)\n",
    "     (iv) (cosx/tanx)+x\n",
    "     (v) mod of (e^2 - x)\n",
    "</pre>"
   ]
  },
  {
   "cell_type": "code",
   "execution_count": null,
   "id": "b600d896",
   "metadata": {},
   "outputs": [
    {
     "data": {
      "text/plain": [
       "3.7416573867739413"
      ]
     },
     "execution_count": 1,
     "metadata": {},
     "output_type": "execute_result"
    }
   ],
   "source": [
    "import math\n",
    "a,b,c=1,2,3\n",
    "math.sqrt(pow(a,2)+pow(b,2)+pow(c,2))"
   ]
  },
  {
   "cell_type": "code",
   "execution_count": 2,
   "id": "e7b75a97",
   "metadata": {},
   "outputs": [
    {
     "data": {
      "text/plain": [
       "-99.19630006628847"
      ]
     },
     "execution_count": 2,
     "metadata": {},
     "output_type": "execute_result"
    }
   ],
   "source": [
    "x,y=1,2\n",
    "2-y*math.exp(2*y)+4*y"
   ]
  },
  {
   "cell_type": "code",
   "execution_count": 3,
   "id": "cccf0fea",
   "metadata": {},
   "outputs": [
    {
     "data": {
      "text/plain": [
       "1.0008329862557268"
      ]
     },
     "execution_count": 3,
     "metadata": {},
     "output_type": "execute_result"
    }
   ],
   "source": [
    "p,q,r,s=1,2,3,4\n",
    "p+(q/math.pow((r+s),4))"
   ]
  },
  {
   "cell_type": "code",
   "execution_count": 4,
   "id": "d5983098",
   "metadata": {},
   "outputs": [
    {
     "data": {
      "text/plain": [
       "90.22457574356315"
      ]
     },
     "execution_count": 4,
     "metadata": {},
     "output_type": "execute_result"
    }
   ],
   "source": [
    "x=90\n",
    "(math.cos(x)/math.tan(x))+x"
   ]
  },
  {
   "cell_type": "code",
   "execution_count": 7,
   "id": "e00e202a",
   "metadata": {},
   "outputs": [
    {
     "data": {
      "text/plain": [
       "2.6109439010693496"
      ]
     },
     "execution_count": 7,
     "metadata": {},
     "output_type": "execute_result"
    }
   ],
   "source": [
    "x=10\n",
    "math.fabs(math.exp(2)-x)"
   ]
  },
  {
   "cell_type": "markdown",
   "id": "1f77e6b9",
   "metadata": {},
   "source": [
    "<pre>Q.2 The radius of a sphere is 7.5 metres. Write Python script to calculate its area and volume. (Area of a sphere = pi*r*r Volume of a sphere = 4*pi*r*r*r)\n",
    "</pre>"
   ]
  },
  {
   "cell_type": "code",
   "execution_count": 8,
   "id": "ea4cc7a1",
   "metadata": {},
   "outputs": [],
   "source": [
    "import math"
   ]
  },
  {
   "cell_type": "code",
   "execution_count": 9,
   "id": "e89c96f5",
   "metadata": {},
   "outputs": [],
   "source": [
    "r=7.5\n",
    "area=math.pi*r*r\n",
    "volume=4*math.pi*math.pow(r,3)"
   ]
  },
  {
   "cell_type": "code",
   "execution_count": 13,
   "id": "a5f8db00",
   "metadata": {},
   "outputs": [
    {
     "name": "stdout",
     "output_type": "stream",
     "text": [
      "Radius of the Sphere is: 7.5 metres\n",
      "Area of the Sphere is: 176.71458676442586 units square\n",
      "Volume of the Sphere is: 5301.437602932776 units cube\n"
     ]
    }
   ],
   "source": [
    "print(\"Radius of the Sphere is:\",r,\"metres\")\n",
    "print(\"Area of the Sphere is:\",area,\"units square\")\n",
    "print(\"Volume of the Sphere is:\",volume,\"units cube\")"
   ]
  },
  {
   "cell_type": "code",
   "execution_count": null,
   "id": "f566df7a",
   "metadata": {},
   "outputs": [
    {
     "name": "stdout",
     "output_type": "stream",
     "text": [
      "range(0, 5)\n"
     ]
    }
   ],
   "source": []
  }
 ],
 "metadata": {
  "kernelspec": {
   "display_name": "Python 3",
   "language": "python",
   "name": "python3"
  },
  "language_info": {
   "codemirror_mode": {
    "name": "ipython",
    "version": 3
   },
   "file_extension": ".py",
   "mimetype": "text/x-python",
   "name": "python",
   "nbconvert_exporter": "python",
   "pygments_lexer": "ipython3",
   "version": "3.13.3"
  }
 },
 "nbformat": 4,
 "nbformat_minor": 5
}
