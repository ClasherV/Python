{
 "cells": [
  {
   "cell_type": "code",
   "execution_count": 1,
   "id": "e3d393b0",
   "metadata": {},
   "outputs": [],
   "source": [
    "# Letters: A-Z, a-z\n",
    "# Digits: 0-9\n",
    "# Special Symbols: space + - * / ** \\ () [] {} // = != == < , > . ' \" ''' ; : % ! & # <= >= @ _\n",
    "# Whitespaces: Blank Space, tabs, carriage return, newline, formfeed\n",
    "# Other Characters: Python can process all ASCII and Unicode characters as part of data or literals"
   ]
  },
  {
   "cell_type": "code",
   "execution_count": 2,
   "id": "ac6f85e7",
   "metadata": {},
   "outputs": [
    {
     "name": "stdout",
     "output_type": "stream",
     "text": [
      "CVR Aged 19 has contributed 710.75\n"
     ]
    }
   ],
   "source": [
    "# A sample program \n",
    "name=\"CVR\"\n",
    "age=19\n",
    "contribution=710.75\n",
    "print(name,\"Aged\",age,\"has contributed\",contribution)"
   ]
  },
  {
   "cell_type": "code",
   "execution_count": 3,
   "id": "ad808765",
   "metadata": {},
   "outputs": [],
   "source": [
    "# False\n",
    "# assert \n",
    "# del\n",
    "# for\n",
    "# in \n",
    "# or\n",
    "# while\n",
    "# None\n",
    "# break\n",
    "# elif\n",
    "# from\n",
    "# is\n",
    "# pass\n",
    "# with\n",
    "# True\n",
    "# class\n",
    "# else\n",
    "# global\n",
    "# lambda\n",
    "# raise\n",
    "# yield\n",
    "# and\n",
    "# continue\n",
    "# except\n",
    "# if\n",
    "# nonlocal\n",
    "# return\n",
    "# as \n",
    "# def \n",
    "# finally \n",
    "# import \n",
    "# not \n",
    "# try "
   ]
  },
  {
   "cell_type": "code",
   "execution_count": 4,
   "id": "22581097",
   "metadata": {},
   "outputs": [
    {
     "data": {
      "text/plain": [
       "'\\nMyfile\\nMYFILE\\nCHK\\nZ2T0Z9\\nDATE9_7_77\\n_DS\\nFILE13\\nHJI3_JK\\n'"
      ]
     },
     "execution_count": 4,
     "metadata": {},
     "output_type": "execute_result"
    }
   ],
   "source": [
    "\"\"\"\n",
    "Myfile\n",
    "MYFILE\n",
    "CHK\n",
    "Z2T0Z9\n",
    "DATE9_7_77\n",
    "_DS\n",
    "FILE13\n",
    "HJI3_JK\n",
    "\"\"\""
   ]
  },
  {
   "cell_type": "code",
   "execution_count": 5,
   "id": "f095590e",
   "metadata": {},
   "outputs": [
    {
     "data": {
      "text/plain": [
       "'\\nDATA-REC\\n29CLCT\\nbreak\\nMy.file\\n'"
      ]
     },
     "execution_count": 5,
     "metadata": {},
     "output_type": "execute_result"
    }
   ],
   "source": [
    "\"\"\"\n",
    "DATA-REC\n",
    "29CLCT\n",
    "break\n",
    "My.file\n",
    "\"\"\""
   ]
  },
  {
   "cell_type": "code",
   "execution_count": 6,
   "id": "f600602d",
   "metadata": {},
   "outputs": [
    {
     "data": {
      "text/plain": [
       "'1-x-0-w-25'"
      ]
     },
     "execution_count": 6,
     "metadata": {},
     "output_type": "execute_result"
    }
   ],
   "source": [
    "'a' \n",
    "'abc' \n",
    "\"abc\" \n",
    "\"Vaibhav\"\n",
    "\"Hello World\" \n",
    "\"129045\"\n",
    "'1-x-0-w-25'"
   ]
  },
  {
   "cell_type": "code",
   "execution_count": null,
   "id": "7c490e7e",
   "metadata": {},
   "outputs": [],
   "source": [
    "\"\"\" \n",
    "\\\\\n",
    "\\'\n",
    "\\\"\n",
    "\\a\n",
    "\\b\n",
    "\\f\n",
    "\\n\n",
    "\\N{name}\n",
    "\\r\n",
    "\\t\n",
    "\\uxxxx\n",
    "\\Uxxxxxxxx\n",
    "\\v\n",
    "\\ooo\n",
    "\\xhh\n",
    "\"\"\""
   ]
  },
  {
   "cell_type": "code",
   "execution_count": 8,
   "id": "ecd53a58",
   "metadata": {},
   "outputs": [
    {
     "data": {
      "text/plain": [
       "' \\nData_rec\\n_data\\n1 data\\ndata1\\nmy.file\\nelif\\nswitch\\nlambda\\nbreak\\n'"
      ]
     },
     "execution_count": 8,
     "metadata": {},
     "output_type": "execute_result"
    }
   ],
   "source": [
    "\"\"\" \n",
    "Data_rec\n",
    "_data\n",
    "1 data\n",
    "data1\n",
    "my.file\n",
    "elif\n",
    "switch\n",
    "lambda\n",
    "break\n",
    "\"\"\""
   ]
  },
  {
   "cell_type": "code",
   "execution_count": 10,
   "id": "d3e7eb42",
   "metadata": {},
   "outputs": [
    {
     "data": {
      "text/plain": [
       "'Hello    World'"
      ]
     },
     "execution_count": 10,
     "metadata": {},
     "output_type": "execute_result"
    }
   ],
   "source": [
    "text=\"Hello\\\n",
    "    World\"\n",
    "text"
   ]
  },
  {
   "cell_type": "code",
   "execution_count": 13,
   "id": "03904933",
   "metadata": {},
   "outputs": [
    {
     "name": "stdout",
     "output_type": "stream",
     "text": [
      "Hello\n",
      "World\n"
     ]
    },
    {
     "data": {
      "text/plain": [
       "'Hello\\nWorld'"
      ]
     },
     "execution_count": 13,
     "metadata": {},
     "output_type": "execute_result"
    }
   ],
   "source": [
    "text=\"\"\"Hello\n",
    "World\"\"\"\n",
    "print(text)\n",
    "text"
   ]
  },
  {
   "cell_type": "code",
   "execution_count": 15,
   "id": "f74585ea",
   "metadata": {},
   "outputs": [
    {
     "data": {
      "text/plain": [
       "tuple"
      ]
     },
     "execution_count": 15,
     "metadata": {},
     "output_type": "execute_result"
    }
   ],
   "source": [
    "a=1,234\n",
    "type(a)"
   ]
  },
  {
   "cell_type": "code",
   "execution_count": 16,
   "id": "7ea65fc9",
   "metadata": {},
   "outputs": [
    {
     "data": {
      "text/plain": [
       "(1, 234)"
      ]
     },
     "execution_count": 16,
     "metadata": {},
     "output_type": "execute_result"
    }
   ],
   "source": [
    "a"
   ]
  },
  {
   "cell_type": "code",
   "execution_count": 14,
   "id": "391b630d",
   "metadata": {},
   "outputs": [
    {
     "name": "stdout",
     "output_type": "stream",
     "text": [
      "None\n"
     ]
    }
   ],
   "source": [
    "a=None\n",
    "print(a)\n",
    "a"
   ]
  },
  {
   "cell_type": "code",
   "execution_count": 18,
   "id": "faa3940c",
   "metadata": {},
   "outputs": [
    {
     "name": "stdout",
     "output_type": "stream",
     "text": [
      "<class 'int'>\n",
      "<class 'str'>\n",
      "<class 'str'>\n",
      "<class 'float'>\n",
      "<class 'float'>\n",
      "<class 'str'>\n",
      "<class 'NoneType'>\n",
      "<class 'bool'>\n",
      "<class 'bool'>\n"
     ]
    }
   ],
   "source": [
    "print(type(123))\n",
    "print(type('abc'))\n",
    "print(type(\"ABC\"))\n",
    "print(type(12.34))\n",
    "print(type(0.3E-01))\n",
    "print(type(\"ftghjkjl\"))\n",
    "print(type(None))\n",
    "print(type(True))\n",
    "print(type(False))"
   ]
  },
  {
   "cell_type": "code",
   "execution_count": 19,
   "id": "cb54cf20",
   "metadata": {},
   "outputs": [
    {
     "name": "stdout",
     "output_type": "stream",
     "text": [
      "(2, 12100.0)\n",
      "(0.2, 12100.0)\n"
     ]
    }
   ],
   "source": [
    "var1=2,121E2\n",
    "var2=0.2,121E2\n",
    "print(var1)\n",
    "print(var2)"
   ]
  },
  {
   "cell_type": "code",
   "execution_count": null,
   "id": "656d53eb",
   "metadata": {},
   "outputs": [],
   "source": []
  }
 ],
 "metadata": {
  "kernelspec": {
   "display_name": "Python 3",
   "language": "python",
   "name": "python3"
  },
  "language_info": {
   "codemirror_mode": {
    "name": "ipython",
    "version": 3
   },
   "file_extension": ".py",
   "mimetype": "text/x-python",
   "name": "python",
   "nbconvert_exporter": "python",
   "pygments_lexer": "ipython3",
   "version": "3.13.3"
  }
 },
 "nbformat": 4,
 "nbformat_minor": 5
}
