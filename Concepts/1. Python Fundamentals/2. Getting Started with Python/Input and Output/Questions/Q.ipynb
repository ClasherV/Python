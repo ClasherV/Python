{
 "cells": [
  {
   "cell_type": "code",
   "execution_count": 1,
   "id": "7200d8a3",
   "metadata": {},
   "outputs": [
    {
     "name": "stdout",
     "output_type": "stream",
     "text": [
      "Greetings!!!\n",
      "Hello Rehman\n",
      "How do you do?\n"
     ]
    }
   ],
   "source": [
    "\"\"\"\n",
    "Q.23 Why is following code giving errors:\n",
    "\n",
    "     name=\"Rehman\"\n",
    "     print(\"Greetings!!!\")\n",
    "        print(\"Hello\",name)\n",
    "        print(\"How do you do?\")\n",
    "\"\"\"\n",
    "\n",
    "name=\"Rehman\"\n",
    "print(\"Greetings!!!\")\n",
    "print(\"Hello\",name)\n",
    "print(\"How do you do?\")"
   ]
  },
  {
   "cell_type": "code",
   "execution_count": 2,
   "id": "a563ff9b",
   "metadata": {},
   "outputs": [
    {
     "name": "stdout",
     "output_type": "stream",
     "text": [
      "Cost of goods: 2000.0\n",
      "Revenue generated: 3000.0\n",
      "Profit%: 50.0\n"
     ]
    }
   ],
   "source": [
    " # Q.24 Write a program to calculate profit percentage from the sales of goods that you made.\n",
    "\n",
    "cgos=float(input(\"Enter cost of goods sold: \")) #cgos:cost of goods\n",
    "revenue=float(input(\"Enter revenue amount: \")) #revenue:amount at which goods are sold\n",
    "pl=revenue-cgos #pl:profit or loss\n",
    "prPerc=pl/cgos*100\n",
    "print(\"Cost of goods:\",cgos)\n",
    "print(\"Revenue generated:\",revenue)\n",
    "print(\"Profit%:\",prPerc)"
   ]
  },
  {
   "cell_type": "code",
   "execution_count": null,
   "id": "ad571733",
   "metadata": {},
   "outputs": [
    {
     "name": "stdout",
     "output_type": "stream",
     "text": [
      "Simar ,you are 17 now but you will be 18 next year\n"
     ]
    }
   ],
   "source": [
    "\"\"\"\n",
    "Q.25 What will be the output produced by following code:\n",
    "\n",
    "     name=\"Simar\"\n",
    "     age=17\n",
    "     print(name,\",you are\",17,\"now but\",end=\" \")\n",
    "     print(\"you will be\",age+1,\"next year\")\n",
    "\"\"\"\n",
    "name=\"Simar\"\n",
    "age=17\n",
    "print(name,\",you are\",17,\"now but\",end=\" \")\n",
    "print(\"you will be\",age+1,\"next year\")"
   ]
  },
  {
   "cell_type": "code",
   "execution_count": 4,
   "id": "9dcbcca3",
   "metadata": {},
   "outputs": [
    {
     "name": "stdout",
     "output_type": "stream",
     "text": [
      "6 4\n"
     ]
    }
   ],
   "source": [
    "\"\"\"\n",
    "Q.26 What will be the output of the following code:\n",
    "     x,y=2,6\n",
    "     x,y=y,x+2\n",
    "     print(x,y)\n",
    "\"\"\"\n",
    "\n",
    "x,y=2,6\n",
    "x,y=y,x+2\n",
    "\n",
    "print(x,y)"
   ]
  },
  {
   "cell_type": "code",
   "execution_count": 5,
   "id": "55b707aa",
   "metadata": {},
   "outputs": [
    {
     "name": "stdout",
     "output_type": "stream",
     "text": [
      "17 5\n"
     ]
    }
   ],
   "source": [
    "\"\"\"\n",
    "Q.27 Predict the output of following:\n",
    "     x,y=7,2\n",
    "     x,y,x=x+1,y+3,x+10\n",
    "     print(x,y)\n",
    "\"\"\"\n",
    "x,y=7,2\n",
    "x,y,x=x+1,y+3,x+10\n",
    "print(x,y)"
   ]
  },
  {
   "cell_type": "code",
   "execution_count": 6,
   "id": "820b3ed3",
   "metadata": {},
   "outputs": [
    {
     "name": "stdout",
     "output_type": "stream",
     "text": [
      "Miles: 3\n",
      "Kilometres: 4.82803349367769\n"
     ]
    }
   ],
   "source": [
    "\"\"\"\n",
    "Q.28 Write a program to input a value in miles and convert it to kilometres. (1 km=0.621371 miles)\n",
    "\"\"\"\n",
    "\n",
    "miles=int(input(\"Enter miles: \"))\n",
    "km=miles/0.621371\n",
    "print(\"Miles:\",miles)\n",
    "print(\"Kilometres:\",km)"
   ]
  },
  {
   "cell_type": "code",
   "execution_count": 7,
   "id": "529da1ad",
   "metadata": {},
   "outputs": [
    {
     "name": "stdout",
     "output_type": "stream",
     "text": [
      "Original Number: 10 5 12\n",
      "After Swapping: 27 15 12\n"
     ]
    }
   ],
   "source": [
    "\"\"\"\n",
    "Q.29 Write a program to input three numbers and swap them as this:\n",
    "     2nd number gets the value of 1st+2nd number, 3rd number gets the value of 2nd+3rd number.\n",
    "\"\"\"\n",
    "\n",
    "x=int(input(\"Enter the Number 1: \"))\n",
    "y=int(input(\"Enter the Number 2: \"))\n",
    "z=int(input(\"Enter the Number 3: \"))\n",
    "print(\"Original Number:\",x,y,z)\n",
    "x,y,x=x,x+y,x+y+z\n",
    "print(\"After Swapping:\",x,y,z)"
   ]
  },
  {
   "cell_type": "code",
   "execution_count": 8,
   "id": "5ed96593",
   "metadata": {},
   "outputs": [],
   "source": [
    "\"\"\"\n",
    "Q.30 Write the correspondinf Python assignment statements:\n",
    "     \n",
    "     (a) Assign 10 to variable length and 20 to variable breadth\n",
    "     (b) Assign the average of values of variables length and breadth to a variable sum.\n",
    "\"\"\"\n",
    "\n",
    "length,breadth=10,20\n",
    "sum=(length+breadth)/2"
   ]
  },
  {
   "cell_type": "code",
   "execution_count": 9,
   "id": "414c0b22",
   "metadata": {},
   "outputs": [
    {
     "name": "stdout",
     "output_type": "stream",
     "text": [
      "Three Number are: 10 5 12\n",
      "Average of the given Numbers: 9.0\n"
     ]
    }
   ],
   "source": [
    "\"\"\"\n",
    "Q.31 Write a program to find the average of 3 numbers.\n",
    "\"\"\"\n",
    "\n",
    "x=int(input(\"Enter the Number 1: \"))\n",
    "y=int(input(\"Enter the Number 2: \"))\n",
    "z=int(input(\"Enter the Number 3: \"))\n",
    "print(\"Three Number are:\",x,y,z)\n",
    "avg=(x+y+z)/3\n",
    "print(\"Average of the given Numbers:\",avg)"
   ]
  },
  {
   "cell_type": "code",
   "execution_count": 1,
   "id": "bbc57b61",
   "metadata": {},
   "outputs": [
    {
     "ename": "SyntaxError",
     "evalue": "invalid decimal literal (1039301806.py, line 2)",
     "output_type": "error",
     "traceback": [
      "  \u001b[36mCell\u001b[39m\u001b[36m \u001b[39m\u001b[32mIn[1]\u001b[39m\u001b[32m, line 2\u001b[39m\n\u001b[31m    \u001b[39m\u001b[31m56thnumber=3300\u001b[39m\n     ^\n\u001b[31mSyntaxError\u001b[39m\u001b[31m:\u001b[39m invalid decimal literal\n"
     ]
    }
   ],
   "source": [
    "x=55\n",
    "56thnumber=3300\n",
    "length=450.17\n",
    "!Taylor='Instant'\n",
    "this variable=87.E02\n",
    "float=.17E-03\n",
    "FLOAT = 0.17E-03"
   ]
  },
  {
   "cell_type": "code",
   "execution_count": 2,
   "id": "fe4ce270",
   "metadata": {},
   "outputs": [
    {
     "data": {
      "text/plain": [
       "1220"
      ]
     },
     "execution_count": 2,
     "metadata": {},
     "output_type": "execute_result"
    }
   ],
   "source": [
    "20+30*40"
   ]
  },
  {
   "cell_type": "code",
   "execution_count": 3,
   "id": "b3d525e5",
   "metadata": {},
   "outputs": [
    {
     "data": {
      "text/plain": [
       "30"
      ]
     },
     "execution_count": 3,
     "metadata": {},
     "output_type": "execute_result"
    }
   ],
   "source": [
    "20-30+40"
   ]
  },
  {
   "cell_type": "code",
   "execution_count": 4,
   "id": "ec913451",
   "metadata": {},
   "outputs": [
    {
     "data": {
      "text/plain": [
       "2000"
      ]
     },
     "execution_count": 4,
     "metadata": {},
     "output_type": "execute_result"
    }
   ],
   "source": [
    "(20+30)*40"
   ]
  },
  {
   "cell_type": "code",
   "execution_count": 5,
   "id": "c3c9d9ff",
   "metadata": {},
   "outputs": [
    {
     "data": {
      "text/plain": [
       "14.75"
      ]
     },
     "execution_count": 5,
     "metadata": {},
     "output_type": "execute_result"
    }
   ],
   "source": [
    "15.0/4+(8+3.0)"
   ]
  },
  {
   "cell_type": "code",
   "execution_count": 6,
   "id": "4d4a7a6f",
   "metadata": {},
   "outputs": [
    {
     "ename": "SyntaxError",
     "evalue": "Missing parentheses in call to 'print'. Did you mean print(...)? (322647921.py, line 2)",
     "output_type": "error",
     "traceback": [
      "  \u001b[36mCell\u001b[39m\u001b[36m \u001b[39m\u001b[32mIn[6]\u001b[39m\u001b[32m, line 2\u001b[39m\n\u001b[31m    \u001b[39m\u001b[31mprint temperature\u001b[39m\n    ^\n\u001b[31mSyntaxError\u001b[39m\u001b[31m:\u001b[39m Missing parentheses in call to 'print'. Did you mean print(...)?\n"
     ]
    }
   ],
   "source": [
    "temperatire=90\n",
    "print temperature"
   ]
  },
  {
   "cell_type": "code",
   "execution_count": 7,
   "id": "2e1e3f1d",
   "metadata": {},
   "outputs": [
    {
     "ename": "SyntaxError",
     "evalue": "invalid syntax. Perhaps you forgot a comma? (4090909564.py, line 3)",
     "output_type": "error",
     "traceback": [
      "  \u001b[36mCell\u001b[39m\u001b[36m \u001b[39m\u001b[32mIn[7]\u001b[39m\u001b[32m, line 3\u001b[39m\n\u001b[31m    \u001b[39m\u001b[31mprint(a And b)\u001b[39m\n          ^\n\u001b[31mSyntaxError\u001b[39m\u001b[31m:\u001b[39m invalid syntax. Perhaps you forgot a comma?\n"
     ]
    }
   ],
   "source": [
    "a=30\n",
    "b=a+b\n",
    "print(a And b)"
   ]
  },
  {
   "cell_type": "code",
   "execution_count": 8,
   "id": "d50029e6",
   "metadata": {},
   "outputs": [
    {
     "ename": "SyntaxError",
     "evalue": "invalid syntax (2173319694.py, line 4)",
     "output_type": "error",
     "traceback": [
      "  \u001b[36mCell\u001b[39m\u001b[36m \u001b[39m\u001b[32mIn[8]\u001b[39m\u001b[32m, line 4\u001b[39m\n\u001b[31m    \u001b[39m\u001b[31mprint(a;b;c)\u001b[39m\n           ^\n\u001b[31mSyntaxError\u001b[39m\u001b[31m:\u001b[39m invalid syntax\n"
     ]
    }
   ],
   "source": [
    "a,b,c=2,8,9\n",
    "print(a,b,c)\n",
    "c,b,a=a,b,c\n",
    "print(a;b;c)"
   ]
  },
  {
   "cell_type": "code",
   "execution_count": 9,
   "id": "661594f3",
   "metadata": {},
   "outputs": [
    {
     "ename": "SyntaxError",
     "evalue": "cannot assign to literal here. Maybe you meant '==' instead of '='? (1723670334.py, line 2)",
     "output_type": "error",
     "traceback": [
      "  \u001b[36mCell\u001b[39m\u001b[36m \u001b[39m\u001b[32mIn[9]\u001b[39m\u001b[32m, line 2\u001b[39m\n\u001b[31m    \u001b[39m\u001b[31m4=x\u001b[39m\n    ^\n\u001b[31mSyntaxError\u001b[39m\u001b[31m:\u001b[39m cannot assign to literal here. Maybe you meant '==' instead of '='?\n"
     ]
    }
   ],
   "source": [
    "x=24\n",
    "4=x"
   ]
  },
  {
   "cell_type": "code",
   "execution_count": 10,
   "id": "aaa3ed34",
   "metadata": {},
   "outputs": [
    {
     "ename": "SyntaxError",
     "evalue": "invalid syntax. Perhaps you forgot a comma? (626322504.py, line 1)",
     "output_type": "error",
     "traceback": [
      "  \u001b[36mCell\u001b[39m\u001b[36m \u001b[39m\u001b[32mIn[10]\u001b[39m\u001b[32m, line 1\u001b[39m\n\u001b[31m    \u001b[39m\u001b[31mprint(\"X=\"X)\u001b[39m\n          ^\n\u001b[31mSyntaxError\u001b[39m\u001b[31m:\u001b[39m invalid syntax. Perhaps you forgot a comma?\n"
     ]
    }
   ],
   "source": [
    "print(\"X=\"X)"
   ]
  },
  {
   "cell_type": "code",
   "execution_count": 11,
   "id": "6002863f",
   "metadata": {},
   "outputs": [
    {
     "ename": "SyntaxError",
     "evalue": "invalid syntax (2866793461.py, line 1)",
     "output_type": "error",
     "traceback": [
      "  \u001b[36mCell\u001b[39m\u001b[36m \u001b[39m\u001b[32mIn[11]\u001b[39m\u001b[32m, line 1\u001b[39m\n\u001b[31m    \u001b[39m\u001b[31melse=21-5\u001b[39m\n    ^\n\u001b[31mSyntaxError\u001b[39m\u001b[31m:\u001b[39m invalid syntax\n"
     ]
    }
   ],
   "source": [
    "else=21-5"
   ]
  },
  {
   "cell_type": "code",
   "execution_count": 12,
   "id": "7918484c",
   "metadata": {},
   "outputs": [
    {
     "name": "stdout",
     "output_type": "stream",
     "text": [
      "15\n",
      "13 22\n"
     ]
    }
   ],
   "source": [
    "X=10\n",
    "X=X+10\n",
    "X=X-5\n",
    "print(X)\n",
    "X,Y=X-2,22\n",
    "print(X,Y)"
   ]
  },
  {
   "cell_type": "code",
   "execution_count": 13,
   "id": "5b8717f1",
   "metadata": {},
   "outputs": [
    {
     "name": "stdout",
     "output_type": "stream",
     "text": [
      "2 3 6\n",
      "11 3 14\n"
     ]
    }
   ],
   "source": [
    "first=2\n",
    "second=3\n",
    "third=first*second\n",
    "print(first,second,third)\n",
    "first=first+second+third\n",
    "third=second+first\n",
    "print(first,second,third)"
   ]
  },
  {
   "cell_type": "code",
   "execution_count": 14,
   "id": "a1a4cdf6",
   "metadata": {},
   "outputs": [
    {
     "name": "stdout",
     "output_type": "stream",
     "text": [
      "3 9\n"
     ]
    }
   ],
   "source": [
    "side=int(input('side'))\n",
    "area=side*side\n",
    "print(side,area)"
   ]
  },
  {
   "cell_type": "code",
   "execution_count": 16,
   "id": "1444200f",
   "metadata": {},
   "outputs": [
    {
     "ename": "IndentationError",
     "evalue": "unexpected indent (2945707120.py, line 2)",
     "output_type": "error",
     "traceback": [
      "  \u001b[36mCell\u001b[39m\u001b[36m \u001b[39m\u001b[32mIn[16]\u001b[39m\u001b[32m, line 2\u001b[39m\n\u001b[31m    \u001b[39m\u001b[31mprint(a)\u001b[39m\n    ^\n\u001b[31mIndentationError\u001b[39m\u001b[31m:\u001b[39m unexpected indent\n"
     ]
    }
   ],
   "source": [
    "a=3\n",
    "    print(a)\n",
    "b=4\n",
    "    print(b)\n",
    "s=a+b\n",
    "    print(s)"
   ]
  },
  {
   "cell_type": "code",
   "execution_count": 17,
   "id": "e9722cb5",
   "metadata": {},
   "outputs": [
    {
     "ename": "TypeError",
     "evalue": "can only concatenate str (not \"int\") to str",
     "output_type": "error",
     "traceback": [
      "\u001b[31m---------------------------------------------------------------------------\u001b[39m",
      "\u001b[31mTypeError\u001b[39m                                 Traceback (most recent call last)",
      "\u001b[36mCell\u001b[39m\u001b[36m \u001b[39m\u001b[32mIn[17]\u001b[39m\u001b[32m, line 3\u001b[39m\n\u001b[32m      1\u001b[39m name=\u001b[33m\"\u001b[39m\u001b[33mAda\u001b[39m\u001b[33m\"\u001b[39m\n\u001b[32m      2\u001b[39m age=\u001b[32m26\u001b[39m\n\u001b[32m----> \u001b[39m\u001b[32m3\u001b[39m \u001b[38;5;28mprint\u001b[39m(\u001b[33m\"\u001b[39m\u001b[33mYour name & age are\u001b[39m\u001b[33m\"\u001b[39m,\u001b[43mname\u001b[49m\u001b[43m+\u001b[49m\u001b[43mage\u001b[49m)\n",
      "\u001b[31mTypeError\u001b[39m: can only concatenate str (not \"int\") to str"
     ]
    }
   ],
   "source": [
    "name=\"Ada\"\n",
    "age=26\n",
    "print(\"Your name & age are\",name+age)"
   ]
  },
  {
   "cell_type": "code",
   "execution_count": 18,
   "id": "089dcf1d",
   "metadata": {},
   "outputs": [
    {
     "ename": "TypeError",
     "evalue": "unsupported operand type(s) for /: 'str' and 'int'",
     "output_type": "error",
     "traceback": [
      "\u001b[31m---------------------------------------------------------------------------\u001b[39m",
      "\u001b[31mTypeError\u001b[39m                                 Traceback (most recent call last)",
      "\u001b[36mCell\u001b[39m\u001b[36m \u001b[39m\u001b[32mIn[18]\u001b[39m\u001b[32m, line 4\u001b[39m\n\u001b[32m      2\u001b[39m s=a+\u001b[32m10\u001b[39m\n\u001b[32m      3\u001b[39m a=\u001b[33m\"\u001b[39m\u001b[33mNew\u001b[39m\u001b[33m\"\u001b[39m\n\u001b[32m----> \u001b[39m\u001b[32m4\u001b[39m q=\u001b[43ma\u001b[49m\u001b[43m/\u001b[49m\u001b[32;43m10\u001b[39;49m\n",
      "\u001b[31mTypeError\u001b[39m: unsupported operand type(s) for /: 'str' and 'int'"
     ]
    }
   ],
   "source": [
    "a=3\n",
    "s=a+10\n",
    "a=\"New\"\n",
    "q=a/10"
   ]
  },
  {
   "cell_type": "code",
   "execution_count": 20,
   "id": "33632312",
   "metadata": {},
   "outputs": [
    {
     "name": "stdout",
     "output_type": "stream",
     "text": [
      "(20, 81) 41\n"
     ]
    }
   ],
   "source": [
    "x=40\n",
    "y=x+1\n",
    "x=20,y+X\n",
    "print(x,y)"
   ]
  },
  {
   "cell_type": "code",
   "execution_count": 21,
   "id": "9283d8fc",
   "metadata": {},
   "outputs": [
    {
     "name": "stdout",
     "output_type": "stream",
     "text": [
      "50 30\n"
     ]
    }
   ],
   "source": [
    "x,y=20,60\n",
    "y,x,y=x,y-10,x+10\n",
    "print(x,y)"
   ]
  },
  {
   "cell_type": "code",
   "execution_count": 22,
   "id": "7665c4d3",
   "metadata": {},
   "outputs": [
    {
     "name": "stdout",
     "output_type": "stream",
     "text": [
      "12 6.0 24\n"
     ]
    }
   ],
   "source": [
    "a,b=12,13\n",
    "c,b=a*2,a/2\n",
    "print(a,b,c)"
   ]
  },
  {
   "cell_type": "code",
   "execution_count": 23,
   "id": "90601312",
   "metadata": {},
   "outputs": [
    {
     "name": "stdout",
     "output_type": "stream",
     "text": [
      "25\n",
      "None\n"
     ]
    }
   ],
   "source": [
    "a,b=12,13\n",
    "print(print(a+b))"
   ]
  },
  {
   "cell_type": "code",
   "execution_count": 26,
   "id": "7b2e43a6",
   "metadata": {},
   "outputs": [
    {
     "name": "stdout",
     "output_type": "stream",
     "text": [
      "a,b,c: 10 20 30 p,q,r: 25 13 16\n"
     ]
    }
   ],
   "source": [
    "a,b,c=10,20,30\n",
    "p,q,r=c-5,a+3,b-4\n",
    "print('a,b,c:',a,b,c,end=\" \")\n",
    "print('p,q,r:',p,q,r)"
   ]
  },
  {
   "cell_type": "code",
   "execution_count": 27,
   "id": "752b7d94",
   "metadata": {},
   "outputs": [
    {
     "name": "stdout",
     "output_type": "stream",
     "text": [
      "50 55\n"
     ]
    }
   ],
   "source": [
    "y=x+5\n",
    "print(x,y)"
   ]
  },
  {
   "cell_type": "code",
   "execution_count": 28,
   "id": "53dfaba5",
   "metadata": {},
   "outputs": [
    {
     "ename": "SyntaxError",
     "evalue": "invalid syntax (2065265487.py, line 1)",
     "output_type": "error",
     "traceback": [
      "  \u001b[36mCell\u001b[39m\u001b[36m \u001b[39m\u001b[32mIn[28]\u001b[39m\u001b[32m, line 1\u001b[39m\n\u001b[31m    \u001b[39m\u001b[31mprint(x=y=5)\u001b[39m\n             ^\n\u001b[31mSyntaxError\u001b[39m\u001b[31m:\u001b[39m invalid syntax\n"
     ]
    }
   ],
   "source": [
    "print(x=y=5)"
   ]
  },
  {
   "cell_type": "code",
   "execution_count": 29,
   "id": "bf059fb7",
   "metadata": {},
   "outputs": [
    {
     "ename": "TypeError",
     "evalue": "unsupported operand type(s) for /: 'str' and 'int'",
     "output_type": "error",
     "traceback": [
      "\u001b[31m---------------------------------------------------------------------------\u001b[39m",
      "\u001b[31mTypeError\u001b[39m                                 Traceback (most recent call last)",
      "\u001b[36mCell\u001b[39m\u001b[36m \u001b[39m\u001b[32mIn[29]\u001b[39m\u001b[32m, line 2\u001b[39m\n\u001b[32m      1\u001b[39m a=\u001b[38;5;28minput\u001b[39m(\u001b[33m\"\u001b[39m\u001b[33mvalue\u001b[39m\u001b[33m\"\u001b[39m)\n\u001b[32m----> \u001b[39m\u001b[32m2\u001b[39m b=\u001b[43ma\u001b[49m\u001b[43m/\u001b[49m\u001b[32;43m2\u001b[39;49m\n\u001b[32m      3\u001b[39m \u001b[38;5;28mprint\u001b[39m(a,b)\n",
      "\u001b[31mTypeError\u001b[39m: unsupported operand type(s) for /: 'str' and 'int'"
     ]
    }
   ],
   "source": [
    "a=input(\"value\")\n",
    "b=a/2\n",
    "print(a,b)"
   ]
  },
  {
   "cell_type": "code",
   "execution_count": 31,
   "id": "e02faded",
   "metadata": {},
   "outputs": [
    {
     "ename": "ValueError",
     "evalue": "invalid literal for int() with base 10: 'XII'",
     "output_type": "error",
     "traceback": [
      "\u001b[31m---------------------------------------------------------------------------\u001b[39m",
      "\u001b[31mValueError\u001b[39m                                Traceback (most recent call last)",
      "\u001b[36mCell\u001b[39m\u001b[36m \u001b[39m\u001b[32mIn[31]\u001b[39m\u001b[32m, line 1\u001b[39m\n\u001b[32m----> \u001b[39m\u001b[32m1\u001b[39m c=\u001b[38;5;28;43mint\u001b[39;49m\u001b[43m(\u001b[49m\u001b[38;5;28;43minput\u001b[39;49m\u001b[43m(\u001b[49m\u001b[33;43m\"\u001b[39;49m\u001b[33;43mEnter your class\u001b[39;49m\u001b[33;43m\"\u001b[39;49m\u001b[43m)\u001b[49m\u001b[43m)\u001b[49m\n\u001b[32m      2\u001b[39m \u001b[38;5;28mprint\u001b[39m(\u001b[33m\"\u001b[39m\u001b[33mYour class is\u001b[39m\u001b[33m\"\u001b[39m,c)\n",
      "\u001b[31mValueError\u001b[39m: invalid literal for int() with base 10: 'XII'"
     ]
    }
   ],
   "source": [
    "c=int(input(\"Enter your class\"))\n",
    "print(\"Your class is\",c)"
   ]
  },
  {
   "cell_type": "code",
   "execution_count": 32,
   "id": "3f40bb2f",
   "metadata": {},
   "outputs": [
    {
     "name": "stdout",
     "output_type": "stream",
     "text": [
      "Hi Ada ,\n",
      "How are you doing?\n"
     ]
    }
   ],
   "source": [
    "name=input(\"What is your name?\")\n",
    "print(\"Hi\",name,\",\") #end=\" \"\n",
    "print(\"How are you doing?\")"
   ]
  },
  {
   "cell_type": "code",
   "execution_count": 33,
   "id": "82e09105",
   "metadata": {},
   "outputs": [
    {
     "ename": "SyntaxError",
     "evalue": "invalid syntax (1893280303.py, line 2)",
     "output_type": "error",
     "traceback": [
      "  \u001b[36mCell\u001b[39m\u001b[36m \u001b[39m\u001b[32mIn[33]\u001b[39m\u001b[32m, line 2\u001b[39m\n\u001b[31m    \u001b[39m\u001b[31mprint(\"Last year you were in class\") c-1\u001b[39m\n                                         ^\n\u001b[31mSyntaxError\u001b[39m\u001b[31m:\u001b[39m invalid syntax\n"
     ]
    }
   ],
   "source": [
    "c=input(\"Enter your class\")\n",
    "print(\"Last year you were in class\") c-1"
   ]
  },
  {
   "cell_type": "code",
   "execution_count": null,
   "id": "63081bb9",
   "metadata": {},
   "outputs": [],
   "source": []
  }
 ],
 "metadata": {
  "kernelspec": {
   "display_name": "Python 3",
   "language": "python",
   "name": "python3"
  },
  "language_info": {
   "codemirror_mode": {
    "name": "ipython",
    "version": 3
   },
   "file_extension": ".py",
   "mimetype": "text/x-python",
   "name": "python",
   "nbconvert_exporter": "python",
   "pygments_lexer": "ipython3",
   "version": "3.13.3"
  }
 },
 "nbformat": 4,
 "nbformat_minor": 5
}
