{
 "cells": [
  {
   "cell_type": "code",
   "execution_count": 1,
   "id": "ffcc1818",
   "metadata": {},
   "outputs": [
    {
     "name": "stdout",
     "output_type": "stream",
     "text": [
      "Your Existence\n"
     ]
    }
   ],
   "source": [
    "\"\"\" \n",
    "Q.1 Write a program that displays a joke. But display the punchline only when the user presses enter key.\n",
    "    (Hint: You may use input())\n",
    "\"\"\"\n",
    "\n",
    "input(\"Press enter if you wanna hear a joke\")\n",
    "print(\"Your Existence\")"
   ]
  },
  {
   "cell_type": "code",
   "execution_count": 3,
   "id": "8301505d",
   "metadata": {},
   "outputs": [
    {
     "name": "stdout",
     "output_type": "stream",
     "text": [
      "27\n"
     ]
    }
   ],
   "source": [
    "\"\"\" \n",
    "Q.2 Write a program to read today's date (only day part) from user. Then display how many days are left in the current month\n",
    "\"\"\"\n",
    "\n",
    "date=input(\"Enter today's date (dd/mm/yyyy): \")\n",
    "day=date[0:2]\n",
    "days_left=30-int(day)\n",
    "print(days_left)"
   ]
  },
  {
   "cell_type": "code",
   "execution_count": 4,
   "id": "5af7fb41",
   "metadata": {},
   "outputs": [
    {
     "name": "stdout",
     "output_type": "stream",
     "text": [
      "5\n",
      "10\n",
      "9\n"
     ]
    }
   ],
   "source": [
    "\"\"\" \n",
    "Q.3 Write a program that generates the following output:\n",
    "    5\n",
    "    10\n",
    "    9\n",
    "    Assign value 5 to a variable using assignment operator (=) Multiply it with 2 to generate 10 and subtract 1 to generate 9.\n",
    "\"\"\"\n",
    "\n",
    "a=5\n",
    "print(a)\n",
    "print(a*2)\n",
    "print(a*2-1)"
   ]
  },
  {
   "cell_type": "code",
   "execution_count": 6,
   "id": "895d8860",
   "metadata": {},
   "outputs": [
    {
     "name": "stdout",
     "output_type": "stream",
     "text": [
      "5@10@9\n"
     ]
    }
   ],
   "source": [
    "\"\"\" \n",
    "Q.4 Modify the above program so as to print output as 5@10@9\n",
    "\"\"\"\n",
    "\n",
    "a=5\n",
    "print(a,end=\"@\")\n",
    "print(a*2,end=\"@\")\n",
    "print(a*2-1)"
   ]
  },
  {
   "cell_type": "code",
   "execution_count": 7,
   "id": "e397bdd9",
   "metadata": {},
   "outputs": [
    {
     "name": "stdout",
     "output_type": "stream",
     "text": [
      "2 4 6 8 10\n"
     ]
    }
   ],
   "source": [
    "\"\"\" \n",
    "Q.5 Write the program with maximum three lines of code and that assigns first 5 multiples of a number to 5 variables and then print them\n",
    "\"\"\"\n",
    "\n",
    "a=2\n",
    "b,c,d,e,f=2,4,6,8,10\n",
    "print(b,c,d,e,f)"
   ]
  },
  {
   "cell_type": "code",
   "execution_count": 8,
   "id": "ec573011",
   "metadata": {},
   "outputs": [
    {
     "name": "stdout",
     "output_type": "stream",
     "text": [
      "Area of the Circle is: 28.26\n"
     ]
    }
   ],
   "source": [
    "\"\"\" \n",
    "Q.6 Write a python program that accepts radius of a circle and prints its area.\n",
    "\"\"\"\n",
    "\n",
    "radius=float(input(\"Enter the Radius of the Circle: \"))\n",
    "area=3.14*radius**2\n",
    "print(\"Area of the Circle is:\",area)"
   ]
  },
  {
   "cell_type": "code",
   "execution_count": 10,
   "id": "9495abd5",
   "metadata": {},
   "outputs": [
    {
     "name": "stdout",
     "output_type": "stream",
     "text": [
      "Average: 86.0\n"
     ]
    }
   ],
   "source": [
    "\"\"\" \n",
    "Q.7 Write Python program that accepts marks in 5 subjects and outputs average marks.\n",
    "\"\"\"\n",
    "\n",
    "physics=float(input(\"Enter the Marks of Physics: \"))\n",
    "chemistry=float(input(\"Enter the Marks of Chemistry: \"))\n",
    "maths=float(input(\"Enter the Marks of Maths: \"))\n",
    "ip=float(input(\"Enter the Marks of IP: \"))\n",
    "english=float(input(\"Enter the Marks of English: \"))\n",
    "avg=(physics+chemistry+maths+ip+english)/5\n",
    "print(\"Average:\",avg)"
   ]
  },
  {
   "cell_type": "code",
   "execution_count": 11,
   "id": "c77b278a",
   "metadata": {},
   "outputs": [
    {
     "name": "stdout",
     "output_type": "stream",
     "text": [
      "Height: 5.413385826771653\n"
     ]
    }
   ],
   "source": [
    "\"\"\" \n",
    "Q.8 Write a short program that asks for your height in centimetres and then converts your height to feet and inches. (1 foot=12 inches, 1 inch=2.54 cm).\n",
    "\"\"\"\n",
    "\n",
    "height=float(input(\"Enter Your Height (in cm): \"))\n",
    "height_inch=height/2.54\n",
    "height_feet=height_inch/12\n",
    "print(\"Height:\",height_feet)"
   ]
  },
  {
   "cell_type": "code",
   "execution_count": 12,
   "id": "2fdf2648",
   "metadata": {},
   "outputs": [
    {
     "name": "stdout",
     "output_type": "stream",
     "text": [
      "3 9 27 81\n"
     ]
    }
   ],
   "source": [
    "\"\"\"\n",
    "Q.9 Write a program to read a number n and print n2, n3 and n4\n",
    "\"\"\"\n",
    "\n",
    "n=int(input(\"Enter a Number: \"))\n",
    "n2=n**2\n",
    "n3=n**3\n",
    "n4=n**4\n",
    "print(n,n2,n3,n4)"
   ]
  },
  {
   "cell_type": "code",
   "execution_count": 13,
   "id": "89edd2ef",
   "metadata": {},
   "outputs": [
    {
     "name": "stdout",
     "output_type": "stream",
     "text": [
      "Area of the Triangle is: 6.0\n"
     ]
    }
   ],
   "source": [
    "\"\"\" \n",
    "Q.10 Write a program to find area of a triangle\n",
    "\"\"\"\n",
    "\n",
    "base=float(input(\"Enter the Base of the Triangle: \"))\n",
    "height=float(input(\"Enter the Height of the Triangle: \"))\n",
    "area=(base*height)/2\n",
    "print(\"Area of the Triangle is:\",area)"
   ]
  },
  {
   "cell_type": "code",
   "execution_count": 14,
   "id": "abf483f1",
   "metadata": {},
   "outputs": [
    {
     "data": {
      "text/plain": [
       "' \\nQ.11 Write a Program to compute simple interest and compund interest\\n'"
      ]
     },
     "execution_count": 14,
     "metadata": {},
     "output_type": "execute_result"
    }
   ],
   "source": [
    "\"\"\" \n",
    "Q.11 Write a Program to compute simple interest and compund interest\n",
    "\"\"\""
   ]
  },
  {
   "cell_type": "code",
   "execution_count": 15,
   "id": "3a5958f3",
   "metadata": {},
   "outputs": [
    {
     "name": "stdout",
     "output_type": "stream",
     "text": [
      "2\n",
      "4\n",
      "6\n",
      "8\n",
      "10\n"
     ]
    }
   ],
   "source": [
    "\"\"\" \n",
    "Q.12 Write a program to input a number and print its first five multiples\n",
    "\"\"\"\n",
    "\n",
    "n=int(input(\"Enter a Number: \"))\n",
    "print(n*1)\n",
    "print(n*2)\n",
    "print(n*3)\n",
    "print(n*4)\n",
    "print(n*5)"
   ]
  },
  {
   "cell_type": "code",
   "execution_count": 19,
   "id": "37a29a6b",
   "metadata": {},
   "outputs": [
    {
     "name": "stdout",
     "output_type": "stream",
     "text": [
      "Ada 12 17\n",
      "\n",
      "\n",
      "Ada\n",
      "12\n",
      "17\n"
     ]
    }
   ],
   "source": [
    "\"\"\"\n",
    "Q.13 Write a program to read details like name, class, age, of a student and then print the details firstly in same line and then in separate lines. Make sure to have two blank lines in these two different types of prints.\n",
    "\"\"\"\n",
    "name=input(\"Enter the Name: \")\n",
    "std=int(input(\"Enter the Class: \"))\n",
    "age=int(input(\"Enter the Age: \"))\n",
    "print(name,std,age)\n",
    "print(\"\\n\")\n",
    "print(name,std,age,sep=\"\\n\")"
   ]
  },
  {
   "cell_type": "code",
   "execution_count": 20,
   "id": "514468a9",
   "metadata": {},
   "outputs": [
    {
     "name": "stdout",
     "output_type": "stream",
     "text": [
      "5 7 4\n"
     ]
    }
   ],
   "source": [
    "\"\"\" \n",
    "Q.14 Write a program to read three numbers in three variables and swap first two variables with the sums of first and second, second and third numbers respectively.\n",
    "\"\"\"\n",
    "\n",
    "num1=int(input(\"Enter the Number 1: \"))\n",
    "num2=int(input(\"Enter the Number 2: \"))\n",
    "num3=int(input(\"Enter the Number 3: \"))\n",
    "sum12=num1+num2\n",
    "sum23=num2+num3\n",
    "num1=sum12\n",
    "num2=sum23\n",
    "print(num1,num2,num3)"
   ]
  },
  {
   "cell_type": "code",
   "execution_count": 21,
   "id": "df2918fa",
   "metadata": {},
   "outputs": [
    {
     "data": {
      "text/plain": [
       "'\\nQ.15 Write a program to input the cost price, selling price and print the profit earned.\\n'"
      ]
     },
     "execution_count": 21,
     "metadata": {},
     "output_type": "execute_result"
    }
   ],
   "source": [
    "\"\"\"\n",
    "Q.15 Write a program to input the cost price, selling price and print the profit earned.\n",
    "\"\"\"\n",
    "\n"
   ]
  },
  {
   "cell_type": "code",
   "execution_count": 22,
   "id": "b5836bca",
   "metadata": {},
   "outputs": [
    {
     "data": {
      "text/plain": [
       "\" \\nQ.16 Write a program to input the total liabilities and shareholders' equity of a company and print its D/E ratios as (Total Liabilities)/(Total Shareholders' Equity).\\n\""
      ]
     },
     "execution_count": 22,
     "metadata": {},
     "output_type": "execute_result"
    }
   ],
   "source": [
    "\"\"\" \n",
    "Q.16 Write a program to input the total liabilities and shareholders' equity of a company and print its D/E ratios as (Total Liabilities)/(Total Shareholders' Equity).\n",
    "\"\"\"\n",
    "\n"
   ]
  },
  {
   "cell_type": "code",
   "execution_count": 23,
   "id": "e029c96f",
   "metadata": {},
   "outputs": [
    {
     "data": {
      "text/plain": [
       "\" \\nQ.17 Write a program to input a company's total assets and total equity and print its equity multiplier as (Total Assets)/(Total Equity)\\n\""
      ]
     },
     "execution_count": 23,
     "metadata": {},
     "output_type": "execute_result"
    }
   ],
   "source": [
    "\"\"\" \n",
    "Q.17 Write a program to input a company's total assets and total equity and print its equity multiplier as (Total Assets)/(Total Equity)\n",
    "\"\"\""
   ]
  },
  {
   "cell_type": "code",
   "execution_count": 25,
   "id": "33f50714",
   "metadata": {},
   "outputs": [
    {
     "data": {
      "text/plain": [
       "'\\nQ.18 Write a Program that accepts cost of goods sold (cgos) revenue generated, operating costs (oc) and prints Gross profit, net profit and net profit percentage.\\n     (Hint: Net profit=Revenue-cgos-oc)\\n'"
      ]
     },
     "execution_count": 25,
     "metadata": {},
     "output_type": "execute_result"
    }
   ],
   "source": [
    "\"\"\"\n",
    "Q.18 Write a Program that accepts cost of goods sold (cgos) revenue generated, operating costs (oc) and prints Gross profit, net profit and net profit percentage.\n",
    "     (Hint: Net profit=Revenue-cgos-oc)\n",
    "\"\"\""
   ]
  },
  {
   "cell_type": "code",
   "execution_count": null,
   "id": "178bfce1",
   "metadata": {},
   "outputs": [],
   "source": []
  }
 ],
 "metadata": {
  "kernelspec": {
   "display_name": "Python 3",
   "language": "python",
   "name": "python3"
  },
  "language_info": {
   "codemirror_mode": {
    "name": "ipython",
    "version": 3
   },
   "file_extension": ".py",
   "mimetype": "text/x-python",
   "name": "python",
   "nbconvert_exporter": "python",
   "pygments_lexer": "ipython3",
   "version": "3.13.3"
  }
 },
 "nbformat": 4,
 "nbformat_minor": 5
}
