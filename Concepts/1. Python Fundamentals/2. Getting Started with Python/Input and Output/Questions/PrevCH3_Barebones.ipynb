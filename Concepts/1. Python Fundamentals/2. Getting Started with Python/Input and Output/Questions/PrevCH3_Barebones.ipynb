{
 "cells": [
  {
   "cell_type": "code",
   "execution_count": 1,
   "id": "315821e4",
   "metadata": {},
   "outputs": [
    {
     "name": "stdout",
     "output_type": "stream",
     "text": [
      "18\n",
      "Value of 'a' was 15 or less initially.\n"
     ]
    }
   ],
   "source": [
    "# This program shows a program's components\n",
    "\n",
    "# Main program-code follows now\n",
    "a=15\n",
    "b=a-10\n",
    "print(a+3)\n",
    "if b>5:\n",
    "    print(\"Value of 'a' was more than 15 initially.\")\n",
    "else:\n",
    "    print(\"Value of 'a' was 15 or less initially.\")"
   ]
  },
  {
   "cell_type": "code",
   "execution_count": 2,
   "id": "f1e27cd8",
   "metadata": {},
   "outputs": [
    {
     "data": {
      "text/plain": [
       "2.0"
      ]
     },
     "execution_count": 2,
     "metadata": {},
     "output_type": "execute_result"
    }
   ],
   "source": [
    "#Expressions\n",
    "15\n",
    "2.9\n",
    "a+5\n",
    "(3+5)/4"
   ]
  },
  {
   "cell_type": "code",
   "execution_count": 3,
   "id": "79296265",
   "metadata": {},
   "outputs": [
    {
     "name": "stdout",
     "output_type": "stream",
     "text": [
      "Hello\n",
      "18\n"
     ]
    }
   ],
   "source": [
    "#Statement\n",
    "print(\"Hello\")\n",
    "if b>5:\n",
    "    pass\n",
    "a=15\n",
    "b=a-10\n",
    "print(a+3)"
   ]
  },
  {
   "cell_type": "code",
   "execution_count": 4,
   "id": "07f9144c",
   "metadata": {},
   "outputs": [
    {
     "data": {
      "text/plain": [
       "'\\nAnother \\nMulti\\nLine\\nComment'"
      ]
     },
     "execution_count": 4,
     "metadata": {},
     "output_type": "execute_result"
    }
   ],
   "source": [
    "#Comments\n",
    "\n",
    "#Single Line Comment\n",
    "a=10 #Inline Comment\n",
    "\n",
    "'''Multi\n",
    "Line\n",
    "Comment'''\n",
    "\n",
    "\"\"\"\n",
    "Another \n",
    "Multi\n",
    "Line\n",
    "Comment\"\"\""
   ]
  },
  {
   "cell_type": "code",
   "execution_count": null,
   "id": "7f73f39b",
   "metadata": {},
   "outputs": [],
   "source": [
    "#Blocks and indentation or Suite\n",
    "\n",
    "if b<5:\n",
    "    print(\"Value of 'b' is less than 5.\")\n",
    "    print(\"Thank you.\")"
   ]
  },
  {
   "cell_type": "code",
   "execution_count": 6,
   "id": "58f1c46b",
   "metadata": {},
   "outputs": [
    {
     "name": "stdout",
     "output_type": "stream",
     "text": [
      "Hello "
     ]
    }
   ],
   "source": [
    "print(\"Hello\",\\\n",
    "      end=\" \")"
   ]
  },
  {
   "cell_type": "code",
   "execution_count": 7,
   "id": "6857f2a0",
   "metadata": {},
   "outputs": [],
   "source": [
    "\"\"\" \n",
    "Create variables for the following\n",
    "\n",
    "(a) to hold a train number\n",
    "(b) to hold the name of a subject\n",
    "(c) to hold balance amount in a bank account\n",
    "(d) to hold a phone number\n",
    "\"\"\"\n",
    "\n",
    "train_number=1234567890\n",
    "subject=\"Physics\"\n",
    "balance=2000\n",
    "phone_number=90000000000"
   ]
  },
  {
   "cell_type": "code",
   "execution_count": 8,
   "id": "91ea950a",
   "metadata": {},
   "outputs": [],
   "source": [
    "\"\"\"\n",
    "What is wrong with the following statement: \n",
    "\n",
    "Number=input(\"Number\")\n",
    "Sqr=Number*Number\n",
    "\"\"\"\n",
    "\n",
    "number=int(input(\"Enter a Number: \"))\n",
    "square=number*number"
   ]
  },
  {
   "cell_type": "code",
   "execution_count": 9,
   "id": "36658592",
   "metadata": {},
   "outputs": [
    {
     "name": "stdout",
     "output_type": "stream",
     "text": [
      "2000\n"
     ]
    }
   ],
   "source": [
    "\"\"\" \n",
    "Write Python code to obtain the balance amount\n",
    "\"\"\"\n",
    "\n",
    "print(balance)"
   ]
  },
  {
   "cell_type": "code",
   "execution_count": 10,
   "id": "1cdd5042",
   "metadata": {},
   "outputs": [
    {
     "name": "stdout",
     "output_type": "stream",
     "text": [
      "Fee Hike: 500.0\n"
     ]
    }
   ],
   "source": [
    "\"\"\" \n",
    "Write code to obtain fee amount and then calculate fee hike as 10% of fees (i.e., fees*0.10)\n",
    "\"\"\"\n",
    "\n",
    "fee=float(input(\"Enter the Fee Amount: \"))\n",
    "fee_hike=0.10*fee\n",
    "print(\"Fee Hike:\",fee_hike)"
   ]
  },
  {
   "cell_type": "code",
   "execution_count": null,
   "id": "c08d2fbc",
   "metadata": {},
   "outputs": [],
   "source": []
  }
 ],
 "metadata": {
  "kernelspec": {
   "display_name": "Python 3",
   "language": "python",
   "name": "python3"
  },
  "language_info": {
   "codemirror_mode": {
    "name": "ipython",
    "version": 3
   },
   "file_extension": ".py",
   "mimetype": "text/x-python",
   "name": "python",
   "nbconvert_exporter": "python",
   "pygments_lexer": "ipython3",
   "version": "3.13.3"
  }
 },
 "nbformat": 4,
 "nbformat_minor": 5
}
