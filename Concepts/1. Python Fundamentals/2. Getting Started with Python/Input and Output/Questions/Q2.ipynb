{
 "cells": [
  {
   "cell_type": "code",
   "execution_count": 1,
   "id": "77cc0fa4",
   "metadata": {},
   "outputs": [
    {
     "data": {
      "text/plain": [
       "int"
      ]
     },
     "execution_count": 1,
     "metadata": {},
     "output_type": "execute_result"
    }
   ],
   "source": [
    "type(0)"
   ]
  },
  {
   "cell_type": "code",
   "execution_count": 2,
   "metadata": {},
   "outputs": [
    {
     "data": {
      "text/plain": [
       "int"
      ]
     },
     "execution_count": 2,
     "metadata": {},
     "output_type": "execute_result"
    }
   ],
   "source": [
    "type(int(0))"
   ]
  },
  {
   "cell_type": "code",
   "execution_count": 7,
   "id": "158dd3c9",
   "metadata": {},
   "outputs": [
    {
     "data": {
      "text/plain": [
       "int"
      ]
     },
     "execution_count": 7,
     "metadata": {},
     "output_type": "execute_result"
    }
   ],
   "source": [
    "type(int('0'))"
   ]
  },
  {
   "cell_type": "code",
   "execution_count": 4,
   "id": "9f0bc368",
   "metadata": {},
   "outputs": [
    {
     "data": {
      "text/plain": [
       "str"
      ]
     },
     "execution_count": 4,
     "metadata": {},
     "output_type": "execute_result"
    }
   ],
   "source": [
    "type('0')"
   ]
  },
  {
   "cell_type": "code",
   "execution_count": 5,
   "id": "28a54543",
   "metadata": {},
   "outputs": [
    {
     "data": {
      "text/plain": [
       "float"
      ]
     },
     "execution_count": 5,
     "metadata": {},
     "output_type": "execute_result"
    }
   ],
   "source": [
    "type(1.0)"
   ]
  },
  {
   "cell_type": "code",
   "execution_count": 6,
   "id": "2ebd8c1c",
   "metadata": {},
   "outputs": [
    {
     "data": {
      "text/plain": [
       "int"
      ]
     },
     "execution_count": 6,
     "metadata": {},
     "output_type": "execute_result"
    }
   ],
   "source": [
    "type(int(1.0))"
   ]
  },
  {
   "cell_type": "code",
   "execution_count": 8,
   "id": "712d3629",
   "metadata": {},
   "outputs": [
    {
     "data": {
      "text/plain": [
       "float"
      ]
     },
     "execution_count": 8,
     "metadata": {},
     "output_type": "execute_result"
    }
   ],
   "source": [
    "type(float(0))"
   ]
  },
  {
   "cell_type": "code",
   "execution_count": 9,
   "id": "47bea2f1",
   "metadata": {},
   "outputs": [
    {
     "data": {
      "text/plain": [
       "float"
      ]
     },
     "execution_count": 9,
     "metadata": {},
     "output_type": "execute_result"
    }
   ],
   "source": [
    "type(float(1.0))"
   ]
  },
  {
   "cell_type": "code",
   "execution_count": 10,
   "id": "34c2a64f",
   "metadata": {},
   "outputs": [
    {
     "data": {
      "text/plain": [
       "float"
      ]
     },
     "execution_count": 10,
     "metadata": {},
     "output_type": "execute_result"
    }
   ],
   "source": [
    "type(3/2)"
   ]
  },
  {
   "cell_type": "code",
   "execution_count": 11,
   "id": "de5e6d0b",
   "metadata": {},
   "outputs": [
    {
     "name": "stdout",
     "output_type": "stream",
     "text": [
      "\n"
     ]
    },
    {
     "data": {
      "text/plain": [
       "'NoneOne'"
      ]
     },
     "execution_count": 11,
     "metadata": {},
     "output_type": "execute_result"
    }
   ],
   "source": [
    "str(print())+\"One\""
   ]
  },
  {
   "cell_type": "code",
   "execution_count": 13,
   "id": "0e1f387e",
   "metadata": {},
   "outputs": [
    {
     "name": "stdout",
     "output_type": "stream",
     "text": [
      "hello\n"
     ]
    },
    {
     "data": {
      "text/plain": [
       "'NoneOne'"
      ]
     },
     "execution_count": 13,
     "metadata": {},
     "output_type": "execute_result"
    }
   ],
   "source": [
    "str(print(\"hello\"))+\"One\""
   ]
  },
  {
   "cell_type": "code",
   "execution_count": 14,
   "id": "c8ac633b",
   "metadata": {},
   "outputs": [
    {
     "name": "stdout",
     "output_type": "stream",
     "text": [
      "Hola\n",
      "None\n"
     ]
    }
   ],
   "source": [
    "print(print(\"Hola\"))"
   ]
  },
  {
   "cell_type": "code",
   "execution_count": 15,
   "id": "877e453b",
   "metadata": {},
   "outputs": [
    {
     "name": "stdout",
     "output_type": "stream",
     "text": [
      "Hola None\n"
     ]
    }
   ],
   "source": [
    "print(print(\"Hola\",end=\" \"))"
   ]
  },
  {
   "cell_type": "code",
   "execution_count": 16,
   "id": "4cdb9893",
   "metadata": {},
   "outputs": [
    {
     "name": "stdout",
     "output_type": "stream",
     "text": [
      "4 6 8\n"
     ]
    }
   ],
   "source": [
    "a,b,c=2,3,4\n",
    "a,b,c=a*a,a*b,a*c\n",
    "print(a,b,c)"
   ]
  },
  {
   "cell_type": "code",
   "execution_count": 17,
   "id": "f8459982",
   "metadata": {},
   "outputs": [
    {
     "name": "stdout",
     "output_type": "stream",
     "text": [
      "A\n",
      "\n",
      "B\n"
     ]
    }
   ],
   "source": [
    "print(\"A\")\n",
    "print()\n",
    "print(\"B\")"
   ]
  },
  {
   "cell_type": "code",
   "execution_count": 18,
   "id": "318073bd",
   "metadata": {},
   "outputs": [
    {
     "name": "stdout",
     "output_type": "stream",
     "text": [
      "A\n",
      "\n",
      "\n",
      "B\n"
     ]
    }
   ],
   "source": [
    "print(\"A\")\n",
    "print('\\n')\n",
    "print(\"B\")"
   ]
  },
  {
   "cell_type": "code",
   "execution_count": 19,
   "id": "60b45244",
   "metadata": {},
   "outputs": [
    {
     "ename": "TypeError",
     "evalue": "print() got an unexpected keyword argument 'num'",
     "output_type": "error",
     "traceback": [
      "\u001b[31m---------------------------------------------------------------------------\u001b[39m",
      "\u001b[31mTypeError\u001b[39m                                 Traceback (most recent call last)",
      "\u001b[36mCell\u001b[39m\u001b[36m \u001b[39m\u001b[32mIn[19]\u001b[39m\u001b[32m, line 1\u001b[39m\n\u001b[32m----> \u001b[39m\u001b[32m1\u001b[39m \u001b[38;5;28;43mprint\u001b[39;49m\u001b[43m(\u001b[49m\u001b[43mnum\u001b[49m\u001b[43m=\u001b[49m\u001b[38;5;28;43mfloat\u001b[39;49m\u001b[43m(\u001b[49m\u001b[38;5;28;43minput\u001b[39;49m\u001b[43m(\u001b[49m\u001b[33;43m\"\u001b[39;49m\u001b[33;43mvalue1:\u001b[39;49m\u001b[33;43m\"\u001b[39;49m\u001b[43m)\u001b[49m\u001b[43m)\u001b[49m\u001b[43m)\u001b[49m\n",
      "\u001b[31mTypeError\u001b[39m: print() got an unexpected keyword argument 'num'"
     ]
    }
   ],
   "source": [
    "print(num=float(input(\"value1:\")))"
   ]
  },
  {
   "cell_type": "code",
   "execution_count": 20,
   "id": "2b19eb6d",
   "metadata": {},
   "outputs": [
    {
     "name": "stdout",
     "output_type": "stream",
     "text": [
      "67.0\n"
     ]
    }
   ],
   "source": [
    "print(float(input(\"value1:\")))"
   ]
  },
  {
   "cell_type": "code",
   "execution_count": 23,
   "id": "ba8a0a81",
   "metadata": {},
   "outputs": [
    {
     "name": "stdout",
     "output_type": "stream",
     "text": [
      "Total number of seconds 329180\n"
     ]
    }
   ],
   "source": [
    "days=int(input(\"Input days: \"))*3600*24\n",
    "hours=int(input(\"Input hpurs: \"))*3600\n",
    "minutes=int(input(\"Input minutes:\"))*60\n",
    "seconds=int(input(\"Input seconds: \"))\n",
    "time=days+hours+minutes+seconds\n",
    "print(\"Total number of seconds\",time)"
   ]
  },
  {
   "cell_type": "code",
   "execution_count": 25,
   "id": "41345114",
   "metadata": {},
   "outputs": [
    {
     "ename": "NameError",
     "evalue": "name 'n4' is not defined",
     "output_type": "error",
     "traceback": [
      "\u001b[31m---------------------------------------------------------------------------\u001b[39m",
      "\u001b[31mNameError\u001b[39m                                 Traceback (most recent call last)",
      "\u001b[36mCell\u001b[39m\u001b[36m \u001b[39m\u001b[32mIn[25]\u001b[39m\u001b[32m, line 3\u001b[39m\n\u001b[32m      1\u001b[39m n1,n2=\u001b[32m5\u001b[39m,\u001b[32m7\u001b[39m\n\u001b[32m      2\u001b[39m n3=n1+n2\n\u001b[32m----> \u001b[39m\u001b[32m3\u001b[39m n4=\u001b[43mn4\u001b[49m+\u001b[32m2\u001b[39m\n\u001b[32m      4\u001b[39m \u001b[38;5;28mprint\u001b[39m(n1,n2,n3,n4)\n",
      "\u001b[31mNameError\u001b[39m: name 'n4' is not defined"
     ]
    }
   ],
   "source": [
    "n1,n2=5,7\n",
    "n3=n1+n2\n",
    "n4=n4+2\n",
    "print(n1,n2,n3,n4)"
   ]
  },
  {
   "cell_type": "code",
   "execution_count": 26,
   "id": "ae6316ca",
   "metadata": {},
   "outputs": [
    {
     "ename": "TypeError",
     "evalue": "can only concatenate str (not \"int\") to str",
     "output_type": "error",
     "traceback": [
      "\u001b[31m---------------------------------------------------------------------------\u001b[39m",
      "\u001b[31mTypeError\u001b[39m                                 Traceback (most recent call last)",
      "\u001b[36mCell\u001b[39m\u001b[36m \u001b[39m\u001b[32mIn[26]\u001b[39m\u001b[32m, line 2\u001b[39m\n\u001b[32m      1\u001b[39m val=\u001b[38;5;28minput\u001b[39m(\u001b[33m\"\u001b[39m\u001b[33mEnter a value\u001b[39m\u001b[33m\"\u001b[39m)\n\u001b[32m----> \u001b[39m\u001b[32m2\u001b[39m nval=\u001b[43mval\u001b[49m\u001b[43m+\u001b[49m\u001b[32;43m30\u001b[39;49m\n\u001b[32m      3\u001b[39m \u001b[38;5;28mprint\u001b[39m(nval)\n",
      "\u001b[31mTypeError\u001b[39m: can only concatenate str (not \"int\") to str"
     ]
    }
   ],
   "source": [
    "val=input(\"Enter a value\")\n",
    "nval=val+30\n",
    "print(nval)"
   ]
  },
  {
   "cell_type": "code",
   "execution_count": null,
   "id": "f1d9d0ca",
   "metadata": {},
   "outputs": [],
   "source": []
  }
 ],
 "metadata": {
  "kernelspec": {
   "display_name": "Python 3",
   "language": "python",
   "name": "python3"
  },
  "language_info": {
   "codemirror_mode": {
    "name": "ipython",
    "version": 3
   },
   "file_extension": ".py",
   "mimetype": "text/x-python",
   "name": "python",
   "nbconvert_exporter": "python",
   "pygments_lexer": "ipython3",
   "version": "3.13.3"
  }
 },
 "nbformat": 4,
 "nbformat_minor": 5
}
