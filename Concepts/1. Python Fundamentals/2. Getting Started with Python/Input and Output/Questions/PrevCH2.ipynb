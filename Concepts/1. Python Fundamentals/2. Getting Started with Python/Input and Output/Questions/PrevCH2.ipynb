{
 "cells": [
  {
   "cell_type": "code",
   "execution_count": 1,
   "id": "c9bcbf1a",
   "metadata": {},
   "outputs": [
    {
     "data": {
      "text/plain": [
       "7"
      ]
     },
     "execution_count": 1,
     "metadata": {},
     "output_type": "execute_result"
    }
   ],
   "source": [
    "2+5"
   ]
  },
  {
   "cell_type": "code",
   "execution_count": 2,
   "id": "d8e6cd47",
   "metadata": {},
   "outputs": [
    {
     "data": {
      "text/plain": [
       "13"
      ]
     },
     "execution_count": 2,
     "metadata": {},
     "output_type": "execute_result"
    }
   ],
   "source": [
    "s=13\n",
    "s"
   ]
  },
  {
   "cell_type": "code",
   "execution_count": 3,
   "id": "048328a2",
   "metadata": {},
   "outputs": [
    {
     "data": {
      "text/plain": [
       "33"
      ]
     },
     "execution_count": 3,
     "metadata": {},
     "output_type": "execute_result"
    }
   ],
   "source": [
    "s+20"
   ]
  },
  {
   "cell_type": "code",
   "execution_count": 4,
   "id": "3ac554d4",
   "metadata": {},
   "outputs": [
    {
     "name": "stdout",
     "output_type": "stream",
     "text": [
      "Hello World!\n"
     ]
    }
   ],
   "source": [
    "print(\"Hello World!\")"
   ]
  },
  {
   "cell_type": "code",
   "execution_count": 6,
   "id": "5632679b",
   "metadata": {},
   "outputs": [
    {
     "name": "stdout",
     "output_type": "stream",
     "text": [
      "Hello World\n",
      "I am programming in Python\n"
     ]
    }
   ],
   "source": [
    "print(\"Hello World\")\n",
    "print(\"I am programming in Python\")"
   ]
  },
  {
   "cell_type": "code",
   "execution_count": null,
   "id": "08bd41be",
   "metadata": {},
   "outputs": [],
   "source": [
    "python -c\n",
    "python -u"
   ]
  },
  {
   "cell_type": "code",
   "execution_count": 8,
   "id": "595eaffa",
   "metadata": {},
   "outputs": [
    {
     "name": "stdout",
     "output_type": "stream",
     "text": [
      "Hello World!\n"
     ]
    }
   ],
   "source": [
    "#My First Program\n",
    "print(\"Hello World!\")"
   ]
  },
  {
   "cell_type": "code",
   "execution_count": 9,
   "id": "ed750e0a",
   "metadata": {},
   "outputs": [
    {
     "name": "stdout",
     "output_type": "stream",
     "text": [
      "My Name is CVR\n"
     ]
    }
   ],
   "source": [
    "print('My Name is CVR')"
   ]
  },
  {
   "cell_type": "code",
   "execution_count": 1,
   "id": "bda43eb8",
   "metadata": {},
   "outputs": [
    {
     "name": "stdout",
     "output_type": "stream",
     "text": [
      "The Golden Ratio\n",
      "has same letters as\n",
      "The God Relation\n"
     ]
    }
   ],
   "source": [
    "print('The Golden Ratio')\n",
    "print(\"has same letters as\")\n",
    "print('The God Relation')"
   ]
  },
  {
   "cell_type": "code",
   "execution_count": null,
   "id": "e8ca5e0d",
   "metadata": {},
   "outputs": [],
   "source": [
    "\"Hello\"\n",
    "'Hello' \n",
    "\"Hello' \n",
    "'Hello\"\n",
    "{Hello} "
   ]
  },
  {
   "cell_type": "code",
   "execution_count": null,
   "id": "9f16a2a4",
   "metadata": {},
   "outputs": [],
   "source": []
  }
 ],
 "metadata": {
  "kernelspec": {
   "display_name": "Python 3",
   "language": "python",
   "name": "python3"
  },
  "language_info": {
   "codemirror_mode": {
    "name": "ipython",
    "version": 3
   },
   "file_extension": ".py",
   "mimetype": "text/x-python",
   "name": "python",
   "nbconvert_exporter": "python",
   "pygments_lexer": "ipython3",
   "version": "3.13.3"
  }
 },
 "nbformat": 4,
 "nbformat_minor": 5
}
