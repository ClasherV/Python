{
 "cells": [
  {
   "cell_type": "code",
   "execution_count": 4,
   "id": "a3298301",
   "metadata": {},
   "outputs": [
    {
     "data": {
      "text/plain": [
       "True"
      ]
     },
     "execution_count": 4,
     "metadata": {},
     "output_type": "execute_result"
    }
   ],
   "source": [
    "a=10\n",
    "b=10\n",
    "a is b"
   ]
  },
  {
   "cell_type": "code",
   "execution_count": 5,
   "id": "fd76357f",
   "metadata": {},
   "outputs": [
    {
     "name": "stdout",
     "output_type": "stream",
     "text": [
      "False\n",
      "True\n",
      "140707346137320\n",
      "140707346137480\n",
      "140707346137320\n"
     ]
    }
   ],
   "source": [
    "a=235\n",
    "b=240\n",
    "c=235\n",
    "print(a is b)\n",
    "print(a is c)\n",
    "print(id(a))\n",
    "print(id(b))\n",
    "print(id(c))"
   ]
  },
  {
   "cell_type": "code",
   "execution_count": 6,
   "id": "4039b71a",
   "metadata": {},
   "outputs": [
    {
     "name": "stdout",
     "output_type": "stream",
     "text": [
      "True\n",
      "140707346137320\n",
      "140707346137320\n",
      "140707346137320\n"
     ]
    }
   ],
   "source": [
    "b=b-5\n",
    "print(a is b)\n",
    "print(id(a))\n",
    "print(id(b))\n",
    "print(id(c))"
   ]
  },
  {
   "cell_type": "markdown",
   "id": "6d40fb00",
   "metadata": {},
   "source": [
    "<h1>== vs is<h1>"
   ]
  },
  {
   "cell_type": "code",
   "execution_count": 7,
   "id": "1f709fcb",
   "metadata": {},
   "outputs": [
    {
     "name": "stdout",
     "output_type": "stream",
     "text": [
      "235 235\n",
      "True\n",
      "True\n"
     ]
    }
   ],
   "source": [
    "print(a,b)\n",
    "print(a is b)\n",
    "print(a==b)"
   ]
  },
  {
   "cell_type": "code",
   "execution_count": 8,
   "id": "a740ea16",
   "metadata": {},
   "outputs": [
    {
     "name": "stdout",
     "output_type": "stream",
     "text": [
      "True\n",
      "False\n",
      "True\n"
     ]
    }
   ],
   "source": [
    "s1='abc'\n",
    "s2=input(\"Enter a String: \")\n",
    "print(s1==s2)\n",
    "print(s1 is s2)\n",
    "s3='abc'\n",
    "print(s1 is s3)"
   ]
  },
  {
   "cell_type": "code",
   "execution_count": 9,
   "id": "c0e1d417",
   "metadata": {},
   "outputs": [
    {
     "name": "stdout",
     "output_type": "stream",
     "text": [
      "True\n",
      "False\n"
     ]
    }
   ],
   "source": [
    "k=3.5\n",
    "L=float(input(\"Enter a Value: \"))\n",
    "print(k==L)\n",
    "print(k is L)"
   ]
  },
  {
   "cell_type": "code",
   "execution_count": 10,
   "id": "4f9c76fd",
   "metadata": {},
   "outputs": [
    {
     "name": "stdout",
     "output_type": "stream",
     "text": [
      "True\n",
      "False\n",
      "True\n"
     ]
    }
   ],
   "source": [
    "s1='abc'\n",
    "s2=input(\"Enter a String: \")\n",
    "print(s1==s2)\n",
    "print(s1 is s2)\n",
    "s3='abc'\n",
    "print(s1 is s3)"
   ]
  },
  {
   "cell_type": "code",
   "execution_count": null,
   "id": "e6b184cb",
   "metadata": {},
   "outputs": [],
   "source": []
  }
 ],
 "metadata": {
  "kernelspec": {
   "display_name": "Python 3",
   "language": "python",
   "name": "python3"
  },
  "language_info": {
   "codemirror_mode": {
    "name": "ipython",
    "version": 3
   },
   "file_extension": ".py",
   "mimetype": "text/x-python",
   "name": "python",
   "nbconvert_exporter": "python",
   "pygments_lexer": "ipython3",
   "version": "3.13.3"
  }
 },
 "nbformat": 4,
 "nbformat_minor": 5
}
