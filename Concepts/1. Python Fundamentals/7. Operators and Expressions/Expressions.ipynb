{
 "cells": [
  {
   "cell_type": "markdown",
   "id": "634ebeb0",
   "metadata": {},
   "source": [
    "<h1>Arithmetic Expression</h1>"
   ]
  },
  {
   "cell_type": "code",
   "execution_count": null,
   "id": "dddfc439",
   "metadata": {},
   "outputs": [],
   "source": [
    "a,b,c,d=1,2,3,4\n",
    "a+b>c**d or a*b<c*d"
   ]
  },
  {
   "cell_type": "markdown",
   "id": "ff62166e",
   "metadata": {},
   "source": [
    "<h1>Relational Expression</h1>"
   ]
  },
  {
   "cell_type": "code",
   "execution_count": 1,
   "id": "038b54b5",
   "metadata": {},
   "outputs": [
    {
     "data": {
      "text/plain": [
       "False"
      ]
     },
     "execution_count": 1,
     "metadata": {},
     "output_type": "execute_result"
    }
   ],
   "source": [
    "x,y,z,q=1,2,3,4\n",
    "x>y"
   ]
  },
  {
   "cell_type": "code",
   "execution_count": 2,
   "id": "c5cbf296",
   "metadata": {},
   "outputs": [
    {
     "data": {
      "text/plain": [
       "True"
      ]
     },
     "execution_count": 2,
     "metadata": {},
     "output_type": "execute_result"
    }
   ],
   "source": [
    "y<=z"
   ]
  },
  {
   "cell_type": "code",
   "execution_count": 7,
   "id": "d2f1b403",
   "metadata": {},
   "outputs": [
    {
     "data": {
      "text/plain": [
       "True"
      ]
     },
     "execution_count": 7,
     "metadata": {},
     "output_type": "execute_result"
    }
   ],
   "source": [
    "z!=x"
   ]
  },
  {
   "cell_type": "code",
   "execution_count": 3,
   "id": "515d8df7",
   "metadata": {},
   "outputs": [
    {
     "data": {
      "text/plain": [
       "False"
      ]
     },
     "execution_count": 3,
     "metadata": {},
     "output_type": "execute_result"
    }
   ],
   "source": [
    "z==q"
   ]
  },
  {
   "cell_type": "code",
   "execution_count": 4,
   "id": "209dfb26",
   "metadata": {},
   "outputs": [
    {
     "data": {
      "text/plain": [
       "False"
      ]
     },
     "execution_count": 4,
     "metadata": {},
     "output_type": "execute_result"
    }
   ],
   "source": [
    "x<y>z"
   ]
  },
  {
   "cell_type": "code",
   "execution_count": 6,
   "id": "c80427bf",
   "metadata": {},
   "outputs": [
    {
     "data": {
      "text/plain": [
       "False"
      ]
     },
     "execution_count": 6,
     "metadata": {},
     "output_type": "execute_result"
    }
   ],
   "source": [
    "x==y!=z"
   ]
  },
  {
   "cell_type": "markdown",
   "id": "c05b2099",
   "metadata": {},
   "source": [
    "<h1>Logical Expression</h1>"
   ]
  },
  {
   "cell_type": "code",
   "execution_count": 10,
   "id": "6e29d7d1",
   "metadata": {},
   "outputs": [
    {
     "data": {
      "text/plain": [
       "1"
      ]
     },
     "execution_count": 10,
     "metadata": {},
     "output_type": "execute_result"
    }
   ],
   "source": [
    "a,b,c=1,2,3\n",
    "a or b"
   ]
  },
  {
   "cell_type": "code",
   "execution_count": 11,
   "id": "36bd2557",
   "metadata": {},
   "outputs": [
    {
     "data": {
      "text/plain": [
       "3"
      ]
     },
     "execution_count": 11,
     "metadata": {},
     "output_type": "execute_result"
    }
   ],
   "source": [
    "b and c"
   ]
  },
  {
   "cell_type": "code",
   "execution_count": 12,
   "id": "820bae5a",
   "metadata": {},
   "outputs": [
    {
     "data": {
      "text/plain": [
       "False"
      ]
     },
     "execution_count": 12,
     "metadata": {},
     "output_type": "execute_result"
    }
   ],
   "source": [
    "a and not b"
   ]
  },
  {
   "cell_type": "code",
   "execution_count": 13,
   "id": "93693da6",
   "metadata": {},
   "outputs": [
    {
     "data": {
      "text/plain": [
       "False"
      ]
     },
     "execution_count": 13,
     "metadata": {},
     "output_type": "execute_result"
    }
   ],
   "source": [
    "not c or not b"
   ]
  },
  {
   "cell_type": "markdown",
   "id": "a4582e13",
   "metadata": {},
   "source": [
    "<h1>String Expression</h1>"
   ]
  },
  {
   "cell_type": "code",
   "execution_count": 14,
   "id": "d09a6304",
   "metadata": {},
   "outputs": [
    {
     "data": {
      "text/plain": [
       "'andthen'"
      ]
     },
     "execution_count": 14,
     "metadata": {},
     "output_type": "execute_result"
    }
   ],
   "source": [
    "\"and\"+\"then\""
   ]
  },
  {
   "cell_type": "code",
   "execution_count": 15,
   "id": "9894e511",
   "metadata": {},
   "outputs": [
    {
     "data": {
      "text/plain": [
       "'andand'"
      ]
     },
     "execution_count": 15,
     "metadata": {},
     "output_type": "execute_result"
    }
   ],
   "source": [
    "\"and\"*2"
   ]
  },
  {
   "cell_type": "markdown",
   "id": "cbdb4a9d",
   "metadata": {},
   "source": [
    "<h1>Questions</h1>"
   ]
  },
  {
   "cell_type": "markdown",
   "id": "4b062824",
   "metadata": {},
   "source": [
    "<pre>Q.1 What will be the output produced by the following code:\n",
    "\n",
    "         print(2*'No'+3*'!')\n",
    "         print(2*('No'+3*'!'))\n",
    "<pre>"
   ]
  },
  {
   "cell_type": "code",
   "execution_count": 16,
   "id": "b028d3ae",
   "metadata": {},
   "outputs": [
    {
     "name": "stdout",
     "output_type": "stream",
     "text": [
      "NoNo!!!\n",
      "No!!!No!!!\n"
     ]
    }
   ],
   "source": [
    "print(2*'No'+3*'!')\n",
    "print(2*('No'+3*'!'))"
   ]
  },
  {
   "cell_type": "markdown",
   "id": "5db5e889",
   "metadata": {},
   "source": [
    "<pre>Q.2 What will be the output produced by the follwoing code:\n",
    "   \n",
    "         print(11+3)\n",
    "         print('11'+'3')\n",
    "</pre>"
   ]
  },
  {
   "cell_type": "code",
   "execution_count": 17,
   "id": "ac35749f",
   "metadata": {},
   "outputs": [
    {
     "name": "stdout",
     "output_type": "stream",
     "text": [
      "14\n",
      "113\n"
     ]
    }
   ],
   "source": [
    "print(11+3)\n",
    "print('11'+'3')"
   ]
  },
  {
   "cell_type": "markdown",
   "id": "41c008f1",
   "metadata": {},
   "source": [
    "<pre>Q.3 Consider the following code containing mixed arithmetic expression. What will be the final result and the final data type?\n",
    "\n",
    "         ch=5\n",
    "         i=2\n",
    "         fl=4\n",
    "         db=5.0\n",
    "         fd=36.0\n",
    "         A=(ch+i)/db\n",
    "         B=fd/db*ch/2\n",
    "         print(A)\n",
    "         print(B)\n",
    "</pre>"
   ]
  },
  {
   "cell_type": "code",
   "execution_count": 18,
   "id": "8b763089",
   "metadata": {},
   "outputs": [
    {
     "name": "stdout",
     "output_type": "stream",
     "text": [
      "1.4\n",
      "18.0\n"
     ]
    }
   ],
   "source": [
    "ch=5\n",
    "i=2\n",
    "fl=4\n",
    "db=5.0\n",
    "fd=36.0\n",
    "A=(ch+i)/db\n",
    "B=fd/db*ch/2\n",
    "print(A)\n",
    "print(B)"
   ]
  },
  {
   "cell_type": "markdown",
   "id": "a8175283",
   "metadata": {},
   "source": [
    "<pre>Q.4 Consider below given expressions. What will be the final result and final data type?\n",
    "\n",
    "     (a) a,b=3,6\n",
    "         c=b/a\n",
    "\n",
    "     (b) a,b=3,6\n",
    "         c=b//a\n",
    "    \n",
    "     (c) a,b=3,6\n",
    "         c=b%a\n",
    "</pre>"
   ]
  },
  {
   "cell_type": "code",
   "execution_count": 4,
   "id": "7dbdf19a",
   "metadata": {},
   "outputs": [
    {
     "name": "stdout",
     "output_type": "stream",
     "text": [
      "2.0\n",
      "2\n",
      "0\n"
     ]
    }
   ],
   "source": [
    "a,b=3,6\n",
    "c=b/a\n",
    "print(c)\n",
    "c=b//a\n",
    "print(c)\n",
    "c=b%a\n",
    "print(c)"
   ]
  },
  {
   "cell_type": "markdown",
   "id": "54f496cf",
   "metadata": {},
   "source": [
    "<pre>Q.5 What will be the output of following statement when the inputs are:\n",
    "   \n",
    "     (i) a=10,b=23,c=23\n",
    "     (ii) a=23,b=10,c=10\n",
    "\n",
    "     print(a < b)\n",
    "     print(a <= c)\n",
    "     print(a < b <= c)"
   ]
  },
  {
   "cell_type": "code",
   "execution_count": 8,
   "id": "d1492116",
   "metadata": {},
   "outputs": [
    {
     "name": "stdout",
     "output_type": "stream",
     "text": [
      "True\n",
      "True\n",
      "True\n"
     ]
    }
   ],
   "source": [
    "a,b,c=10,23,23\n",
    "print(a < b)\n",
    "print(b <= c)\n",
    "print(a < b <= c)"
   ]
  },
  {
   "cell_type": "code",
   "execution_count": 7,
   "id": "ce0edaff",
   "metadata": {},
   "outputs": [
    {
     "name": "stdout",
     "output_type": "stream",
     "text": [
      "False\n",
      "True\n",
      "False\n"
     ]
    }
   ],
   "source": [
    "a,b,c=23,10,10\n",
    "print(a < b)\n",
    "print(b <= c)\n",
    "print(a < b <= c)"
   ]
  },
  {
   "cell_type": "markdown",
   "id": "c9ac0f02",
   "metadata": {},
   "source": [
    "<pre>Q.6 How would following relational expressions be internally interpreted by Python?\n",
    "\n",
    "     (i) p > q < y\n",
    "     (ii) a <= N <= b\n",
    "</pre>"
   ]
  },
  {
   "cell_type": "code",
   "execution_count": 10,
   "id": "0ff46f78",
   "metadata": {},
   "outputs": [
    {
     "data": {
      "text/plain": [
       "False"
      ]
     },
     "execution_count": 10,
     "metadata": {},
     "output_type": "execute_result"
    }
   ],
   "source": [
    "a,b,p,q,N,y=1,2,3,4,5,6\n",
    "p > q < y"
   ]
  },
  {
   "cell_type": "code",
   "execution_count": 11,
   "id": "9882d2ad",
   "metadata": {},
   "outputs": [
    {
     "data": {
      "text/plain": [
       "False"
      ]
     },
     "execution_count": 11,
     "metadata": {},
     "output_type": "execute_result"
    }
   ],
   "source": [
    "a <= N <= b"
   ]
  },
  {
   "cell_type": "markdown",
   "id": "376d5b96",
   "metadata": {},
   "source": [
    "<pre>Q.7 What will be the output of following expressions?\n",
    "\n",
    "     (5<10) and (10<5) or (3<10) and not 8<10\n",
    "</pre>"
   ]
  },
  {
   "cell_type": "code",
   "execution_count": 13,
   "id": "086830a3",
   "metadata": {},
   "outputs": [
    {
     "data": {
      "text/plain": [
       "False"
      ]
     },
     "execution_count": 13,
     "metadata": {},
     "output_type": "execute_result"
    }
   ],
   "source": [
    "(5<10) and (10<5) or (3<10) and not 8<10"
   ]
  },
  {
   "cell_type": "markdown",
   "id": "90d3502a",
   "metadata": {},
   "source": [
    "<pre>Q.8 'Divide by zero' is an undefined term. Dividing by zero causes an error in any programming language, but when following expression is evaluated in Python, Python reported no error and returned the result as True. Could you tell, why?\n",
    "\n",
    "     (5<10) or (50<100/0)\n",
    "</pre>"
   ]
  },
  {
   "cell_type": "code",
   "execution_count": 14,
   "id": "a3298fa8",
   "metadata": {},
   "outputs": [
    {
     "data": {
      "text/plain": [
       "True"
      ]
     },
     "execution_count": 14,
     "metadata": {},
     "output_type": "execute_result"
    }
   ],
   "source": [
    "(5<10) or (50<100/0)"
   ]
  },
  {
   "cell_type": "code",
   "execution_count": null,
   "id": "a664c5e5",
   "metadata": {},
   "outputs": [],
   "source": []
  }
 ],
 "metadata": {
  "kernelspec": {
   "display_name": "Python 3",
   "language": "python",
   "name": "python3"
  },
  "language_info": {
   "codemirror_mode": {
    "name": "ipython",
    "version": 3
   },
   "file_extension": ".py",
   "mimetype": "text/x-python",
   "name": "python",
   "nbconvert_exporter": "python",
   "pygments_lexer": "ipython3",
   "version": "3.13.1"
  }
 },
 "nbformat": 4,
 "nbformat_minor": 5
}
