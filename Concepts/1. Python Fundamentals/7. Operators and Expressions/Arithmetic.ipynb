{
 "cells": [
  {
   "cell_type": "markdown",
   "id": "e8d2e41e",
   "metadata": {},
   "source": [
    "<h1>Addition<h1>\n"
   ]
  },
  {
   "cell_type": "code",
   "execution_count": 1,
   "id": "7e46b2f0",
   "metadata": {},
   "outputs": [
    {
     "data": {
      "text/plain": [
       "24"
      ]
     },
     "execution_count": 1,
     "metadata": {},
     "output_type": "execute_result"
    }
   ],
   "source": [
    "4+20"
   ]
  },
  {
   "cell_type": "code",
   "execution_count": 2,
   "id": "4a2af23b",
   "metadata": {},
   "outputs": [
    {
     "data": {
      "text/plain": [
       "7"
      ]
     },
     "execution_count": 2,
     "metadata": {},
     "output_type": "execute_result"
    }
   ],
   "source": [
    "a=2\n",
    "a+5"
   ]
  },
  {
   "cell_type": "code",
   "execution_count": 3,
   "id": "8ab0633a",
   "metadata": {},
   "outputs": [
    {
     "data": {
      "text/plain": [
       "10"
      ]
     },
     "execution_count": 3,
     "metadata": {},
     "output_type": "execute_result"
    }
   ],
   "source": [
    "a,b=4,6\n",
    "a+b"
   ]
  },
  {
   "cell_type": "markdown",
   "id": "e834b257",
   "metadata": {},
   "source": [
    "<h1>Subtraction<h1>"
   ]
  },
  {
   "cell_type": "code",
   "execution_count": 4,
   "id": "808167a2",
   "metadata": {},
   "outputs": [
    {
     "data": {
      "text/plain": [
       "11"
      ]
     },
     "execution_count": 4,
     "metadata": {},
     "output_type": "execute_result"
    }
   ],
   "source": [
    "14-3"
   ]
  },
  {
   "cell_type": "code",
   "execution_count": 5,
   "id": "d29f1566",
   "metadata": {},
   "outputs": [
    {
     "data": {
      "text/plain": [
       "2"
      ]
     },
     "execution_count": 5,
     "metadata": {},
     "output_type": "execute_result"
    }
   ],
   "source": [
    "a,b=7,5\n",
    "a-b"
   ]
  },
  {
   "cell_type": "code",
   "execution_count": 6,
   "id": "49d3ee90",
   "metadata": {},
   "outputs": [
    {
     "data": {
      "text/plain": [
       "-4"
      ]
     },
     "execution_count": 6,
     "metadata": {},
     "output_type": "execute_result"
    }
   ],
   "source": [
    "x=-1\n",
    "x-3"
   ]
  },
  {
   "cell_type": "markdown",
   "id": "aded99ac",
   "metadata": {},
   "source": [
    "<h1>Multiplication<h1>"
   ]
  },
  {
   "cell_type": "code",
   "execution_count": 7,
   "id": "a5d29fbf",
   "metadata": {},
   "outputs": [
    {
     "data": {
      "text/plain": [
       "12"
      ]
     },
     "execution_count": 7,
     "metadata": {},
     "output_type": "execute_result"
    }
   ],
   "source": [
    "3*4"
   ]
  },
  {
   "cell_type": "code",
   "execution_count": 8,
   "id": "03a5df8e",
   "metadata": {},
   "outputs": [
    {
     "data": {
      "text/plain": [
       "24"
      ]
     },
     "execution_count": 8,
     "metadata": {},
     "output_type": "execute_result"
    }
   ],
   "source": [
    "b=6\n",
    "b*4"
   ]
  },
  {
   "cell_type": "code",
   "execution_count": 9,
   "id": "3e51ee2b",
   "metadata": {},
   "outputs": [
    {
     "data": {
      "text/plain": [
       "-10"
      ]
     },
     "execution_count": 9,
     "metadata": {},
     "output_type": "execute_result"
    }
   ],
   "source": [
    "p=-5\n",
    "p*2"
   ]
  },
  {
   "cell_type": "code",
   "execution_count": 10,
   "id": "c50c92c4",
   "metadata": {},
   "outputs": [
    {
     "data": {
      "text/plain": [
       "15"
      ]
     },
     "execution_count": 10,
     "metadata": {},
     "output_type": "execute_result"
    }
   ],
   "source": [
    "a,c=3,5\n",
    "a*c"
   ]
  },
  {
   "cell_type": "markdown",
   "id": "61aff21a",
   "metadata": {},
   "source": [
    "<h1>Division<h1>"
   ]
  },
  {
   "cell_type": "code",
   "execution_count": 11,
   "id": "96a39cc4",
   "metadata": {},
   "outputs": [
    {
     "data": {
      "text/plain": [
       "2.0"
      ]
     },
     "execution_count": 11,
     "metadata": {},
     "output_type": "execute_result"
    }
   ],
   "source": [
    "4/2"
   ]
  },
  {
   "cell_type": "code",
   "execution_count": 12,
   "id": "f4155c74",
   "metadata": {},
   "outputs": [
    {
     "data": {
      "text/plain": [
       "10.0"
      ]
     },
     "execution_count": 12,
     "metadata": {},
     "output_type": "execute_result"
    }
   ],
   "source": [
    "100/10"
   ]
  },
  {
   "cell_type": "code",
   "execution_count": 13,
   "id": "280de58c",
   "metadata": {},
   "outputs": [
    {
     "data": {
      "text/plain": [
       "2.8"
      ]
     },
     "execution_count": 13,
     "metadata": {},
     "output_type": "execute_result"
    }
   ],
   "source": [
    "7/2.5"
   ]
  },
  {
   "cell_type": "code",
   "execution_count": 14,
   "id": "fbc1c4d7",
   "metadata": {},
   "outputs": [
    {
     "data": {
      "text/plain": [
       "3.125"
      ]
     },
     "execution_count": 14,
     "metadata": {},
     "output_type": "execute_result"
    }
   ],
   "source": [
    "100/32"
   ]
  },
  {
   "cell_type": "code",
   "execution_count": 15,
   "id": "542bf2ea",
   "metadata": {},
   "outputs": [
    {
     "data": {
      "text/plain": [
       "9.0"
      ]
     },
     "execution_count": 15,
     "metadata": {},
     "output_type": "execute_result"
    }
   ],
   "source": [
    "13.5/1.5"
   ]
  },
  {
   "cell_type": "markdown",
   "id": "137712da",
   "metadata": {},
   "source": [
    "<h1>Floor Division<h1>"
   ]
  },
  {
   "cell_type": "code",
   "execution_count": 16,
   "id": "0f62e465",
   "metadata": {},
   "outputs": [
    {
     "data": {
      "text/plain": [
       "5.3"
      ]
     },
     "execution_count": 16,
     "metadata": {},
     "output_type": "execute_result"
    }
   ],
   "source": [
    "a,b=15.9,3\n",
    "a/b"
   ]
  },
  {
   "cell_type": "code",
   "execution_count": 22,
   "id": "95f296f4",
   "metadata": {},
   "outputs": [
    {
     "data": {
      "text/plain": [
       "5.0"
      ]
     },
     "execution_count": 22,
     "metadata": {},
     "output_type": "execute_result"
    }
   ],
   "source": [
    "a//b"
   ]
  },
  {
   "cell_type": "code",
   "execution_count": 21,
   "id": "2dc458e1",
   "metadata": {},
   "outputs": [
    {
     "data": {
      "text/plain": [
       "3"
      ]
     },
     "execution_count": 21,
     "metadata": {},
     "output_type": "execute_result"
    }
   ],
   "source": [
    "100//32"
   ]
  },
  {
   "cell_type": "code",
   "execution_count": 23,
   "id": "796e04f1",
   "metadata": {},
   "outputs": [
    {
     "data": {
      "text/plain": [
       "2"
      ]
     },
     "execution_count": 23,
     "metadata": {},
     "output_type": "execute_result"
    }
   ],
   "source": [
    "7//3"
   ]
  },
  {
   "cell_type": "code",
   "execution_count": 24,
   "id": "f36fd091",
   "metadata": {},
   "outputs": [
    {
     "data": {
      "text/plain": [
       "3.0"
      ]
     },
     "execution_count": 24,
     "metadata": {},
     "output_type": "execute_result"
    }
   ],
   "source": [
    "6.5//2"
   ]
  },
  {
   "cell_type": "markdown",
   "id": "4c2d3244",
   "metadata": {},
   "source": [
    "<h1>Modulus Operator<h1>"
   ]
  },
  {
   "cell_type": "code",
   "execution_count": 25,
   "id": "ba4631d6",
   "metadata": {},
   "outputs": [
    {
     "data": {
      "text/plain": [
       "1"
      ]
     },
     "execution_count": 25,
     "metadata": {},
     "output_type": "execute_result"
    }
   ],
   "source": [
    "19%6"
   ]
  },
  {
   "cell_type": "code",
   "execution_count": 26,
   "id": "02de0eb2",
   "metadata": {},
   "outputs": [
    {
     "data": {
      "text/plain": [
       "1.2000000000000002"
      ]
     },
     "execution_count": 26,
     "metadata": {},
     "output_type": "execute_result"
    }
   ],
   "source": [
    "7.2%3"
   ]
  },
  {
   "cell_type": "code",
   "execution_count": 55,
   "id": "e8fbab64",
   "metadata": {},
   "outputs": [
    {
     "data": {
      "text/plain": [
       "1.0"
      ]
     },
     "execution_count": 55,
     "metadata": {},
     "output_type": "execute_result"
    }
   ],
   "source": [
    "6%2.5"
   ]
  },
  {
   "cell_type": "code",
   "execution_count": null,
   "id": "eb10bcd1",
   "metadata": {},
   "outputs": [],
   "source": [
    "#Modulus: a%b==a-(a//b)*b"
   ]
  },
  {
   "cell_type": "markdown",
   "id": "95721de7",
   "metadata": {},
   "source": [
    "<h1>Exponentiation Operator<h1>"
   ]
  },
  {
   "cell_type": "code",
   "execution_count": 28,
   "id": "4fd685cb",
   "metadata": {},
   "outputs": [
    {
     "data": {
      "text/plain": [
       "64"
      ]
     },
     "execution_count": 28,
     "metadata": {},
     "output_type": "execute_result"
    }
   ],
   "source": [
    "4**3"
   ]
  },
  {
   "cell_type": "code",
   "execution_count": 29,
   "id": "0b83be57",
   "metadata": {},
   "outputs": [
    {
     "data": {
      "text/plain": [
       "2401"
      ]
     },
     "execution_count": 29,
     "metadata": {},
     "output_type": "execute_result"
    }
   ],
   "source": [
    "a,b=7,4\n",
    "a**b"
   ]
  },
  {
   "cell_type": "code",
   "execution_count": 30,
   "id": "3f2d9584",
   "metadata": {},
   "outputs": [
    {
     "data": {
      "text/plain": [
       "7.0"
      ]
     },
     "execution_count": 30,
     "metadata": {},
     "output_type": "execute_result"
    }
   ],
   "source": [
    "x=49.0\n",
    "x**0.5"
   ]
  },
  {
   "cell_type": "code",
   "execution_count": 31,
   "id": "321d7ed5",
   "metadata": {},
   "outputs": [
    {
     "data": {
      "text/plain": [
       "2.688144135707615"
      ]
     },
     "execution_count": 31,
     "metadata": {},
     "output_type": "execute_result"
    }
   ],
   "source": [
    "27.009**0.3"
   ]
  },
  {
   "cell_type": "markdown",
   "id": "aff5b1be",
   "metadata": {},
   "source": [
    "<h1>Questions<h1>"
   ]
  },
  {
   "cell_type": "markdown",
   "id": "09ed542d",
   "metadata": {},
   "source": [
    "Q.1 What will be the output produced by the following code:\n",
    "   \n",
    "    A,B,C,D=9.2,2.0,4,21\n",
    "    print((A/4),(A//4))\n",
    "    print(B**C)\n",
    "    print(D//B)\n",
    "    print(A%C)"
   ]
  },
  {
   "cell_type": "code",
   "execution_count": 32,
   "id": "213159cc",
   "metadata": {},
   "outputs": [
    {
     "name": "stdout",
     "output_type": "stream",
     "text": [
      "2.3 2.0\n",
      "16.0\n",
      "10.0\n",
      "1.1999999999999993\n"
     ]
    }
   ],
   "source": [
    "A,B,C,D=9.2,2.0,4,21\n",
    "print((A/4),(A//4))\n",
    "print(B**C)\n",
    "print(D//B)\n",
    "print(A%C)"
   ]
  },
  {
   "cell_type": "markdown",
   "id": "28bdee60",
   "metadata": {},
   "source": [
    "Q.2 Print the area of a circle of radius 3.75 metres."
   ]
  },
  {
   "cell_type": "code",
   "execution_count": 33,
   "id": "f319865f",
   "metadata": {},
   "outputs": [
    {
     "name": "stdout",
     "output_type": "stream",
     "text": [
      "44.178609375 sq. metre\n"
     ]
    }
   ],
   "source": [
    "Radius=3.75\n",
    "Area=3.14159*Radius**2\n",
    "print(Area,'sq. metre')"
   ]
  },
  {
   "cell_type": "markdown",
   "id": "be08b781",
   "metadata": {},
   "source": [
    "<h1>Negative Number Arithmetic<h1>"
   ]
  },
  {
   "cell_type": "code",
   "execution_count": 34,
   "id": "0da6970e",
   "metadata": {},
   "outputs": [
    {
     "data": {
      "text/plain": [
       "-2"
      ]
     },
     "execution_count": 34,
     "metadata": {},
     "output_type": "execute_result"
    }
   ],
   "source": [
    "-5+3"
   ]
  },
  {
   "cell_type": "code",
   "execution_count": 35,
   "id": "dbf59ab0",
   "metadata": {},
   "outputs": [
    {
     "data": {
      "text/plain": [
       "-8"
      ]
     },
     "execution_count": 35,
     "metadata": {},
     "output_type": "execute_result"
    }
   ],
   "source": [
    "-5-3"
   ]
  },
  {
   "cell_type": "code",
   "execution_count": 36,
   "id": "970eb608",
   "metadata": {},
   "outputs": [
    {
     "data": {
      "text/plain": [
       "-15"
      ]
     },
     "execution_count": 36,
     "metadata": {},
     "output_type": "execute_result"
    }
   ],
   "source": [
    "-5*3"
   ]
  },
  {
   "cell_type": "code",
   "execution_count": 37,
   "id": "08ab31cf",
   "metadata": {},
   "outputs": [
    {
     "data": {
      "text/plain": [
       "-125"
      ]
     },
     "execution_count": 37,
     "metadata": {},
     "output_type": "execute_result"
    }
   ],
   "source": [
    "-5**3"
   ]
  },
  {
   "cell_type": "code",
   "execution_count": 38,
   "id": "65d6ea45",
   "metadata": {},
   "outputs": [
    {
     "data": {
      "text/plain": [
       "-2"
      ]
     },
     "execution_count": 38,
     "metadata": {},
     "output_type": "execute_result"
    }
   ],
   "source": [
    "5//-3"
   ]
  },
  {
   "cell_type": "code",
   "execution_count": 39,
   "id": "c0bb2c19",
   "metadata": {},
   "outputs": [
    {
     "data": {
      "text/plain": [
       "-2"
      ]
     },
     "execution_count": 39,
     "metadata": {},
     "output_type": "execute_result"
    }
   ],
   "source": [
    "-5//3"
   ]
  },
  {
   "cell_type": "code",
   "execution_count": 40,
   "id": "0b6a94c4",
   "metadata": {},
   "outputs": [
    {
     "data": {
      "text/plain": [
       "-1.75"
      ]
     },
     "execution_count": 40,
     "metadata": {},
     "output_type": "execute_result"
    }
   ],
   "source": [
    "-7/4"
   ]
  },
  {
   "cell_type": "code",
   "execution_count": 41,
   "id": "23a7856f",
   "metadata": {},
   "outputs": [
    {
     "data": {
      "text/plain": [
       "-2"
      ]
     },
     "execution_count": 41,
     "metadata": {},
     "output_type": "execute_result"
    }
   ],
   "source": [
    "-7//4"
   ]
  },
  {
   "cell_type": "code",
   "execution_count": 50,
   "id": "b305e4f1",
   "metadata": {},
   "outputs": [
    {
     "data": {
      "text/plain": [
       "1"
      ]
     },
     "execution_count": 50,
     "metadata": {},
     "output_type": "execute_result"
    }
   ],
   "source": [
    "-7%4"
   ]
  },
  {
   "cell_type": "code",
   "execution_count": 51,
   "id": "33016da6",
   "metadata": {},
   "outputs": [
    {
     "data": {
      "text/plain": [
       "-1"
      ]
     },
     "execution_count": 51,
     "metadata": {},
     "output_type": "execute_result"
    }
   ],
   "source": [
    "7%-4"
   ]
  },
  {
   "cell_type": "code",
   "execution_count": 52,
   "id": "d19402a4",
   "metadata": {},
   "outputs": [
    {
     "data": {
      "text/plain": [
       "-3"
      ]
     },
     "execution_count": 52,
     "metadata": {},
     "output_type": "execute_result"
    }
   ],
   "source": [
    "-7%-4"
   ]
  },
  {
   "cell_type": "code",
   "execution_count": 53,
   "id": "4203d17b",
   "metadata": {},
   "outputs": [
    {
     "data": {
      "text/plain": [
       "-2"
      ]
     },
     "execution_count": 53,
     "metadata": {},
     "output_type": "execute_result"
    }
   ],
   "source": [
    "7//-4"
   ]
  },
  {
   "cell_type": "markdown",
   "id": "4281eb32",
   "metadata": {},
   "source": [
    "<h1>Augmented Assignment Operators<h1>"
   ]
  },
  {
   "cell_type": "code",
   "execution_count": 57,
   "id": "7001af9b",
   "metadata": {},
   "outputs": [
    {
     "data": {
      "text/plain": [
       "12"
      ]
     },
     "execution_count": 57,
     "metadata": {},
     "output_type": "execute_result"
    }
   ],
   "source": [
    "a,b=8,4\n",
    "a+=b\n",
    "a"
   ]
  },
  {
   "cell_type": "code",
   "execution_count": 58,
   "id": "1b8de000",
   "metadata": {},
   "outputs": [
    {
     "data": {
      "text/plain": [
       "4"
      ]
     },
     "execution_count": 58,
     "metadata": {},
     "output_type": "execute_result"
    }
   ],
   "source": [
    "a,b=8,4\n",
    "a-=b\n",
    "a"
   ]
  },
  {
   "cell_type": "code",
   "execution_count": 60,
   "id": "fc416846",
   "metadata": {},
   "outputs": [
    {
     "data": {
      "text/plain": [
       "32"
      ]
     },
     "execution_count": 60,
     "metadata": {},
     "output_type": "execute_result"
    }
   ],
   "source": [
    "a,b=8,4\n",
    "a*=b\n",
    "a"
   ]
  },
  {
   "cell_type": "code",
   "execution_count": 61,
   "id": "07f12b12",
   "metadata": {},
   "outputs": [
    {
     "data": {
      "text/plain": [
       "2.0"
      ]
     },
     "execution_count": 61,
     "metadata": {},
     "output_type": "execute_result"
    }
   ],
   "source": [
    "a,b=8,4\n",
    "a/=b\n",
    "a"
   ]
  },
  {
   "cell_type": "code",
   "execution_count": 62,
   "id": "0ceed302",
   "metadata": {},
   "outputs": [
    {
     "data": {
      "text/plain": [
       "2"
      ]
     },
     "execution_count": 62,
     "metadata": {},
     "output_type": "execute_result"
    }
   ],
   "source": [
    "a,b=8,4\n",
    "a//=b\n",
    "a"
   ]
  },
  {
   "cell_type": "code",
   "execution_count": 63,
   "id": "36c345ae",
   "metadata": {},
   "outputs": [
    {
     "data": {
      "text/plain": [
       "4096"
      ]
     },
     "execution_count": 63,
     "metadata": {},
     "output_type": "execute_result"
    }
   ],
   "source": [
    "a,b=8,4\n",
    "a**=b\n",
    "a"
   ]
  },
  {
   "cell_type": "code",
   "execution_count": 64,
   "id": "0766d6ec",
   "metadata": {},
   "outputs": [
    {
     "data": {
      "text/plain": [
       "0"
      ]
     },
     "execution_count": 64,
     "metadata": {},
     "output_type": "execute_result"
    }
   ],
   "source": [
    "a,b=8,4\n",
    "a%=b\n",
    "a"
   ]
  },
  {
   "cell_type": "code",
   "execution_count": null,
   "id": "3c8c37b3",
   "metadata": {},
   "outputs": [],
   "source": []
  }
 ],
 "metadata": {
  "kernelspec": {
   "display_name": "Python 3",
   "language": "python",
   "name": "python3"
  },
  "language_info": {
   "codemirror_mode": {
    "name": "ipython",
    "version": 3
   },
   "file_extension": ".py",
   "mimetype": "text/x-python",
   "name": "python",
   "nbconvert_exporter": "python",
   "pygments_lexer": "ipython3",
   "version": "3.13.3"
  }
 },
 "nbformat": 4,
 "nbformat_minor": 5
}
