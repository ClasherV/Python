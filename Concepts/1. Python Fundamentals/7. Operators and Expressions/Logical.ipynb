{
 "cells": [
  {
   "cell_type": "markdown",
   "id": "cb287d7b",
   "metadata": {},
   "source": [
    "<h1>Values with Truth Value as false<h1>"
   ]
  },
  {
   "cell_type": "code",
   "execution_count": 1,
   "id": "af850c1c",
   "metadata": {},
   "outputs": [
    {
     "name": "stdout",
     "output_type": "stream",
     "text": [
      "False\n",
      "False\n",
      "False\n",
      "False\n",
      "False\n",
      "False\n",
      "False\n",
      "False\n",
      "False\n"
     ]
    }
   ],
   "source": [
    "print(bool(None))\n",
    "print(bool(False))\n",
    "print(bool(0))\n",
    "print(bool(0.0))\n",
    "print(bool(0j))\n",
    "print(bool(\"\"))\n",
    "print(bool(()))\n",
    "print(bool([]))\n",
    "print(bool({}))"
   ]
  },
  {
   "cell_type": "markdown",
   "id": "4d478817",
   "metadata": {},
   "source": [
    "<h1>Logical Or<h1>"
   ]
  },
  {
   "cell_type": "markdown",
   "id": "e574562c",
   "metadata": {},
   "source": [
    "<h2>Relational expressions as operands:</h2>\n",
    "\n",
    "<h3>The or operator evaluates to True if either of its (relational) operands evaluates to True. False if both operands evaluates to False.<h3>"
   ]
  },
  {
   "cell_type": "markdown",
   "id": "f9d1f2bc",
   "metadata": {},
   "source": [
    "<h2>Truth Table:</h2>\n",
    "<p>x=True, y=True, x or y==True</p>\n",
    "<p>x=True, y=False, x or y==True</p>\n",
    "<p>x=False, y=True, x or y==True</p>\n",
    "<p>x=False, y=False, x or y==False</p>"
   ]
  },
  {
   "cell_type": "code",
   "execution_count": 2,
   "id": "f0b974fb",
   "metadata": {},
   "outputs": [
    {
     "data": {
      "text/plain": [
       "True"
      ]
     },
     "execution_count": 2,
     "metadata": {},
     "output_type": "execute_result"
    }
   ],
   "source": [
    "(4==4) or (5==8)"
   ]
  },
  {
   "cell_type": "code",
   "execution_count": 3,
   "id": "d913222c",
   "metadata": {},
   "outputs": [
    {
     "data": {
      "text/plain": [
       "False"
      ]
     },
     "execution_count": 3,
     "metadata": {},
     "output_type": "execute_result"
    }
   ],
   "source": [
    "5>8 or 5<2"
   ]
  },
  {
   "cell_type": "markdown",
   "id": "48e37256",
   "metadata": {},
   "source": [
    "<h2>Numbers/ strings/ lists as Operands:</h2>\n",
    "\n",
    "<h3>In an expression x or y, if first operand, (i.e., expression x) has false<sub>tval</sub>, then return second operand y as result, otherwise return x.<h3>"
   ]
  },
  {
   "cell_type": "markdown",
   "id": "dc598c8f",
   "metadata": {},
   "source": [
    "<h2>Truth Table:</h2>\n",
    "<p>x=true<sub>tval</sub>, y=true<sub>tval</sub>, x or y == x</p>\n",
    "<p>x=true<sub>tval</sub>, y=false<sub>tval</sub>, x or y == x</p>\n",
    "<p>x=false<sub>tval</sub>, y=true<sub>tval</sub>, x or y == y</p>\n",
    "<p>x=false<sub>tval</sub>, y=false<sub>tval</sub>, x or y == y</p>"
   ]
  },
  {
   "cell_type": "code",
   "execution_count": 4,
   "id": "162899b2",
   "metadata": {},
   "outputs": [
    {
     "data": {
      "text/plain": [
       "0"
      ]
     },
     "execution_count": 4,
     "metadata": {},
     "output_type": "execute_result"
    }
   ],
   "source": [
    "0 or 0"
   ]
  },
  {
   "cell_type": "code",
   "execution_count": 5,
   "id": "8f37439e",
   "metadata": {},
   "outputs": [
    {
     "data": {
      "text/plain": [
       "8"
      ]
     },
     "execution_count": 5,
     "metadata": {},
     "output_type": "execute_result"
    }
   ],
   "source": [
    "0 or 8"
   ]
  },
  {
   "cell_type": "code",
   "execution_count": 6,
   "id": "c0b6695e",
   "metadata": {},
   "outputs": [
    {
     "data": {
      "text/plain": [
       "5"
      ]
     },
     "execution_count": 6,
     "metadata": {},
     "output_type": "execute_result"
    }
   ],
   "source": [
    "5 or 0.0"
   ]
  },
  {
   "cell_type": "code",
   "execution_count": 7,
   "id": "057faab7",
   "metadata": {},
   "outputs": [
    {
     "data": {
      "text/plain": [
       "'hello'"
      ]
     },
     "execution_count": 7,
     "metadata": {},
     "output_type": "execute_result"
    }
   ],
   "source": [
    "'hello' or ''"
   ]
  },
  {
   "cell_type": "code",
   "execution_count": 8,
   "id": "1ad25bb7",
   "metadata": {},
   "outputs": [
    {
     "data": {
      "text/plain": [
       "'a'"
      ]
     },
     "execution_count": 8,
     "metadata": {},
     "output_type": "execute_result"
    }
   ],
   "source": [
    "'' or 'a'"
   ]
  },
  {
   "cell_type": "code",
   "execution_count": 9,
   "id": "05577717",
   "metadata": {},
   "outputs": [
    {
     "data": {
      "text/plain": [
       "''"
      ]
     },
     "execution_count": 9,
     "metadata": {},
     "output_type": "execute_result"
    }
   ],
   "source": [
    "'' or ''"
   ]
  },
  {
   "cell_type": "code",
   "execution_count": 10,
   "id": "73f46c27",
   "metadata": {},
   "outputs": [
    {
     "data": {
      "text/plain": [
       "'a'"
      ]
     },
     "execution_count": 10,
     "metadata": {},
     "output_type": "execute_result"
    }
   ],
   "source": [
    "'a' or 'j'"
   ]
  },
  {
   "cell_type": "code",
   "execution_count": 11,
   "id": "3806eb34",
   "metadata": {},
   "outputs": [
    {
     "data": {
      "text/plain": [
       "True"
      ]
     },
     "execution_count": 11,
     "metadata": {},
     "output_type": "execute_result"
    }
   ],
   "source": [
    "20>10 or \"a\"+1>1"
   ]
  },
  {
   "cell_type": "markdown",
   "id": "d2fb554c",
   "metadata": {},
   "source": [
    "<h1>Logical and</h1>"
   ]
  },
  {
   "cell_type": "markdown",
   "id": "a9548255",
   "metadata": {},
   "source": [
    "<h2>Relational expressions as operands:</h2>\n",
    "\n",
    "<h3>The and operator evaluates to True if both of its (relational) operands evaluates to True. False if either or both operands evaluate to False.</h3>"
   ]
  },
  {
   "cell_type": "markdown",
   "id": "287bdee5",
   "metadata": {},
   "source": [
    "<h2>Truth Table:</h2>\n",
    "<p>x=True, y=True, x and y= True</p>\n",
    "<p>x=True, y=False, x and y= False</p>\n",
    "<p>x=False, y=True, x and y= False</p>\n",
    "<p>x=False, y=False, x and y= False</p>"
   ]
  },
  {
   "cell_type": "code",
   "execution_count": 12,
   "id": "8c98d882",
   "metadata": {},
   "outputs": [
    {
     "data": {
      "text/plain": [
       "False"
      ]
     },
     "execution_count": 12,
     "metadata": {},
     "output_type": "execute_result"
    }
   ],
   "source": [
    "(4==4) and (5==8)"
   ]
  },
  {
   "cell_type": "code",
   "execution_count": 13,
   "id": "9f0f5ce6",
   "metadata": {},
   "outputs": [
    {
     "data": {
      "text/plain": [
       "False"
      ]
     },
     "execution_count": 13,
     "metadata": {},
     "output_type": "execute_result"
    }
   ],
   "source": [
    "5>8 and 5<2"
   ]
  },
  {
   "cell_type": "code",
   "execution_count": 14,
   "id": "3bd66b77",
   "metadata": {},
   "outputs": [
    {
     "data": {
      "text/plain": [
       "True"
      ]
     },
     "execution_count": 14,
     "metadata": {},
     "output_type": "execute_result"
    }
   ],
   "source": [
    "8>5 and 2<5"
   ]
  },
  {
   "cell_type": "markdown",
   "id": "6fcc913f",
   "metadata": {},
   "source": [
    "<h2>Numbers/ strings/ lists as operands:</h2>\n",
    "\n",
    "<h3>In an expression x and y, if first operand, (i.e., expression x) has false<sub>tval</sub>, then return first operand x as result, otherwise return y.</h3>"
   ]
  },
  {
   "cell_type": "markdown",
   "id": "b68e48f0",
   "metadata": {},
   "source": [
    "<h2>Truth Table:</h2>\n",
    "<p>x=true<sub>tval</sub>, y=true<sub>tval</sub>, x and y == y\n",
    "<p>x=true<sub>tval</sub>, y=false<sub>tval</sub>, x and y == y\n",
    "<p>x=false<sub>tval</sub>, y=true<sub>tval</sub>, x and y == x\n",
    "<p>x=false<sub>tval</sub>, y=false<sub>tval</sub>, x and y == x"
   ]
  },
  {
   "cell_type": "code",
   "execution_count": 15,
   "id": "9f154e9c",
   "metadata": {},
   "outputs": [
    {
     "data": {
      "text/plain": [
       "0"
      ]
     },
     "execution_count": 15,
     "metadata": {},
     "output_type": "execute_result"
    }
   ],
   "source": [
    "0 and 0"
   ]
  },
  {
   "cell_type": "code",
   "execution_count": 16,
   "id": "c38326fd",
   "metadata": {},
   "outputs": [
    {
     "data": {
      "text/plain": [
       "0"
      ]
     },
     "execution_count": 16,
     "metadata": {},
     "output_type": "execute_result"
    }
   ],
   "source": [
    "0 and 8"
   ]
  },
  {
   "cell_type": "code",
   "execution_count": 17,
   "id": "9ef42ab9",
   "metadata": {},
   "outputs": [
    {
     "data": {
      "text/plain": [
       "0.0"
      ]
     },
     "execution_count": 17,
     "metadata": {},
     "output_type": "execute_result"
    }
   ],
   "source": [
    "5 and 0.0"
   ]
  },
  {
   "cell_type": "code",
   "execution_count": 18,
   "id": "da72b9fa",
   "metadata": {},
   "outputs": [
    {
     "data": {
      "text/plain": [
       "''"
      ]
     },
     "execution_count": 18,
     "metadata": {},
     "output_type": "execute_result"
    }
   ],
   "source": [
    "'hello' and ''"
   ]
  },
  {
   "cell_type": "code",
   "execution_count": 19,
   "id": "adb1a9c1",
   "metadata": {},
   "outputs": [
    {
     "data": {
      "text/plain": [
       "''"
      ]
     },
     "execution_count": 19,
     "metadata": {},
     "output_type": "execute_result"
    }
   ],
   "source": [
    "'' and 'a'"
   ]
  },
  {
   "cell_type": "code",
   "execution_count": 20,
   "id": "31a9a7d1",
   "metadata": {},
   "outputs": [
    {
     "data": {
      "text/plain": [
       "''"
      ]
     },
     "execution_count": 20,
     "metadata": {},
     "output_type": "execute_result"
    }
   ],
   "source": [
    "'' and ''"
   ]
  },
  {
   "cell_type": "code",
   "execution_count": 21,
   "id": "da1e62b2",
   "metadata": {},
   "outputs": [
    {
     "data": {
      "text/plain": [
       "'j'"
      ]
     },
     "execution_count": 21,
     "metadata": {},
     "output_type": "execute_result"
    }
   ],
   "source": [
    "'a' and 'j'"
   ]
  },
  {
   "cell_type": "code",
   "execution_count": 22,
   "id": "e693fdcb",
   "metadata": {},
   "outputs": [
    {
     "data": {
      "text/plain": [
       "False"
      ]
     },
     "execution_count": 22,
     "metadata": {},
     "output_type": "execute_result"
    }
   ],
   "source": [
    "10>20 and \"a\"+10<5"
   ]
  },
  {
   "cell_type": "markdown",
   "id": "276521b1",
   "metadata": {},
   "source": [
    "<h1>Logical Not</h1>"
   ]
  },
  {
   "cell_type": "code",
   "execution_count": 23,
   "id": "aab042f0",
   "metadata": {},
   "outputs": [
    {
     "data": {
      "text/plain": [
       "False"
      ]
     },
     "execution_count": 23,
     "metadata": {},
     "output_type": "execute_result"
    }
   ],
   "source": [
    "not 5"
   ]
  },
  {
   "cell_type": "code",
   "execution_count": 24,
   "id": "7249452e",
   "metadata": {},
   "outputs": [
    {
     "data": {
      "text/plain": [
       "True"
      ]
     },
     "execution_count": 24,
     "metadata": {},
     "output_type": "execute_result"
    }
   ],
   "source": [
    "not 0"
   ]
  },
  {
   "cell_type": "code",
   "execution_count": 25,
   "id": "5fc95ac3",
   "metadata": {},
   "outputs": [
    {
     "data": {
      "text/plain": [
       "False"
      ]
     },
     "execution_count": 25,
     "metadata": {},
     "output_type": "execute_result"
    }
   ],
   "source": [
    "not -4"
   ]
  },
  {
   "cell_type": "code",
   "execution_count": 26,
   "id": "d7f5bfb3",
   "metadata": {},
   "outputs": [
    {
     "data": {
      "text/plain": [
       "False"
      ]
     },
     "execution_count": 26,
     "metadata": {},
     "output_type": "execute_result"
    }
   ],
   "source": [
    "not (5>2)"
   ]
  },
  {
   "cell_type": "code",
   "execution_count": 27,
   "id": "aa8091f2",
   "metadata": {},
   "outputs": [
    {
     "data": {
      "text/plain": [
       "True"
      ]
     },
     "execution_count": 27,
     "metadata": {},
     "output_type": "execute_result"
    }
   ],
   "source": [
    "not (5>9)"
   ]
  },
  {
   "cell_type": "markdown",
   "id": "f26c8b7e",
   "metadata": {},
   "source": [
    "<h1>Chained Comparison</h1>"
   ]
  },
  {
   "cell_type": "code",
   "execution_count": 28,
   "id": "475f1b4e",
   "metadata": {},
   "outputs": [
    {
     "data": {
      "text/plain": [
       "True"
      ]
     },
     "execution_count": 28,
     "metadata": {},
     "output_type": "execute_result"
    }
   ],
   "source": [
    "1<2<3"
   ]
  },
  {
   "cell_type": "code",
   "execution_count": 29,
   "id": "f3ac4ee1",
   "metadata": {},
   "outputs": [
    {
     "data": {
      "text/plain": [
       "True"
      ]
     },
     "execution_count": 29,
     "metadata": {},
     "output_type": "execute_result"
    }
   ],
   "source": [
    "1<2 and 2<3"
   ]
  },
  {
   "cell_type": "code",
   "execution_count": 30,
   "id": "dd3467a7",
   "metadata": {},
   "outputs": [
    {
     "data": {
      "text/plain": [
       "True"
      ]
     },
     "execution_count": 30,
     "metadata": {},
     "output_type": "execute_result"
    }
   ],
   "source": [
    "11<13>12"
   ]
  },
  {
   "cell_type": "code",
   "execution_count": 31,
   "id": "f155c2ce",
   "metadata": {},
   "outputs": [
    {
     "data": {
      "text/plain": [
       "True"
      ]
     },
     "execution_count": 31,
     "metadata": {},
     "output_type": "execute_result"
    }
   ],
   "source": [
    "11<13 and 13>12"
   ]
  },
  {
   "cell_type": "code",
   "execution_count": null,
   "id": "cf72ff98",
   "metadata": {},
   "outputs": [],
   "source": []
  }
 ],
 "metadata": {
  "kernelspec": {
   "display_name": "Python 3",
   "language": "python",
   "name": "python3"
  },
  "language_info": {
   "codemirror_mode": {
    "name": "ipython",
    "version": 3
   },
   "file_extension": ".py",
   "mimetype": "text/x-python",
   "name": "python",
   "nbconvert_exporter": "python",
   "pygments_lexer": "ipython3",
   "version": "3.13.3"
  }
 },
 "nbformat": 4,
 "nbformat_minor": 5
}
