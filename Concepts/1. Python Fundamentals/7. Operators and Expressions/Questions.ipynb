{
 "cells": [
  {
   "cell_type": "markdown",
   "id": "2ffaca72",
   "metadata": {},
   "source": [
    "Q.1 What will be the output produced by the following code:\n",
    "<br>\n",
    "<br>\n",
    "x,z=5,10\n",
    "<br>\n",
    "y=x+3\n",
    "<br>\n",
    "x=x-1\n",
    "<br>\n",
    "x=x+z\n",
    "<br>\n",
    "print('x:',x,'y:',y,'z:',z)"
   ]
  },
  {
   "cell_type": "code",
   "execution_count": 2,
   "id": "658e0ec6",
   "metadata": {},
   "outputs": [
    {
     "name": "stdout",
     "output_type": "stream",
     "text": [
      "x: 14 y: 8 z: 10\n"
     ]
    }
   ],
   "source": [
    "x,z=5,10\n",
    "y=x+3\n",
    "x=x-1\n",
    "x=x+z\n",
    "print('x:',x,'y:',y,'z:',z)"
   ]
  },
  {
   "cell_type": "markdown",
   "id": "858ca664",
   "metadata": {},
   "source": [
    "Q.2 What will be the output produced by the following code:\n",
    "<br>\n",
    "<br>\n",
    "print(14//4,14%4,14/4)"
   ]
  },
  {
   "cell_type": "code",
   "execution_count": 4,
   "id": "ee735a54",
   "metadata": {},
   "outputs": [
    {
     "name": "stdout",
     "output_type": "stream",
     "text": [
      "3 2 3.5\n"
     ]
    }
   ],
   "source": [
    "print(14//4,14%4,14/4)"
   ]
  },
  {
   "cell_type": "markdown",
   "id": "cb07dde3",
   "metadata": {},
   "source": [
    "Q.3 What will be the output produced by the following code:\n",
    "<br>\n",
    "<br>\n",
    "print(type(1+3))\n",
    "<br>\n",
    "print(type(1+3.0))"
   ]
  },
  {
   "cell_type": "code",
   "execution_count": 5,
   "id": "b7c47765",
   "metadata": {},
   "outputs": [
    {
     "name": "stdout",
     "output_type": "stream",
     "text": [
      "<class 'int'>\n",
      "<class 'float'>\n"
     ]
    }
   ],
   "source": [
    "print(type(1+3))\n",
    "print(type(1+3.0))"
   ]
  },
  {
   "cell_type": "markdown",
   "id": "e8fef132",
   "metadata": {},
   "source": [
    "Q.4 Why is the following code giving error:\n",
    "<br>\n",
    "<br>\n",
    "print(11+3)\n",
    "<br>\n",
    "print('11'+3)"
   ]
  },
  {
   "cell_type": "code",
   "execution_count": 7,
   "id": "cf7cef1c",
   "metadata": {},
   "outputs": [
    {
     "name": "stdout",
     "output_type": "stream",
     "text": [
      "14\n",
      "14\n"
     ]
    }
   ],
   "source": [
    "print(11+3)\n",
    "print(int('11')+3)"
   ]
  },
  {
   "cell_type": "markdown",
   "id": "60a36fdf",
   "metadata": {},
   "source": [
    "Q.5 Which of the following expressions will yield an integer type value as its output:\n",
    "<br>\n",
    "<br>\n",
    "(i) 5*2\n",
    "<br>\n",
    "(ii) 5**2\n",
    "<br>\n",
    "(iii) '5'+'2'\n",
    "<br>\n",
    "(iv) '5'*2\n",
    "<br>\n",
    "(v) 5/2\n",
    "<br>\n",
    "(vi) 5//2\n",
    "<br>\n",
    "(vii) 5%2\n",
    "<br>\n",
    "(viii) 5+2.0\n",
    "<br>\n",
    "(ix) 5.0*2.0\n",
    "<br>\n",
    "(x) '5'-2"
   ]
  },
  {
   "cell_type": "markdown",
   "id": "7af2337c",
   "metadata": {},
   "source": [
    "Q.6 Considering the expressions given in the previous example, which expressions will yield a floating point result?"
   ]
  },
  {
   "cell_type": "markdown",
   "id": "9d6ffd2b",
   "metadata": {},
   "source": [
    "Q.7 Considering the expressions given in the previous example, which expressions will yield a String result?"
   ]
  },
  {
   "cell_type": "markdown",
   "id": "080d8563",
   "metadata": {},
   "source": [
    "Q.8 Considering the expressions given in the previous example, which expressions will result into an Error and why"
   ]
  },
  {
   "cell_type": "code",
   "execution_count": 8,
   "id": "6e69a1c6",
   "metadata": {},
   "outputs": [
    {
     "data": {
      "text/plain": [
       "10"
      ]
     },
     "execution_count": 8,
     "metadata": {},
     "output_type": "execute_result"
    }
   ],
   "source": [
    "5*2"
   ]
  },
  {
   "cell_type": "code",
   "execution_count": 9,
   "id": "8dae0ae8",
   "metadata": {},
   "outputs": [
    {
     "data": {
      "text/plain": [
       "25"
      ]
     },
     "execution_count": 9,
     "metadata": {},
     "output_type": "execute_result"
    }
   ],
   "source": [
    "5**2"
   ]
  },
  {
   "cell_type": "code",
   "execution_count": 10,
   "id": "669abdd2",
   "metadata": {},
   "outputs": [
    {
     "data": {
      "text/plain": [
       "'52'"
      ]
     },
     "execution_count": 10,
     "metadata": {},
     "output_type": "execute_result"
    }
   ],
   "source": [
    "'5'+'2'"
   ]
  },
  {
   "cell_type": "code",
   "execution_count": 11,
   "id": "c7c81f4f",
   "metadata": {},
   "outputs": [
    {
     "data": {
      "text/plain": [
       "'55'"
      ]
     },
     "execution_count": 11,
     "metadata": {},
     "output_type": "execute_result"
    }
   ],
   "source": [
    "'5'*2"
   ]
  },
  {
   "cell_type": "code",
   "execution_count": 12,
   "id": "56e0a98b",
   "metadata": {},
   "outputs": [
    {
     "data": {
      "text/plain": [
       "2.5"
      ]
     },
     "execution_count": 12,
     "metadata": {},
     "output_type": "execute_result"
    }
   ],
   "source": [
    "5/2"
   ]
  },
  {
   "cell_type": "code",
   "execution_count": 13,
   "id": "22fb6b1b",
   "metadata": {},
   "outputs": [
    {
     "data": {
      "text/plain": [
       "2"
      ]
     },
     "execution_count": 13,
     "metadata": {},
     "output_type": "execute_result"
    }
   ],
   "source": [
    "5//2"
   ]
  },
  {
   "cell_type": "code",
   "execution_count": 14,
   "id": "7b8f3319",
   "metadata": {},
   "outputs": [
    {
     "data": {
      "text/plain": [
       "1"
      ]
     },
     "execution_count": 14,
     "metadata": {},
     "output_type": "execute_result"
    }
   ],
   "source": [
    "5%2"
   ]
  },
  {
   "cell_type": "code",
   "execution_count": 15,
   "id": "296cf3c8",
   "metadata": {},
   "outputs": [
    {
     "data": {
      "text/plain": [
       "7.0"
      ]
     },
     "execution_count": 15,
     "metadata": {},
     "output_type": "execute_result"
    }
   ],
   "source": [
    "5+2.0"
   ]
  },
  {
   "cell_type": "code",
   "execution_count": 16,
   "id": "7ba39248",
   "metadata": {},
   "outputs": [
    {
     "data": {
      "text/plain": [
       "10.0"
      ]
     },
     "execution_count": 16,
     "metadata": {},
     "output_type": "execute_result"
    }
   ],
   "source": [
    "5.0*2.0"
   ]
  },
  {
   "cell_type": "code",
   "execution_count": 17,
   "id": "b6bfa2cd",
   "metadata": {},
   "outputs": [
    {
     "ename": "TypeError",
     "evalue": "unsupported operand type(s) for -: 'str' and 'int'",
     "output_type": "error",
     "traceback": [
      "\u001b[31m---------------------------------------------------------------------------\u001b[39m",
      "\u001b[31mTypeError\u001b[39m                                 Traceback (most recent call last)",
      "\u001b[36mCell\u001b[39m\u001b[36m \u001b[39m\u001b[32mIn[17]\u001b[39m\u001b[32m, line 1\u001b[39m\n\u001b[32m----> \u001b[39m\u001b[32m1\u001b[39m \u001b[33;43m'\u001b[39;49m\u001b[33;43m5\u001b[39;49m\u001b[33;43m'\u001b[39;49m\u001b[43m-\u001b[49m\u001b[32;43m2\u001b[39;49m\n",
      "\u001b[31mTypeError\u001b[39m: unsupported operand type(s) for -: 'str' and 'int'"
     ]
    }
   ],
   "source": [
    "'5'-2"
   ]
  },
  {
   "cell_type": "markdown",
   "id": "fd574024",
   "metadata": {},
   "source": [
    "Q.9 Write an expression involving a logical operator to test if marks are 55 and grade is 'B'"
   ]
  },
  {
   "cell_type": "code",
   "execution_count": 21,
   "id": "e38343a4",
   "metadata": {},
   "outputs": [
    {
     "data": {
      "text/plain": [
       "True"
      ]
     },
     "execution_count": 21,
     "metadata": {},
     "output_type": "execute_result"
    }
   ],
   "source": [
    "marks=55\n",
    "grade='B'\n",
    "marks==55 and grade=='B'"
   ]
  },
  {
   "cell_type": "markdown",
   "id": "8d995025",
   "metadata": {},
   "source": [
    "Q.10 What is the order of evaluation in the following expressions:\n",
    "<br>\n",
    "<br>\n",
    "(i) a>b or b<=d\n",
    "<br>\n",
    "(ii) x==y and y>=m\n",
    "<br>\n",
    "(iii) a > b < c > d"
   ]
  },
  {
   "cell_type": "code",
   "execution_count": 26,
   "id": "97d26f6e",
   "metadata": {},
   "outputs": [
    {
     "data": {
      "text/plain": [
       "True"
      ]
     },
     "execution_count": 26,
     "metadata": {},
     "output_type": "execute_result"
    }
   ],
   "source": [
    "a,b,c,d=10,5,12,6\n",
    "x,y=15,20\n",
    "m=20\n",
    "a>b or b<=d"
   ]
  },
  {
   "cell_type": "code",
   "execution_count": 23,
   "id": "7e0aacbe",
   "metadata": {},
   "outputs": [
    {
     "data": {
      "text/plain": [
       "False"
      ]
     },
     "execution_count": 23,
     "metadata": {},
     "output_type": "execute_result"
    }
   ],
   "source": [
    "x==y and y>=m"
   ]
  },
  {
   "cell_type": "code",
   "execution_count": 24,
   "id": "d1e47153",
   "metadata": {},
   "outputs": [
    {
     "data": {
      "text/plain": [
       "True"
      ]
     },
     "execution_count": 24,
     "metadata": {},
     "output_type": "execute_result"
    }
   ],
   "source": [
    "a>b<c>d"
   ]
  },
  {
   "cell_type": "markdown",
   "id": "a6877514",
   "metadata": {},
   "source": [
    "Q.11 What is the result of the following expression:\n",
    "<br>\n",
    "<br>\n",
    "a>=b and (a+b)>a if:\n",
    "<br>\n",
    "<br>\n",
    "(i) a,b=3,0\n",
    "<br>\n",
    "(ii) a,b=7,7"
   ]
  },
  {
   "cell_type": "code",
   "execution_count": 27,
   "id": "533f69ca",
   "metadata": {},
   "outputs": [
    {
     "data": {
      "text/plain": [
       "False"
      ]
     },
     "execution_count": 27,
     "metadata": {},
     "output_type": "execute_result"
    }
   ],
   "source": [
    "a,b=3,0\n",
    "a>=b and (a+b)>a"
   ]
  },
  {
   "cell_type": "code",
   "execution_count": 28,
   "id": "123c6a4d",
   "metadata": {},
   "outputs": [
    {
     "data": {
      "text/plain": [
       "True"
      ]
     },
     "execution_count": 28,
     "metadata": {},
     "output_type": "execute_result"
    }
   ],
   "source": [
    "a,b=7,7\n",
    "a>=b and (a+b)>a"
   ]
  },
  {
   "cell_type": "markdown",
   "id": "1f484afc",
   "metadata": {},
   "source": [
    "Q.12 What is the result of the folloing expressions (a to e) if:\n",
    "<br>\n",
    "<br>\n",
    "(i) check = 3, mate = 0.0\n",
    "<br>\n",
    "(ii) check = 0, mate = -5\n",
    "<br>\n",
    "(iii) check = '', mate = 'e'\n",
    "<br>\n",
    "(iv) check = 'meera', mate = ''\n",
    "<br>\n",
    "<br>\n",
    "(a) check or mate\n",
    "<br>\n",
    "(b) mate or check\n",
    "<br>\n",
    "(c) check and not mate\n",
    "<br>\n",
    "(d) check and mate\n",
    "<br>\n",
    "(e) mate and check"
   ]
  },
  {
   "cell_type": "code",
   "execution_count": 29,
   "id": "6188a97f",
   "metadata": {},
   "outputs": [
    {
     "name": "stdout",
     "output_type": "stream",
     "text": [
      "3\n",
      "3\n",
      "True\n",
      "0.0\n",
      "0.0\n"
     ]
    }
   ],
   "source": [
    "check,mate=3,0.0\n",
    "print(check or mate)\n",
    "print(mate or check)\n",
    "print(check and not mate)\n",
    "print(check and mate)\n",
    "print(mate and check)"
   ]
  },
  {
   "cell_type": "code",
   "execution_count": 30,
   "id": "f73eaaf3",
   "metadata": {},
   "outputs": [
    {
     "name": "stdout",
     "output_type": "stream",
     "text": [
      "-5\n",
      "-5\n",
      "0\n",
      "0\n",
      "0\n"
     ]
    }
   ],
   "source": [
    "check,mate=0,-5\n",
    "print(check or mate)\n",
    "print(mate or check)\n",
    "print(check and not mate)\n",
    "print(check and mate)\n",
    "print(mate and check)"
   ]
  },
  {
   "cell_type": "code",
   "execution_count": 31,
   "id": "ed732c02",
   "metadata": {},
   "outputs": [
    {
     "name": "stdout",
     "output_type": "stream",
     "text": [
      "e\n",
      "e\n",
      "\n",
      "\n",
      "\n"
     ]
    }
   ],
   "source": [
    "check,mate='','e'\n",
    "print(check or mate)\n",
    "print(mate or check)\n",
    "print(check and not mate)\n",
    "print(check and mate)\n",
    "print(mate and check)"
   ]
  },
  {
   "cell_type": "code",
   "execution_count": 32,
   "id": "42d48e7a",
   "metadata": {},
   "outputs": [
    {
     "name": "stdout",
     "output_type": "stream",
     "text": [
      "meera\n",
      "meera\n",
      "True\n",
      "\n",
      "\n"
     ]
    }
   ],
   "source": [
    "check,mate='meera',''\n",
    "print(check or mate)\n",
    "print(mate or check)\n",
    "print(check and not mate)\n",
    "print(check and mate)\n",
    "print(mate and check)"
   ]
  },
  {
   "cell_type": "markdown",
   "id": "609706b3",
   "metadata": {},
   "source": [
    "Q.13 Identify the order of evaluation in the following expression:\n",
    "<br>\n",
    "<br>\n",
    "<p>4*5+7*2-8%3+4 and 5.7//2-1+4 or not 2==4 and not 2**4>6*2<p>"
   ]
  },
  {
   "cell_type": "code",
   "execution_count": 33,
   "id": "f8baa09e",
   "metadata": {},
   "outputs": [
    {
     "data": {
      "text/plain": [
       "5.0"
      ]
     },
     "execution_count": 33,
     "metadata": {},
     "output_type": "execute_result"
    }
   ],
   "source": [
    "4*5+7*2-8%3+4 and 5.7//2-1+4 or not 2==4 and not 2**4>6*2"
   ]
  },
  {
   "cell_type": "markdown",
   "id": "947a9a60",
   "metadata": {},
   "source": [
    "Q.14 a=15.5,b=15.5 then why is a is b is False while a==b is True?"
   ]
  },
  {
   "cell_type": "code",
   "execution_count": 34,
   "id": "45980f1f",
   "metadata": {},
   "outputs": [
    {
     "name": "stdout",
     "output_type": "stream",
     "text": [
      "True\n",
      "True\n"
     ]
    }
   ],
   "source": [
    "a,b=15.5,15.5\n",
    "print(a==b)\n",
    "print(a is b)"
   ]
  },
  {
   "cell_type": "code",
   "execution_count": null,
   "id": "5d891788",
   "metadata": {},
   "outputs": [],
   "source": []
  }
 ],
 "metadata": {
  "kernelspec": {
   "display_name": "Python 3",
   "language": "python",
   "name": "python3"
  },
  "language_info": {
   "codemirror_mode": {
    "name": "ipython",
    "version": 3
   },
   "file_extension": ".py",
   "mimetype": "text/x-python",
   "name": "python",
   "nbconvert_exporter": "python",
   "pygments_lexer": "ipython3",
   "version": "3.13.3"
  }
 },
 "nbformat": 4,
 "nbformat_minor": 5
}
