{
 "cells": [
  {
   "cell_type": "markdown",
   "id": "a58345fc",
   "metadata": {},
   "source": [
    "<h1>Precedence:</h1>\n",
    "<h2>\n",
    "<p>()</p>\n",
    "<p>**</p>\n",
    "<p>+x,-x</p>\n",
    "<p>*,/,//,%</p>\n",
    "<p>+,-</p>\n",
    "<p><,<=,>,>=,<>,!=,==</p>\n",
    "<p>is, is not</p>\n",
    "<p>not x</p>\n",
    "<p>and</p>\n",
    "<p>or</p>\n",
    "</h2>    "
   ]
  },
  {
   "cell_type": "markdown",
   "id": "f178343e",
   "metadata": {},
   "source": [
    "<h1>Associativity:</h1>\n",
    "<h2>\n",
    "<p>** is Right to Left</p>\n",
    "<p>Others are Left to Right</p>\n",
    "</h2>"
   ]
  },
  {
   "cell_type": "code",
   "execution_count": 1,
   "id": "615f9231",
   "metadata": {},
   "outputs": [
    {
     "data": {
      "text/plain": [
       "5.0"
      ]
     },
     "execution_count": 1,
     "metadata": {},
     "output_type": "execute_result"
    }
   ],
   "source": [
    "7*8/5//2"
   ]
  },
  {
   "cell_type": "code",
   "execution_count": 2,
   "id": "fb39007a",
   "metadata": {},
   "outputs": [
    {
     "data": {
      "text/plain": [
       "5.0"
      ]
     },
     "execution_count": 2,
     "metadata": {},
     "output_type": "execute_result"
    }
   ],
   "source": [
    "(((7*8)/5)//2)"
   ]
  },
  {
   "cell_type": "code",
   "execution_count": 4,
   "id": "83dcbf7f",
   "metadata": {},
   "outputs": [
    {
     "data": {
      "text/plain": [
       "0.0"
      ]
     },
     "execution_count": 4,
     "metadata": {},
     "output_type": "execute_result"
    }
   ],
   "source": [
    "7*((8/5)//2)"
   ]
  },
  {
   "cell_type": "code",
   "execution_count": 6,
   "id": "20156f23",
   "metadata": {},
   "outputs": [
    {
     "data": {
      "text/plain": [
       "28.0"
      ]
     },
     "execution_count": 6,
     "metadata": {},
     "output_type": "execute_result"
    }
   ],
   "source": [
    "7*(8/(5//2))"
   ]
  },
  {
   "cell_type": "code",
   "execution_count": 7,
   "id": "7e4e71fb",
   "metadata": {},
   "outputs": [
    {
     "data": {
      "text/plain": [
       "2417851639229258349412352"
      ]
     },
     "execution_count": 7,
     "metadata": {},
     "output_type": "execute_result"
    }
   ],
   "source": [
    "2**3**4"
   ]
  },
  {
   "cell_type": "code",
   "execution_count": 8,
   "id": "b73dd214",
   "metadata": {},
   "outputs": [
    {
     "data": {
      "text/plain": [
       "2417851639229258349412352"
      ]
     },
     "execution_count": 8,
     "metadata": {},
     "output_type": "execute_result"
    }
   ],
   "source": [
    "2**(3**4)"
   ]
  },
  {
   "cell_type": "code",
   "execution_count": 9,
   "id": "1196eb19",
   "metadata": {},
   "outputs": [
    {
     "data": {
      "text/plain": [
       "4096"
      ]
     },
     "execution_count": 9,
     "metadata": {},
     "output_type": "execute_result"
    }
   ],
   "source": [
    "(2**3)**4"
   ]
  },
  {
   "cell_type": "code",
   "execution_count": 10,
   "id": "f92c3bce",
   "metadata": {},
   "outputs": [
    {
     "data": {
      "text/plain": [
       "19683"
      ]
     },
     "execution_count": 10,
     "metadata": {},
     "output_type": "execute_result"
    }
   ],
   "source": [
    "3**3**2"
   ]
  },
  {
   "cell_type": "code",
   "execution_count": 11,
   "id": "a6ae0704",
   "metadata": {},
   "outputs": [
    {
     "data": {
      "text/plain": [
       "19683"
      ]
     },
     "execution_count": 11,
     "metadata": {},
     "output_type": "execute_result"
    }
   ],
   "source": [
    "3**(3**2)"
   ]
  },
  {
   "cell_type": "code",
   "execution_count": 12,
   "id": "89fbe222",
   "metadata": {},
   "outputs": [
    {
     "data": {
      "text/plain": [
       "729"
      ]
     },
     "execution_count": 12,
     "metadata": {},
     "output_type": "execute_result"
    }
   ],
   "source": [
    "(3**3)**2"
   ]
  },
  {
   "cell_type": "code",
   "execution_count": null,
   "id": "ad9e9e05",
   "metadata": {},
   "outputs": [],
   "source": []
  }
 ],
 "metadata": {
  "kernelspec": {
   "display_name": "Python 3",
   "language": "python",
   "name": "python3"
  },
  "language_info": {
   "codemirror_mode": {
    "name": "ipython",
    "version": 3
   },
   "file_extension": ".py",
   "mimetype": "text/x-python",
   "name": "python",
   "nbconvert_exporter": "python",
   "pygments_lexer": "ipython3",
   "version": "3.13.3"
  }
 },
 "nbformat": 4,
 "nbformat_minor": 5
}
