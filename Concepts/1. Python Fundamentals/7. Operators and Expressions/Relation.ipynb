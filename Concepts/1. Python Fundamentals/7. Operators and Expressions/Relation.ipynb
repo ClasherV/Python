{
 "cells": [
  {
   "cell_type": "code",
   "execution_count": 2,
   "id": "7fa32829",
   "metadata": {},
   "outputs": [
    {
     "data": {
      "text/plain": [
       "True"
      ]
     },
     "execution_count": 2,
     "metadata": {},
     "output_type": "execute_result"
    }
   ],
   "source": [
    "4==4.0"
   ]
  },
  {
   "cell_type": "code",
   "execution_count": 4,
   "id": "0720f6d7",
   "metadata": {},
   "outputs": [
    {
     "data": {
      "text/plain": [
       "True"
      ]
     },
     "execution_count": 4,
     "metadata": {},
     "output_type": "execute_result"
    }
   ],
   "source": [
    "'Apple'>' Apple'"
   ]
  },
  {
   "cell_type": "code",
   "execution_count": 6,
   "id": "16fdb2ee",
   "metadata": {},
   "outputs": [
    {
     "data": {
      "text/plain": [
       "True"
      ]
     },
     "execution_count": 6,
     "metadata": {},
     "output_type": "execute_result"
    }
   ],
   "source": [
    "'Apple'=='Apple'"
   ]
  },
  {
   "cell_type": "code",
   "execution_count": 7,
   "id": "0bbf0173",
   "metadata": {},
   "outputs": [
    {
     "data": {
      "text/plain": [
       "False"
      ]
     },
     "execution_count": 7,
     "metadata": {},
     "output_type": "execute_result"
    }
   ],
   "source": [
    "'a'<'A'"
   ]
  },
  {
   "cell_type": "code",
   "execution_count": 18,
   "id": "5d06b1e4",
   "metadata": {},
   "outputs": [],
   "source": [
    "a,b,c,d,e,f,g,h,i,j,k,l,m,n,o,p,q=3,13,'n','g','N','god','God','god','God',\"Godhouse\",[1,2,3],[2,4,6],[1,2,3],(1,2,3),(2,4,6),(1,2,3),3.0"
   ]
  },
  {
   "cell_type": "code",
   "execution_count": 10,
   "id": "1f2e945f",
   "metadata": {},
   "outputs": [
    {
     "data": {
      "text/plain": [
       "True"
      ]
     },
     "execution_count": 10,
     "metadata": {},
     "output_type": "execute_result"
    }
   ],
   "source": [
    "a<b"
   ]
  },
  {
   "cell_type": "code",
   "execution_count": 11,
   "id": "c9dad2cb",
   "metadata": {},
   "outputs": [
    {
     "data": {
      "text/plain": [
       "False"
      ]
     },
     "execution_count": 11,
     "metadata": {},
     "output_type": "execute_result"
    }
   ],
   "source": [
    "c<d"
   ]
  },
  {
   "cell_type": "code",
   "execution_count": 12,
   "id": "282db359",
   "metadata": {},
   "outputs": [
    {
     "data": {
      "text/plain": [
       "False"
      ]
     },
     "execution_count": 12,
     "metadata": {},
     "output_type": "execute_result"
    }
   ],
   "source": [
    "f<h"
   ]
  },
  {
   "cell_type": "code",
   "execution_count": 13,
   "id": "54cc2e10",
   "metadata": {},
   "outputs": [
    {
     "data": {
      "text/plain": [
       "False"
      ]
     },
     "execution_count": 13,
     "metadata": {},
     "output_type": "execute_result"
    }
   ],
   "source": [
    "c==e"
   ]
  },
  {
   "cell_type": "code",
   "execution_count": 14,
   "id": "f632f899",
   "metadata": {},
   "outputs": [
    {
     "data": {
      "text/plain": [
       "True"
      ]
     },
     "execution_count": 14,
     "metadata": {},
     "output_type": "execute_result"
    }
   ],
   "source": [
    "g==i"
   ]
  },
  {
   "cell_type": "code",
   "execution_count": 15,
   "id": "e2f07d9e",
   "metadata": {},
   "outputs": [
    {
     "data": {
      "text/plain": [
       "True"
      ]
     },
     "execution_count": 15,
     "metadata": {},
     "output_type": "execute_result"
    }
   ],
   "source": [
    "\"God\"<\"Godhouse\""
   ]
  },
  {
   "cell_type": "code",
   "execution_count": 16,
   "id": "f583c637",
   "metadata": {},
   "outputs": [
    {
     "data": {
      "text/plain": [
       "False"
      ]
     },
     "execution_count": 16,
     "metadata": {},
     "output_type": "execute_result"
    }
   ],
   "source": [
    "\"god\"<\"Godhouse\""
   ]
  },
  {
   "cell_type": "code",
   "execution_count": 19,
   "id": "c4f2191e",
   "metadata": {},
   "outputs": [
    {
     "data": {
      "text/plain": [
       "True"
      ]
     },
     "execution_count": 19,
     "metadata": {},
     "output_type": "execute_result"
    }
   ],
   "source": [
    "a==q"
   ]
  },
  {
   "cell_type": "code",
   "execution_count": 20,
   "id": "91d539d1",
   "metadata": {},
   "outputs": [
    {
     "data": {
      "text/plain": [
       "False"
      ]
     },
     "execution_count": 20,
     "metadata": {},
     "output_type": "execute_result"
    }
   ],
   "source": [
    "k==l"
   ]
  },
  {
   "cell_type": "code",
   "execution_count": 21,
   "id": "f0debaab",
   "metadata": {},
   "outputs": [
    {
     "data": {
      "text/plain": [
       "True"
      ]
     },
     "execution_count": 21,
     "metadata": {},
     "output_type": "execute_result"
    }
   ],
   "source": [
    "k==m"
   ]
  },
  {
   "cell_type": "code",
   "execution_count": 22,
   "id": "4f8058ab",
   "metadata": {},
   "outputs": [
    {
     "data": {
      "text/plain": [
       "False"
      ]
     },
     "execution_count": 22,
     "metadata": {},
     "output_type": "execute_result"
    }
   ],
   "source": [
    "n==o"
   ]
  },
  {
   "cell_type": "code",
   "execution_count": 23,
   "id": "b979598d",
   "metadata": {},
   "outputs": [
    {
     "data": {
      "text/plain": [
       "True"
      ]
     },
     "execution_count": 23,
     "metadata": {},
     "output_type": "execute_result"
    }
   ],
   "source": [
    "n==p"
   ]
  },
  {
   "cell_type": "code",
   "execution_count": 24,
   "id": "c670549d",
   "metadata": {},
   "outputs": [
    {
     "data": {
      "text/plain": [
       "False"
      ]
     },
     "execution_count": 24,
     "metadata": {},
     "output_type": "execute_result"
    }
   ],
   "source": [
    "a==True"
   ]
  },
  {
   "cell_type": "code",
   "execution_count": 25,
   "id": "537ee7b3",
   "metadata": {},
   "outputs": [
    {
     "data": {
      "text/plain": [
       "True"
      ]
     },
     "execution_count": 25,
     "metadata": {},
     "output_type": "execute_result"
    }
   ],
   "source": [
    "0==False"
   ]
  },
  {
   "cell_type": "code",
   "execution_count": 26,
   "id": "a6111dae",
   "metadata": {},
   "outputs": [
    {
     "data": {
      "text/plain": [
       "True"
      ]
     },
     "execution_count": 26,
     "metadata": {},
     "output_type": "execute_result"
    }
   ],
   "source": [
    "1==True"
   ]
  },
  {
   "cell_type": "markdown",
   "id": "6b24382f",
   "metadata": {},
   "source": [
    "<h1>Questions<h1>"
   ]
  },
  {
   "cell_type": "markdown",
   "id": "2855cb4e",
   "metadata": {},
   "source": [
    "Q.1 What will be the result of 7.2%2.1"
   ]
  },
  {
   "cell_type": "code",
   "execution_count": 27,
   "id": "d80d6bdc",
   "metadata": {},
   "outputs": [
    {
     "data": {
      "text/plain": [
       "0.8999999999999999"
      ]
     },
     "execution_count": 27,
     "metadata": {},
     "output_type": "execute_result"
    }
   ],
   "source": [
    "7.2 % 2.1"
   ]
  },
  {
   "cell_type": "markdown",
   "id": "63775974",
   "metadata": {},
   "source": [
    "Q.2 What will be the result of 8%3"
   ]
  },
  {
   "cell_type": "code",
   "execution_count": 28,
   "id": "e42f8566",
   "metadata": {},
   "outputs": [
    {
     "data": {
      "text/plain": [
       "2"
      ]
     },
     "execution_count": 28,
     "metadata": {},
     "output_type": "execute_result"
    }
   ],
   "source": [
    "8%3"
   ]
  },
  {
   "cell_type": "markdown",
   "id": "74319f6a",
   "metadata": {},
   "source": [
    "Q.3 What will be the result of 5.0/3"
   ]
  },
  {
   "cell_type": "code",
   "execution_count": 29,
   "id": "c960b56e",
   "metadata": {},
   "outputs": [
    {
     "data": {
      "text/plain": [
       "1.6666666666666667"
      ]
     },
     "execution_count": 29,
     "metadata": {},
     "output_type": "execute_result"
    }
   ],
   "source": [
    "5.0/3"
   ]
  },
  {
   "cell_type": "markdown",
   "id": "3a2fe754",
   "metadata": {},
   "source": [
    "Q.4 What will be the result of 5.0//3"
   ]
  },
  {
   "cell_type": "code",
   "execution_count": 30,
   "id": "08d9236d",
   "metadata": {},
   "outputs": [
    {
     "data": {
      "text/plain": [
       "1.0"
      ]
     },
     "execution_count": 30,
     "metadata": {},
     "output_type": "execute_result"
    }
   ],
   "source": [
    "5.0//3"
   ]
  },
  {
   "cell_type": "markdown",
   "id": "5a6b0f11",
   "metadata": {},
   "source": [
    "Q.5 How will you calculate 4.5^5 in Python?"
   ]
  },
  {
   "cell_type": "code",
   "execution_count": 31,
   "id": "561d1cbf",
   "metadata": {},
   "outputs": [
    {
     "data": {
      "text/plain": [
       "1845.28125"
      ]
     },
     "execution_count": 31,
     "metadata": {},
     "output_type": "execute_result"
    }
   ],
   "source": [
    "4.5**5"
   ]
  },
  {
   "cell_type": "markdown",
   "id": "33171e98",
   "metadata": {},
   "source": [
    "Q.6 Write an expression that uses a relational operator to return True if the variable total is greater than or equal to variable final."
   ]
  },
  {
   "cell_type": "code",
   "execution_count": 32,
   "id": "4e1591af",
   "metadata": {},
   "outputs": [
    {
     "data": {
      "text/plain": [
       "True"
      ]
     },
     "execution_count": 32,
     "metadata": {},
     "output_type": "execute_result"
    }
   ],
   "source": [
    "b,c=5,4\n",
    "a=b>=c\n",
    "a"
   ]
  },
  {
   "cell_type": "markdown",
   "id": "1a74f934",
   "metadata": {},
   "source": [
    "<h1>Note<h1>"
   ]
  },
  {
   "cell_type": "code",
   "execution_count": 33,
   "id": "f9ce75a4",
   "metadata": {},
   "outputs": [
    {
     "data": {
      "text/plain": [
       "False"
      ]
     },
     "execution_count": 33,
     "metadata": {},
     "output_type": "execute_result"
    }
   ],
   "source": [
    "0.1+0.1+0.1==0.3"
   ]
  },
  {
   "cell_type": "code",
   "execution_count": 34,
   "id": "67294c5e",
   "metadata": {},
   "outputs": [
    {
     "data": {
      "text/plain": [
       "0.30000000000000004"
      ]
     },
     "execution_count": 34,
     "metadata": {},
     "output_type": "execute_result"
    }
   ],
   "source": [
    "0.1+0.1+0.1"
   ]
  },
  {
   "cell_type": "markdown",
   "id": "7045b0a3",
   "metadata": {},
   "source": [
    "<h1>Relational with Arithmetic<h1>"
   ]
  },
  {
   "cell_type": "code",
   "execution_count": 35,
   "id": "ac305214",
   "metadata": {},
   "outputs": [
    {
     "data": {
      "text/plain": [
       "True"
      ]
     },
     "execution_count": 35,
     "metadata": {},
     "output_type": "execute_result"
    }
   ],
   "source": [
    "a,b,c=10,5,6\n",
    "a+5>c-2 # (a+5)>(c-2)"
   ]
  },
  {
   "cell_type": "markdown",
   "id": "35033b6c",
   "metadata": {},
   "source": [
    "<h1>Questions<h1>"
   ]
  },
  {
   "cell_type": "markdown",
   "id": "207bf66d",
   "metadata": {},
   "source": [
    "Q.1 Given tha i=4,j=5,k=4, what will be the result of following expressions:\n",
    "    \n",
    "(i) i<k\n",
    "(ii) i<j\n",
    "(iii) i<=k\n",
    "(iv) i==j\n",
    "(v) i==k\n",
    "(vi) j>k\n",
    "(vii) j>=i\n",
    "(viii) j!=i\n",
    "(ix) j<=k\n"
   ]
  },
  {
   "cell_type": "code",
   "execution_count": 37,
   "id": "6510cee0",
   "metadata": {},
   "outputs": [],
   "source": [
    "i,j,k=4,5,4"
   ]
  },
  {
   "cell_type": "code",
   "execution_count": 38,
   "id": "ee0785d7",
   "metadata": {},
   "outputs": [
    {
     "data": {
      "text/plain": [
       "False"
      ]
     },
     "execution_count": 38,
     "metadata": {},
     "output_type": "execute_result"
    }
   ],
   "source": [
    "i<k"
   ]
  },
  {
   "cell_type": "code",
   "execution_count": 39,
   "id": "6b0ed34c",
   "metadata": {},
   "outputs": [
    {
     "data": {
      "text/plain": [
       "True"
      ]
     },
     "execution_count": 39,
     "metadata": {},
     "output_type": "execute_result"
    }
   ],
   "source": [
    "i<j"
   ]
  },
  {
   "cell_type": "code",
   "execution_count": 40,
   "id": "54a456d1",
   "metadata": {},
   "outputs": [
    {
     "data": {
      "text/plain": [
       "True"
      ]
     },
     "execution_count": 40,
     "metadata": {},
     "output_type": "execute_result"
    }
   ],
   "source": [
    "i<=k"
   ]
  },
  {
   "cell_type": "code",
   "execution_count": 41,
   "id": "21fb9d6c",
   "metadata": {},
   "outputs": [
    {
     "data": {
      "text/plain": [
       "False"
      ]
     },
     "execution_count": 41,
     "metadata": {},
     "output_type": "execute_result"
    }
   ],
   "source": [
    "i==j"
   ]
  },
  {
   "cell_type": "code",
   "execution_count": 42,
   "id": "bd93a577",
   "metadata": {},
   "outputs": [
    {
     "data": {
      "text/plain": [
       "True"
      ]
     },
     "execution_count": 42,
     "metadata": {},
     "output_type": "execute_result"
    }
   ],
   "source": [
    "i==k"
   ]
  },
  {
   "cell_type": "code",
   "execution_count": 43,
   "id": "7f82b6dc",
   "metadata": {},
   "outputs": [
    {
     "data": {
      "text/plain": [
       "True"
      ]
     },
     "execution_count": 43,
     "metadata": {},
     "output_type": "execute_result"
    }
   ],
   "source": [
    "j>k"
   ]
  },
  {
   "cell_type": "code",
   "execution_count": 44,
   "id": "36fbed09",
   "metadata": {},
   "outputs": [
    {
     "data": {
      "text/plain": [
       "True"
      ]
     },
     "execution_count": 44,
     "metadata": {},
     "output_type": "execute_result"
    }
   ],
   "source": [
    "j>=i"
   ]
  },
  {
   "cell_type": "code",
   "execution_count": 45,
   "id": "8845f91c",
   "metadata": {},
   "outputs": [
    {
     "data": {
      "text/plain": [
       "True"
      ]
     },
     "execution_count": 45,
     "metadata": {},
     "output_type": "execute_result"
    }
   ],
   "source": [
    "j!=i"
   ]
  },
  {
   "cell_type": "code",
   "execution_count": 46,
   "id": "7415bd54",
   "metadata": {},
   "outputs": [
    {
     "data": {
      "text/plain": [
       "False"
      ]
     },
     "execution_count": 46,
     "metadata": {},
     "output_type": "execute_result"
    }
   ],
   "source": [
    "j<=k"
   ]
  },
  {
   "cell_type": "markdown",
   "id": "78ad1fa0",
   "metadata": {},
   "source": [
    "Q.2 What will be the order of evaluation for following expressions:\n",
    "\n",
    "(i) i+5>=j-6\n",
    "(ii) s*10<p**2\n",
    "(iii) i<j+k>1-n"
   ]
  },
  {
   "cell_type": "code",
   "execution_count": 51,
   "id": "8cdd2e8b",
   "metadata": {},
   "outputs": [],
   "source": [
    "i,j,k,s,p,n=4,5,4,2,2,2"
   ]
  },
  {
   "cell_type": "code",
   "execution_count": 48,
   "id": "ce83d8d4",
   "metadata": {},
   "outputs": [
    {
     "data": {
      "text/plain": [
       "True"
      ]
     },
     "execution_count": 48,
     "metadata": {},
     "output_type": "execute_result"
    }
   ],
   "source": [
    "i+5>=j-6"
   ]
  },
  {
   "cell_type": "code",
   "execution_count": 49,
   "id": "02e77f8a",
   "metadata": {},
   "outputs": [
    {
     "data": {
      "text/plain": [
       "False"
      ]
     },
     "execution_count": 49,
     "metadata": {},
     "output_type": "execute_result"
    }
   ],
   "source": [
    "s*10<p**2"
   ]
  },
  {
   "cell_type": "code",
   "execution_count": 52,
   "id": "2c52d826",
   "metadata": {},
   "outputs": [
    {
     "data": {
      "text/plain": [
       "True"
      ]
     },
     "execution_count": 52,
     "metadata": {},
     "output_type": "execute_result"
    }
   ],
   "source": [
    "i<j+k>1-n"
   ]
  },
  {
   "cell_type": "code",
   "execution_count": null,
   "id": "674bfaa2",
   "metadata": {},
   "outputs": [],
   "source": []
  }
 ],
 "metadata": {
  "kernelspec": {
   "display_name": "Python 3",
   "language": "python",
   "name": "python3"
  },
  "language_info": {
   "codemirror_mode": {
    "name": "ipython",
    "version": 3
   },
   "file_extension": ".py",
   "mimetype": "text/x-python",
   "name": "python",
   "nbconvert_exporter": "python",
   "pygments_lexer": "ipython3",
   "version": "3.13.3"
  }
 },
 "nbformat": 4,
 "nbformat_minor": 5
}
