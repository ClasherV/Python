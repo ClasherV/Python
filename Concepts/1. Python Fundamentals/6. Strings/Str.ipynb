{
 "cells": [
  {
   "cell_type": "markdown",
   "id": "5c9dbde9",
   "metadata": {},
   "source": [
    "<h1>String Basics</h1>"
   ]
  },
  {
   "cell_type": "code",
   "execution_count": 1,
   "id": "6fa0bcab",
   "metadata": {},
   "outputs": [
    {
     "data": {
      "text/plain": [
       "'Hello World'"
      ]
     },
     "execution_count": 1,
     "metadata": {},
     "output_type": "execute_result"
    }
   ],
   "source": [
    "'Hello World'"
   ]
  },
  {
   "cell_type": "code",
   "execution_count": 2,
   "id": "12addcf0",
   "metadata": {},
   "outputs": [
    {
     "data": {
      "text/plain": [
       "'Hello World'"
      ]
     },
     "execution_count": 2,
     "metadata": {},
     "output_type": "execute_result"
    }
   ],
   "source": [
    "\"Hello World\""
   ]
  },
  {
   "cell_type": "markdown",
   "id": "b04e194a",
   "metadata": {},
   "source": [
    "<h1>String Indexing and Slicing</h1>"
   ]
  },
  {
   "cell_type": "code",
   "execution_count": 8,
   "id": "b394ca3b",
   "metadata": {},
   "outputs": [
    {
     "name": "stdout",
     "output_type": "stream",
     "text": [
      "P\n",
      "n\n"
     ]
    }
   ],
   "source": [
    "s = \"Python\"\n",
    "print(s[0])  # 'P'\n",
    "print(s[-1]) # 'n'"
   ]
  },
  {
   "cell_type": "code",
   "execution_count": 9,
   "id": "921f3472",
   "metadata": {},
   "outputs": [
    {
     "name": "stdout",
     "output_type": "stream",
     "text": [
      "yth\n",
      "Pyt\n",
      "Pto\n",
      "nohtyP\n"
     ]
    }
   ],
   "source": [
    "print(s[1:4])   # 'yth'\n",
    "print(s[:3])    # 'Pyt'\n",
    "print(s[::2])   # 'Pto'\n",
    "print(s[::-1])  # 'nohtyP' (reversed)\n"
   ]
  },
  {
   "cell_type": "markdown",
   "id": "0454196d",
   "metadata": {},
   "source": [
    "<h1>String Methods</h1>"
   ]
  },
  {
   "cell_type": "code",
   "execution_count": 18,
   "id": "465ecf32",
   "metadata": {},
   "outputs": [
    {
     "name": "stdout",
     "output_type": "stream",
     "text": [
      "   python is best,language   \n",
      "   PYTHON IS BEST,LANGUAGE   \n",
      "   Python Is Best,Language   \n",
      "Python is best,Language\n",
      "   Python is best,Lbngubge   \n",
      "['   Python is best', 'Language   ']\n",
      "A,B,C,D,E\n",
      "-1\n",
      "0\n",
      "False\n",
      "False\n",
      "False\n",
      "False\n"
     ]
    }
   ],
   "source": [
    "s=\"   Python is best,Language   \" \n",
    "lst=[\"A\",\"B\",\"C\",\"D\",\"E\"]\n",
    "print(s.lower())\t\n",
    "print(s.upper())\t\n",
    "print(s.title())\t\n",
    "print(s.strip())\t\n",
    "print(s.replace(\"a\", \"b\"))\t\n",
    "print(s.split(\",\"))\t\n",
    "print(\",\".join(lst))\t\n",
    "print(s.find(\"x\"))\t\n",
    "print(s.count(\"x\"))\t\n",
    "print(s.startswith(\"A\"))\t\n",
    "print(s.endswith(\"Z\"))\t\n",
    "print(s.isdigit())\t\n",
    "print(s.isalpha())\t"
   ]
  },
  {
   "cell_type": "markdown",
   "id": "96e14be1",
   "metadata": {},
   "source": [
    "<h1>String Operations</h1>"
   ]
  },
  {
   "cell_type": "code",
   "execution_count": 19,
   "id": "24510cfd",
   "metadata": {},
   "outputs": [
    {
     "data": {
      "text/plain": [
       "True"
      ]
     },
     "execution_count": 19,
     "metadata": {},
     "output_type": "execute_result"
    }
   ],
   "source": [
    "\"Hello\" + \"World\"       # Concatenation\n",
    "\"Hi\" * 3                # Repetition: 'HiHiHi'\n",
    "len(\"Python\")           # Length: 6\n",
    "\"a\" in \"apple\"          # Membership: True"
   ]
  },
  {
   "cell_type": "markdown",
   "id": "3c850ed8",
   "metadata": {},
   "source": [
    "<h1>String Formatting</h1>"
   ]
  },
  {
   "cell_type": "code",
   "execution_count": 20,
   "id": "4e8af654",
   "metadata": {},
   "outputs": [
    {
     "name": "stdout",
     "output_type": "stream",
     "text": [
      "My name is Vaibhav and I am 21 years old.\n"
     ]
    }
   ],
   "source": [
    "name = \"Vaibhav\"\n",
    "age = 21\n",
    "print(f\"My name is {name} and I am {age} years old.\")\n"
   ]
  },
  {
   "cell_type": "code",
   "execution_count": 21,
   "id": "c9fbf7f4",
   "metadata": {},
   "outputs": [
    {
     "name": "stdout",
     "output_type": "stream",
     "text": [
      "My name is Vaibhav and I am 21 years old.\n"
     ]
    }
   ],
   "source": [
    "print(\"My name is {} and I am {} years old.\".format(name, age))\n"
   ]
  },
  {
   "cell_type": "markdown",
   "id": "ef8e5138",
   "metadata": {},
   "source": [
    "<h1>Escape Sequences</h1>"
   ]
  },
  {
   "cell_type": "markdown",
   "id": "5f01e367",
   "metadata": {},
   "source": [
    "<h1>Raw String</h1>"
   ]
  },
  {
   "cell_type": "code",
   "execution_count": 22,
   "id": "91968221",
   "metadata": {},
   "outputs": [],
   "source": [
    "path = r\"C:\\new_folder\\test.txt\"\n"
   ]
  },
  {
   "cell_type": "markdown",
   "id": "888c9184",
   "metadata": {},
   "source": [
    "<h1>Unicode and Encoding</h1>"
   ]
  },
  {
   "cell_type": "code",
   "execution_count": null,
   "id": "9645b02b",
   "metadata": {},
   "outputs": [
    {
     "data": {
      "text/plain": [
       "'hello'"
      ]
     },
     "execution_count": 26,
     "metadata": {},
     "output_type": "execute_result"
    }
   ],
   "source": [
    "s.encode('utf-8')     # Convert to bytes\n",
    "b\"hello\".decode()     # Convert to string\n"
   ]
  },
  {
   "cell_type": "markdown",
   "id": "052a6efc",
   "metadata": {},
   "source": [
    "<h1>Multi line strings</h1>"
   ]
  },
  {
   "cell_type": "code",
   "execution_count": 27,
   "id": "31f95c9d",
   "metadata": {},
   "outputs": [],
   "source": [
    "long_text = \"\"\"This is\n",
    "a multiline\n",
    "string\"\"\"\n"
   ]
  },
  {
   "cell_type": "markdown",
   "id": "131936c2",
   "metadata": {},
   "source": [
    "<h1>String Comparisons</h1>"
   ]
  },
  {
   "cell_type": "code",
   "execution_count": 28,
   "id": "531dd7fd",
   "metadata": {},
   "outputs": [
    {
     "ename": "NameError",
     "evalue": "name 's1' is not defined",
     "output_type": "error",
     "traceback": [
      "\u001b[31m---------------------------------------------------------------------------\u001b[39m",
      "\u001b[31mNameError\u001b[39m                                 Traceback (most recent call last)",
      "\u001b[36mCell\u001b[39m\u001b[36m \u001b[39m\u001b[32mIn[28]\u001b[39m\u001b[32m, line 1\u001b[39m\n\u001b[32m----> \u001b[39m\u001b[32m1\u001b[39m \u001b[43ms1\u001b[49m == s2       \u001b[38;5;66;03m# Value equality\u001b[39;00m\n\u001b[32m      2\u001b[39m s1 \u001b[38;5;129;01mis\u001b[39;00m s2       \u001b[38;5;66;03m# Identity (memory address)\u001b[39;00m\n\u001b[32m      3\u001b[39m s1 < s2        \u001b[38;5;66;03m# Lexicographic comparison\u001b[39;00m\n",
      "\u001b[31mNameError\u001b[39m: name 's1' is not defined"
     ]
    }
   ],
   "source": [
    "s1 == s2       # Value equality\n",
    "s1 is s2       # Identity (memory address)\n",
    "s1 < s2        # Lexicographic comparison\n"
   ]
  },
  {
   "cell_type": "code",
   "execution_count": 30,
   "id": "8574c994",
   "metadata": {},
   "outputs": [
    {
     "name": "stdout",
     "output_type": "stream",
     "text": [
      "b'Hello'\n"
     ]
    }
   ],
   "source": [
    "s='Hello'\n",
    "print(b\"Hello\")"
   ]
  },
  {
   "cell_type": "code",
   "execution_count": 3,
   "id": "232c21a0",
   "metadata": {},
   "outputs": [
    {
     "name": "stdout",
     "output_type": "stream",
     "text": [
      "72\n"
     ]
    }
   ],
   "source": [
    "a=b\"Hi\"\n",
    "print(a[0])"
   ]
  },
  {
   "cell_type": "code",
   "execution_count": null,
   "id": "a8f47605",
   "metadata": {},
   "outputs": [],
   "source": []
  }
 ],
 "metadata": {
  "kernelspec": {
   "display_name": "Python 3",
   "language": "python",
   "name": "python3"
  },
  "language_info": {
   "codemirror_mode": {
    "name": "ipython",
    "version": 3
   },
   "file_extension": ".py",
   "mimetype": "text/x-python",
   "name": "python",
   "nbconvert_exporter": "python",
   "pygments_lexer": "ipython3",
   "version": "3.13.3"
  }
 },
 "nbformat": 4,
 "nbformat_minor": 5
}
