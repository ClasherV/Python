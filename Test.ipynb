{
 "cells": [
  {
   "cell_type": "code",
   "execution_count": 1,
   "id": "9a20415e",
   "metadata": {},
   "outputs": [],
   "source": [
    "import os\n",
    "import pandas as pd\n",
    "import numpy as np\n",
    "import matplotlib.pyplot as plt\n",
    "%matplotlib inline\n",
    "import seaborn as sns\n",
    "sns.set_theme()\n",
    "import warnings\n",
    "warnings.filterwarnings('ignore')"
   ]
  },
  {
   "cell_type": "code",
   "execution_count": 2,
   "id": "7a3ef6dc",
   "metadata": {},
   "outputs": [
    {
     "name": "stderr",
     "output_type": "stream",
     "text": [
      "Downloading...\n",
      "From (original): https://drive.google.com/uc?id=1Yy6m97BjIzXBPJ7RFogtNpZFu3S4ulyL\n",
      "From (redirected): https://drive.google.com/uc?id=1Yy6m97BjIzXBPJ7RFogtNpZFu3S4ulyL&confirm=t&uuid=76f56526-d71c-4d2e-8f28-34b6b3d30cd6\n",
      "To: d:\\Programming\\Codes\\Python\\Finance_dept.zip\n",
      "100%|██████████| 40.0M/40.0M [00:08<00:00, 4.79MB/s]\n"
     ]
    },
    {
     "data": {
      "text/plain": [
       "'Finance_dept.zip'"
      ]
     },
     "execution_count": 2,
     "metadata": {},
     "output_type": "execute_result"
    }
   ],
   "source": [
    "import gdown\n",
    "file_id = \"1Yy6m97BjIzXBPJ7RFogtNpZFu3S4ulyL\"\n",
    "gdown.download(f\"https://drive.google.com/uc?id={file_id}\", \"Finance_dept.zip\", quiet=False)"
   ]
  },
  {
   "cell_type": "code",
   "execution_count": 3,
   "id": "d7510668",
   "metadata": {},
   "outputs": [],
   "source": [
    "import zipfile\n",
    "with zipfile.ZipFile(\"Finance_dept.zip\", \"r\") as zip_ref:\n",
    "    zip_ref.extractall(\"Finance_dept\")"
   ]
  },
  {
   "cell_type": "code",
   "execution_count": 4,
   "id": "473cb853",
   "metadata": {},
   "outputs": [
    {
     "name": "stdout",
     "output_type": "stream",
     "text": [
      "['Geo_scores.csv', 'instance_scores.csv', 'Lambda_wts.csv', 'Presentation.pptx', 'Qset_tats.csv', 'test_share.csv', 'train.csv']\n"
     ]
    }
   ],
   "source": [
    "folder_path='Finance_dept'\n",
    "inner_folder_path = os.path.join(folder_path, 'Capston project finance dept')\n",
    "files = os.listdir(inner_folder_path)\n",
    "print(files)"
   ]
  },
  {
   "cell_type": "code",
   "execution_count": 5,
   "id": "d865b0c8",
   "metadata": {},
   "outputs": [],
   "source": [
    "train=pd.read_csv(os.path.join(inner_folder_path,\"train.csv\"))\n",
    "train_sorted=train.sort_values('id')\n",
    "test=pd.read_csv(os.path.join(inner_folder_path,\"test_share.csv\"))\n",
    "test_sorted=test.sort_values('id')\n",
    "geo=pd.read_csv(os.path.join(inner_folder_path,\"Geo_scores.csv\"))\n",
    "geo_sorted=geo.sort_values('id')\n",
    "instance=pd.read_csv(os.path.join(inner_folder_path,\"instance_scores.csv\"))\n",
    "instance_sorted=instance.sort_values('id')\n",
    "qset=pd.read_csv(os.path.join(inner_folder_path,\"Qset_tats.csv\"))\n",
    "qset_sorted=qset.sort_values('id')\n",
    "lambda_wt=pd.read_csv(os.path.join(inner_folder_path,\"Lambda_wts.csv\"))\n",
    "lambda_sorted=lambda_wt.sort_values('Group')"
   ]
  },
  {
   "cell_type": "code",
   "execution_count": null,
   "id": "4b6cb619",
   "metadata": {},
   "outputs": [],
   "source": [
    "m1=pd.merge(geo_sorted,instance_sorted,on='id',how='left')\n",
    "del geo_sorted,instance_sorted\n",
    "m2=pd.merge(m1,qset_sorted,on='id',how='left')\n",
    "del m1,qset_sorted"
   ]
  },
  {
   "cell_type": "code",
   "execution_count": null,
   "id": "431ebe5b",
   "metadata": {},
   "outputs": [],
   "source": [
    "print(m2.head())\n",
    "print(m2.info())"
   ]
  }
 ],
 "metadata": {
  "kernelspec": {
   "display_name": "Python 3",
   "language": "python",
   "name": "python3"
  },
  "language_info": {
   "codemirror_mode": {
    "name": "ipython",
    "version": 3
   },
   "file_extension": ".py",
   "mimetype": "text/x-python",
   "name": "python",
   "nbconvert_exporter": "python",
   "pygments_lexer": "ipython3",
   "version": "3.13.3"
  }
 },
 "nbformat": 4,
 "nbformat_minor": 5
}
