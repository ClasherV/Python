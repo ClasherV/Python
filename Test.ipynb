{
 "cells": [
  {
   "cell_type": "code",
   "execution_count": 1,
   "id": "9a20415e",
   "metadata": {},
   "outputs": [],
   "source": [
    "import os\n",
    "import pandas as pd\n",
    "import numpy as np\n",
    "import matplotlib.pyplot as plt\n",
    "%matplotlib inline\n",
    "import seaborn as sns\n",
    "sns.set_theme()\n",
    "import warnings\n",
    "warnings.filterwarnings('ignore')"
   ]
  },
  {
   "cell_type": "code",
   "execution_count": 2,
   "id": "7a3ef6dc",
   "metadata": {},
   "outputs": [
    {
     "name": "stderr",
     "output_type": "stream",
     "text": [
      "Downloading...\n",
      "From (original): https://drive.google.com/uc?id=1Yy6m97BjIzXBPJ7RFogtNpZFu3S4ulyL\n",
      "From (redirected): https://drive.google.com/uc?id=1Yy6m97BjIzXBPJ7RFogtNpZFu3S4ulyL&confirm=t&uuid=bfb6e724-5eed-45fb-aa7c-d379e07e0a3a\n",
      "To: d:\\Programming\\Codes\\Python\\Finance_dept.zip\n",
      "100%|██████████| 40.0M/40.0M [00:12<00:00, 3.31MB/s]\n"
     ]
    },
    {
     "data": {
      "text/plain": [
       "'Finance_dept.zip'"
      ]
     },
     "execution_count": 2,
     "metadata": {},
     "output_type": "execute_result"
    }
   ],
   "source": [
    "import gdown\n",
    "file_id = \"1Yy6m97BjIzXBPJ7RFogtNpZFu3S4ulyL\"\n",
    "gdown.download(f\"https://drive.google.com/uc?id={file_id}\", \"Finance_dept.zip\", quiet=False)"
   ]
  },
  {
   "cell_type": "code",
   "execution_count": 3,
   "id": "d7510668",
   "metadata": {},
   "outputs": [],
   "source": [
    "import zipfile\n",
    "with zipfile.ZipFile(\"Finance_dept.zip\", \"r\") as zip_ref:\n",
    "    zip_ref.extractall(\"Finance_dept\")"
   ]
  },
  {
   "cell_type": "code",
   "execution_count": 4,
   "id": "473cb853",
   "metadata": {},
   "outputs": [
    {
     "name": "stdout",
     "output_type": "stream",
     "text": [
      "['Geo_scores.csv', 'instance_scores.csv', 'Lambda_wts.csv', 'Presentation.pptx', 'Qset_tats.csv', 'test_share.csv', 'train.csv']\n"
     ]
    }
   ],
   "source": [
    "folder_path='Finance_dept'\n",
    "inner_folder_path = os.path.join(folder_path, 'Capston project finance dept')\n",
    "files = os.listdir(inner_folder_path)\n",
    "print(files)"
   ]
  },
  {
   "cell_type": "code",
   "execution_count": 5,
   "id": "d865b0c8",
   "metadata": {},
   "outputs": [],
   "source": [
    "train=pd.read_csv(os.path.join(inner_folder_path,\"train.csv\"))\n",
    "train_sorted=train.sort_values('id')\n",
    "test=pd.read_csv(os.path.join(inner_folder_path,\"test_share.csv\"))\n",
    "test_sorted=test.sort_values('id')\n",
    "geo=pd.read_csv(os.path.join(inner_folder_path,\"Geo_scores.csv\"))\n",
    "geo_sorted=geo.sort_values('id')\n",
    "instance=pd.read_csv(os.path.join(inner_folder_path,\"instance_scores.csv\"))\n",
    "instance_sorted=instance.sort_values('id')\n",
    "qset=pd.read_csv(os.path.join(inner_folder_path,\"Qset_tats.csv\"))\n",
    "qset_sorted=qset.sort_values('id')\n",
    "lambda_wt=pd.read_csv(os.path.join(inner_folder_path,\"Lambda_wts.csv\"))\n",
    "lambda_sorted=lambda_wt.sort_values('Group')"
   ]
  },
  {
   "cell_type": "code",
   "execution_count": 6,
   "id": "4b6cb619",
   "metadata": {},
   "outputs": [],
   "source": [
    "m1=pd.merge(geo_sorted,instance_sorted,on='id',how='left')\n",
    "del geo_sorted,instance_sorted\n",
    "m2=pd.merge(m1,qset_sorted,on='id',how='left')\n",
    "del m1,qset_sorted"
   ]
  },
  {
   "cell_type": "code",
   "execution_count": 8,
   "id": "431ebe5b",
   "metadata": {},
   "outputs": [
    {
     "name": "stdout",
     "output_type": "stream",
     "text": [
      "   id  geo_score  instance_scores  qsets_normalized_tat\n",
      "0   0       4.48             0.05                 -2.41\n",
      "1   0       4.48             0.05                   NaN\n",
      "2   0       4.48             0.05                 14.49\n",
      "3   0       4.48             0.05                 -9.31\n",
      "4   0       4.48             0.05                 -1.72\n",
      "<class 'pandas.core.frame.DataFrame'>\n",
      "RangeIndex: 35600875 entries, 0 to 35600874\n",
      "Data columns (total 4 columns):\n",
      " #   Column                Dtype  \n",
      "---  ------                -----  \n",
      " 0   id                    int64  \n",
      " 1   geo_score             float64\n",
      " 2   instance_scores       float64\n",
      " 3   qsets_normalized_tat  float64\n",
      "dtypes: float64(3), int64(1)\n",
      "memory usage: 1.1 GB\n",
      "None\n"
     ]
    }
   ],
   "source": [
    "print(m2.head())\n",
    "print(m2.info())"
   ]
  },
  {
   "cell_type": "code",
   "execution_count": 9,
   "id": "daeb1fe2",
   "metadata": {},
   "outputs": [
    {
     "data": {
      "application/vnd.microsoft.datawrangler.viewer.v0+json": {
       "columns": [
        {
         "name": "index",
         "rawType": "object",
         "type": "string"
        },
        {
         "name": "0",
         "rawType": "int64",
         "type": "integer"
        }
       ],
       "ref": "33143708-8f3b-4f86-9d43-a5f705c00fc2",
       "rows": [
        [
         "id",
         "0"
        ],
        [
         "geo_score",
         "1788575"
        ],
        [
         "instance_scores",
         "0"
        ],
        [
         "qsets_normalized_tat",
         "2580025"
        ]
       ],
       "shape": {
        "columns": 1,
        "rows": 4
       }
      },
      "text/plain": [
       "id                            0\n",
       "geo_score               1788575\n",
       "instance_scores               0\n",
       "qsets_normalized_tat    2580025\n",
       "dtype: int64"
      ]
     },
     "execution_count": 9,
     "metadata": {},
     "output_type": "execute_result"
    }
   ],
   "source": [
    "m2.isna().sum()"
   ]
  },
  {
   "cell_type": "code",
   "execution_count": 10,
   "id": "dec3916e",
   "metadata": {},
   "outputs": [
    {
     "name": "stdout",
     "output_type": "stream",
     "text": [
      "<class 'pandas.core.frame.DataFrame'>\n",
      "RangeIndex: 56962 entries, 0 to 56961\n",
      "Data columns (total 28 columns):\n",
      " #   Column          Non-Null Count  Dtype  \n",
      "---  ------          --------------  -----  \n",
      " 0   id              56962 non-null  int64  \n",
      " 1   Group           56962 non-null  object \n",
      " 2   Per1            56962 non-null  float64\n",
      " 3   Per2            56962 non-null  float64\n",
      " 4   Per3            56962 non-null  float64\n",
      " 5   Per4            56962 non-null  float64\n",
      " 6   Per5            56962 non-null  float64\n",
      " 7   Per6            56962 non-null  float64\n",
      " 8   Per7            56962 non-null  float64\n",
      " 9   Per8            56962 non-null  float64\n",
      " 10  Per9            56962 non-null  float64\n",
      " 11  Dem1            56962 non-null  float64\n",
      " 12  Dem2            56962 non-null  float64\n",
      " 13  Dem3            56962 non-null  float64\n",
      " 14  Dem4            56962 non-null  float64\n",
      " 15  Dem5            56962 non-null  float64\n",
      " 16  Dem6            56962 non-null  float64\n",
      " 17  Dem7            56962 non-null  float64\n",
      " 18  Dem8            56962 non-null  float64\n",
      " 19  Dem9            56962 non-null  float64\n",
      " 20  Cred1           56962 non-null  float64\n",
      " 21  Cred2           56962 non-null  float64\n",
      " 22  Cred3           56962 non-null  float64\n",
      " 23  Cred4           56962 non-null  float64\n",
      " 24  Cred5           56962 non-null  float64\n",
      " 25  Cred6           56962 non-null  float64\n",
      " 26  Normalised_FNT  56962 non-null  float64\n",
      " 27  lambda_wt       56962 non-null  float64\n",
      "dtypes: float64(26), int64(1), object(1)\n",
      "memory usage: 12.2+ MB\n",
      "None\n"
     ]
    },
    {
     "data": {
      "application/vnd.microsoft.datawrangler.viewer.v0+json": {
       "columns": [
        {
         "name": "index",
         "rawType": "object",
         "type": "string"
        },
        {
         "name": "0",
         "rawType": "int64",
         "type": "integer"
        }
       ],
       "ref": "39914915-d061-4f1a-8e79-4a4976ad979d",
       "rows": [
        [
         "id",
         "0"
        ],
        [
         "Group",
         "0"
        ],
        [
         "Per1",
         "0"
        ],
        [
         "Per2",
         "0"
        ],
        [
         "Per3",
         "0"
        ],
        [
         "Per4",
         "0"
        ],
        [
         "Per5",
         "0"
        ],
        [
         "Per6",
         "0"
        ],
        [
         "Per7",
         "0"
        ],
        [
         "Per8",
         "0"
        ],
        [
         "Per9",
         "0"
        ],
        [
         "Dem1",
         "0"
        ],
        [
         "Dem2",
         "0"
        ],
        [
         "Dem3",
         "0"
        ],
        [
         "Dem4",
         "0"
        ],
        [
         "Dem5",
         "0"
        ],
        [
         "Dem6",
         "0"
        ],
        [
         "Dem7",
         "0"
        ],
        [
         "Dem8",
         "0"
        ],
        [
         "Dem9",
         "0"
        ],
        [
         "Cred1",
         "0"
        ],
        [
         "Cred2",
         "0"
        ],
        [
         "Cred3",
         "0"
        ],
        [
         "Cred4",
         "0"
        ],
        [
         "Cred5",
         "0"
        ],
        [
         "Cred6",
         "0"
        ],
        [
         "Normalised_FNT",
         "0"
        ],
        [
         "lambda_wt",
         "0"
        ]
       ],
       "shape": {
        "columns": 1,
        "rows": 28
       }
      },
      "text/plain": [
       "id                0\n",
       "Group             0\n",
       "Per1              0\n",
       "Per2              0\n",
       "Per3              0\n",
       "Per4              0\n",
       "Per5              0\n",
       "Per6              0\n",
       "Per7              0\n",
       "Per8              0\n",
       "Per9              0\n",
       "Dem1              0\n",
       "Dem2              0\n",
       "Dem3              0\n",
       "Dem4              0\n",
       "Dem5              0\n",
       "Dem6              0\n",
       "Dem7              0\n",
       "Dem8              0\n",
       "Dem9              0\n",
       "Cred1             0\n",
       "Cred2             0\n",
       "Cred3             0\n",
       "Cred4             0\n",
       "Cred5             0\n",
       "Cred6             0\n",
       "Normalised_FNT    0\n",
       "lambda_wt         0\n",
       "dtype: int64"
      ]
     },
     "execution_count": 10,
     "metadata": {},
     "output_type": "execute_result"
    }
   ],
   "source": [
    "m2['geo_score']=m2['geo_score'].fillna(m2['geo_score'].median())\n",
    "m2['qsets_normalized_tat']=m2['qsets_normalized_tat'].fillna(m2['qsets_normalized_tat'].median())\n",
    "m3=pd.merge(test_sorted,lambda_sorted,on='Group',how='left')\n",
    "del test_sorted\n",
    "print(m3.info())\n",
    "m3.isna().sum()"
   ]
  },
  {
   "cell_type": "code",
   "execution_count": null,
   "id": "f626bd33",
   "metadata": {},
   "outputs": [],
   "source": [
    "merged_test=pd.merge(m3,m2,on='id',how='left')\n",
    "del m3\n",
    "merged_test.isna().sum()"
   ]
  },
  {
   "cell_type": "code",
   "execution_count": 12,
   "id": "d2c96632",
   "metadata": {},
   "outputs": [
    {
     "name": "stdout",
     "output_type": "stream",
     "text": [
      "<class 'pandas.core.frame.DataFrame'>\n",
      "RangeIndex: 227845 entries, 0 to 227844\n",
      "Data columns (total 29 columns):\n",
      " #   Column          Non-Null Count   Dtype  \n",
      "---  ------          --------------   -----  \n",
      " 0   id              227845 non-null  int64  \n",
      " 1   Group           227845 non-null  object \n",
      " 2   Per1            227845 non-null  float64\n",
      " 3   Per2            227845 non-null  float64\n",
      " 4   Per3            227845 non-null  float64\n",
      " 5   Per4            227845 non-null  float64\n",
      " 6   Per5            227845 non-null  float64\n",
      " 7   Per6            227845 non-null  float64\n",
      " 8   Per7            227845 non-null  float64\n",
      " 9   Per8            227845 non-null  float64\n",
      " 10  Per9            227845 non-null  float64\n",
      " 11  Dem1            227845 non-null  float64\n",
      " 12  Dem2            227845 non-null  float64\n",
      " 13  Dem3            227845 non-null  float64\n",
      " 14  Dem4            227845 non-null  float64\n",
      " 15  Dem5            227845 non-null  float64\n",
      " 16  Dem6            227845 non-null  float64\n",
      " 17  Dem7            227845 non-null  float64\n",
      " 18  Dem8            227845 non-null  float64\n",
      " 19  Dem9            227845 non-null  float64\n",
      " 20  Cred1           227845 non-null  float64\n",
      " 21  Cred2           227845 non-null  float64\n",
      " 22  Cred3           227845 non-null  float64\n",
      " 23  Cred4           227845 non-null  float64\n",
      " 24  Cred5           227845 non-null  float64\n",
      " 25  Cred6           227845 non-null  float64\n",
      " 26  Normalised_FNT  227845 non-null  float64\n",
      " 27  Target          227845 non-null  int64  \n",
      " 28  lambda_wt       227845 non-null  float64\n",
      "dtypes: float64(26), int64(2), object(1)\n",
      "memory usage: 50.4+ MB\n"
     ]
    }
   ],
   "source": [
    "mt3=pd.merge(train_sorted,lambda_sorted,on='Group',how='left')\n",
    "mt3.info()"
   ]
  },
  {
   "cell_type": "code",
   "execution_count": 13,
   "id": "c0d8c088",
   "metadata": {},
   "outputs": [
    {
     "data": {
      "application/vnd.microsoft.datawrangler.viewer.v0+json": {
       "columns": [
        {
         "name": "index",
         "rawType": "object",
         "type": "string"
        },
        {
         "name": "0",
         "rawType": "int64",
         "type": "integer"
        }
       ],
       "ref": "b94c7ac8-665b-4669-b802-98466899f614",
       "rows": [
        [
         "id",
         "0"
        ],
        [
         "Group",
         "0"
        ],
        [
         "Per1",
         "0"
        ],
        [
         "Per2",
         "0"
        ],
        [
         "Per3",
         "0"
        ],
        [
         "Per4",
         "0"
        ],
        [
         "Per5",
         "0"
        ],
        [
         "Per6",
         "0"
        ],
        [
         "Per7",
         "0"
        ],
        [
         "Per8",
         "0"
        ],
        [
         "Per9",
         "0"
        ],
        [
         "Dem1",
         "0"
        ],
        [
         "Dem2",
         "0"
        ],
        [
         "Dem3",
         "0"
        ],
        [
         "Dem4",
         "0"
        ],
        [
         "Dem5",
         "0"
        ],
        [
         "Dem6",
         "0"
        ],
        [
         "Dem7",
         "0"
        ],
        [
         "Dem8",
         "0"
        ],
        [
         "Dem9",
         "0"
        ],
        [
         "Cred1",
         "0"
        ],
        [
         "Cred2",
         "0"
        ],
        [
         "Cred3",
         "0"
        ],
        [
         "Cred4",
         "0"
        ],
        [
         "Cred5",
         "0"
        ],
        [
         "Cred6",
         "0"
        ],
        [
         "Normalised_FNT",
         "0"
        ],
        [
         "Target",
         "0"
        ],
        [
         "lambda_wt",
         "0"
        ]
       ],
       "shape": {
        "columns": 1,
        "rows": 29
       }
      },
      "text/plain": [
       "id                0\n",
       "Group             0\n",
       "Per1              0\n",
       "Per2              0\n",
       "Per3              0\n",
       "Per4              0\n",
       "Per5              0\n",
       "Per6              0\n",
       "Per7              0\n",
       "Per8              0\n",
       "Per9              0\n",
       "Dem1              0\n",
       "Dem2              0\n",
       "Dem3              0\n",
       "Dem4              0\n",
       "Dem5              0\n",
       "Dem6              0\n",
       "Dem7              0\n",
       "Dem8              0\n",
       "Dem9              0\n",
       "Cred1             0\n",
       "Cred2             0\n",
       "Cred3             0\n",
       "Cred4             0\n",
       "Cred5             0\n",
       "Cred6             0\n",
       "Normalised_FNT    0\n",
       "Target            0\n",
       "lambda_wt         0\n",
       "dtype: int64"
      ]
     },
     "execution_count": 13,
     "metadata": {},
     "output_type": "execute_result"
    }
   ],
   "source": [
    "mt3.isna().sum()"
   ]
  },
  {
   "cell_type": "code",
   "execution_count": null,
   "id": "6eb1f4ee",
   "metadata": {},
   "outputs": [],
   "source": [
    "merged_train=pd.concat([mt3, m2],axis=1,ignore_index=True)"
   ]
  }
 ],
 "metadata": {
  "kernelspec": {
   "display_name": "Python 3",
   "language": "python",
   "name": "python3"
  },
  "language_info": {
   "codemirror_mode": {
    "name": "ipython",
    "version": 3
   },
   "file_extension": ".py",
   "mimetype": "text/x-python",
   "name": "python",
   "nbconvert_exporter": "python",
   "pygments_lexer": "ipython3",
   "version": "3.13.3"
  }
 },
 "nbformat": 4,
 "nbformat_minor": 5
}
