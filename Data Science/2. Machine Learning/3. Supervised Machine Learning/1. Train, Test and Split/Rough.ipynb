{
 "cells": [
  {
   "cell_type": "code",
   "execution_count": 1,
   "id": "ba04a6ee",
   "metadata": {},
   "outputs": [],
   "source": [
    "import pandas as pd\n",
    "from sklearn.model_selection import train_test_split"
   ]
  },
  {
   "cell_type": "code",
   "execution_count": 5,
   "id": "68b8aa6d",
   "metadata": {},
   "outputs": [
    {
     "data": {
      "application/vnd.microsoft.datawrangler.viewer.v0+json": {
       "columns": [
        {
         "name": "index",
         "rawType": "int64",
         "type": "integer"
        },
        {
         "name": "Input1",
         "rawType": "int64",
         "type": "integer"
        },
        {
         "name": "Input2",
         "rawType": "int64",
         "type": "integer"
        },
        {
         "name": "Output",
         "rawType": "int64",
         "type": "integer"
        }
       ],
       "ref": "14f18b1f-0e81-4c91-972f-a78b25e85bd8",
       "rows": [
        [
         "0",
         "2",
         "1",
         "2"
        ],
        [
         "1",
         "2",
         "2",
         "4"
        ],
        [
         "2",
         "2",
         "3",
         "6"
        ],
        [
         "3",
         "2",
         "4",
         "8"
        ],
        [
         "4",
         "2",
         "5",
         "10"
        ],
        [
         "5",
         "2",
         "6",
         "12"
        ],
        [
         "6",
         "2",
         "7",
         "14"
        ],
        [
         "7",
         "2",
         "8",
         "16"
        ],
        [
         "8",
         "2",
         "9",
         "18"
        ],
        [
         "9",
         "2",
         "10",
         "20"
        ]
       ],
       "shape": {
        "columns": 3,
        "rows": 10
       }
      },
      "text/html": [
       "<div>\n",
       "<style scoped>\n",
       "    .dataframe tbody tr th:only-of-type {\n",
       "        vertical-align: middle;\n",
       "    }\n",
       "\n",
       "    .dataframe tbody tr th {\n",
       "        vertical-align: top;\n",
       "    }\n",
       "\n",
       "    .dataframe thead th {\n",
       "        text-align: right;\n",
       "    }\n",
       "</style>\n",
       "<table border=\"1\" class=\"dataframe\">\n",
       "  <thead>\n",
       "    <tr style=\"text-align: right;\">\n",
       "      <th></th>\n",
       "      <th>Input1</th>\n",
       "      <th>Input2</th>\n",
       "      <th>Output</th>\n",
       "    </tr>\n",
       "  </thead>\n",
       "  <tbody>\n",
       "    <tr>\n",
       "      <th>0</th>\n",
       "      <td>2</td>\n",
       "      <td>1</td>\n",
       "      <td>2</td>\n",
       "    </tr>\n",
       "    <tr>\n",
       "      <th>1</th>\n",
       "      <td>2</td>\n",
       "      <td>2</td>\n",
       "      <td>4</td>\n",
       "    </tr>\n",
       "    <tr>\n",
       "      <th>2</th>\n",
       "      <td>2</td>\n",
       "      <td>3</td>\n",
       "      <td>6</td>\n",
       "    </tr>\n",
       "    <tr>\n",
       "      <th>3</th>\n",
       "      <td>2</td>\n",
       "      <td>4</td>\n",
       "      <td>8</td>\n",
       "    </tr>\n",
       "    <tr>\n",
       "      <th>4</th>\n",
       "      <td>2</td>\n",
       "      <td>5</td>\n",
       "      <td>10</td>\n",
       "    </tr>\n",
       "    <tr>\n",
       "      <th>5</th>\n",
       "      <td>2</td>\n",
       "      <td>6</td>\n",
       "      <td>12</td>\n",
       "    </tr>\n",
       "    <tr>\n",
       "      <th>6</th>\n",
       "      <td>2</td>\n",
       "      <td>7</td>\n",
       "      <td>14</td>\n",
       "    </tr>\n",
       "    <tr>\n",
       "      <th>7</th>\n",
       "      <td>2</td>\n",
       "      <td>8</td>\n",
       "      <td>16</td>\n",
       "    </tr>\n",
       "    <tr>\n",
       "      <th>8</th>\n",
       "      <td>2</td>\n",
       "      <td>9</td>\n",
       "      <td>18</td>\n",
       "    </tr>\n",
       "    <tr>\n",
       "      <th>9</th>\n",
       "      <td>2</td>\n",
       "      <td>10</td>\n",
       "      <td>20</td>\n",
       "    </tr>\n",
       "  </tbody>\n",
       "</table>\n",
       "</div>"
      ],
      "text/plain": [
       "   Input1  Input2  Output\n",
       "0       2       1       2\n",
       "1       2       2       4\n",
       "2       2       3       6\n",
       "3       2       4       8\n",
       "4       2       5      10\n",
       "5       2       6      12\n",
       "6       2       7      14\n",
       "7       2       8      16\n",
       "8       2       9      18\n",
       "9       2      10      20"
      ]
     },
     "execution_count": 5,
     "metadata": {},
     "output_type": "execute_result"
    }
   ],
   "source": [
    "df=pd.DataFrame({\"Input1\":[2,2,2,2,2,2,2,2,2,2],\"Input2\":[1,2,3,4,5,6,7,8,9,10],\"Output\":[2,4,6,8,10,12,14,16,18,20]})\n",
    "df"
   ]
  },
  {
   "cell_type": "code",
   "execution_count": 6,
   "id": "a34c5f3d",
   "metadata": {},
   "outputs": [
    {
     "data": {
      "text/plain": [
       "(10, 3)"
      ]
     },
     "execution_count": 6,
     "metadata": {},
     "output_type": "execute_result"
    }
   ],
   "source": [
    "df.shape"
   ]
  },
  {
   "cell_type": "code",
   "execution_count": 3,
   "id": "93157a98",
   "metadata": {},
   "outputs": [
    {
     "name": "stdout",
     "output_type": "stream",
     "text": [
      "<class 'pandas.core.frame.DataFrame'>\n",
      "RangeIndex: 10 entries, 0 to 9\n",
      "Data columns (total 3 columns):\n",
      " #   Column  Non-Null Count  Dtype\n",
      "---  ------  --------------  -----\n",
      " 0   Input1  10 non-null     int64\n",
      " 1   Input2  10 non-null     int64\n",
      " 2   Output  10 non-null     int64\n",
      "dtypes: int64(3)\n",
      "memory usage: 372.0 bytes\n"
     ]
    }
   ],
   "source": [
    "df.info()"
   ]
  },
  {
   "cell_type": "code",
   "execution_count": 4,
   "id": "51005486",
   "metadata": {},
   "outputs": [
    {
     "data": {
      "application/vnd.microsoft.datawrangler.viewer.v0+json": {
       "columns": [
        {
         "name": "index",
         "rawType": "object",
         "type": "string"
        },
        {
         "name": "Input1",
         "rawType": "float64",
         "type": "float"
        },
        {
         "name": "Input2",
         "rawType": "float64",
         "type": "float"
        },
        {
         "name": "Output",
         "rawType": "float64",
         "type": "float"
        }
       ],
       "ref": "2f847dfb-5343-4273-9fa3-ccb0ea09b9ee",
       "rows": [
        [
         "count",
         "10.0",
         "10.0",
         "10.0"
        ],
        [
         "mean",
         "2.0",
         "5.5",
         "11.0"
        ],
        [
         "std",
         "0.0",
         "3.0276503540974917",
         "6.0553007081949835"
        ],
        [
         "min",
         "2.0",
         "1.0",
         "2.0"
        ],
        [
         "25%",
         "2.0",
         "3.25",
         "6.5"
        ],
        [
         "50%",
         "2.0",
         "5.5",
         "11.0"
        ],
        [
         "75%",
         "2.0",
         "7.75",
         "15.5"
        ],
        [
         "max",
         "2.0",
         "10.0",
         "20.0"
        ]
       ],
       "shape": {
        "columns": 3,
        "rows": 8
       }
      },
      "text/html": [
       "<div>\n",
       "<style scoped>\n",
       "    .dataframe tbody tr th:only-of-type {\n",
       "        vertical-align: middle;\n",
       "    }\n",
       "\n",
       "    .dataframe tbody tr th {\n",
       "        vertical-align: top;\n",
       "    }\n",
       "\n",
       "    .dataframe thead th {\n",
       "        text-align: right;\n",
       "    }\n",
       "</style>\n",
       "<table border=\"1\" class=\"dataframe\">\n",
       "  <thead>\n",
       "    <tr style=\"text-align: right;\">\n",
       "      <th></th>\n",
       "      <th>Input1</th>\n",
       "      <th>Input2</th>\n",
       "      <th>Output</th>\n",
       "    </tr>\n",
       "  </thead>\n",
       "  <tbody>\n",
       "    <tr>\n",
       "      <th>count</th>\n",
       "      <td>10.0</td>\n",
       "      <td>10.00000</td>\n",
       "      <td>10.000000</td>\n",
       "    </tr>\n",
       "    <tr>\n",
       "      <th>mean</th>\n",
       "      <td>2.0</td>\n",
       "      <td>5.50000</td>\n",
       "      <td>11.000000</td>\n",
       "    </tr>\n",
       "    <tr>\n",
       "      <th>std</th>\n",
       "      <td>0.0</td>\n",
       "      <td>3.02765</td>\n",
       "      <td>6.055301</td>\n",
       "    </tr>\n",
       "    <tr>\n",
       "      <th>min</th>\n",
       "      <td>2.0</td>\n",
       "      <td>1.00000</td>\n",
       "      <td>2.000000</td>\n",
       "    </tr>\n",
       "    <tr>\n",
       "      <th>25%</th>\n",
       "      <td>2.0</td>\n",
       "      <td>3.25000</td>\n",
       "      <td>6.500000</td>\n",
       "    </tr>\n",
       "    <tr>\n",
       "      <th>50%</th>\n",
       "      <td>2.0</td>\n",
       "      <td>5.50000</td>\n",
       "      <td>11.000000</td>\n",
       "    </tr>\n",
       "    <tr>\n",
       "      <th>75%</th>\n",
       "      <td>2.0</td>\n",
       "      <td>7.75000</td>\n",
       "      <td>15.500000</td>\n",
       "    </tr>\n",
       "    <tr>\n",
       "      <th>max</th>\n",
       "      <td>2.0</td>\n",
       "      <td>10.00000</td>\n",
       "      <td>20.000000</td>\n",
       "    </tr>\n",
       "  </tbody>\n",
       "</table>\n",
       "</div>"
      ],
      "text/plain": [
       "       Input1    Input2     Output\n",
       "count    10.0  10.00000  10.000000\n",
       "mean      2.0   5.50000  11.000000\n",
       "std       0.0   3.02765   6.055301\n",
       "min       2.0   1.00000   2.000000\n",
       "25%       2.0   3.25000   6.500000\n",
       "50%       2.0   5.50000  11.000000\n",
       "75%       2.0   7.75000  15.500000\n",
       "max       2.0  10.00000  20.000000"
      ]
     },
     "execution_count": 4,
     "metadata": {},
     "output_type": "execute_result"
    }
   ],
   "source": [
    "df.describe()"
   ]
  },
  {
   "cell_type": "code",
   "execution_count": 7,
   "id": "43d58f74",
   "metadata": {},
   "outputs": [],
   "source": [
    "input_data=df.iloc[:,:-1]\n",
    "output_data=df[\"Output\"]"
   ]
  },
  {
   "cell_type": "code",
   "execution_count": 8,
   "id": "b1871007",
   "metadata": {},
   "outputs": [],
   "source": [
    "x_train,x_test,y_train,y_test=train_test_split(input_data,output_data,test_size=0.25)"
   ]
  },
  {
   "cell_type": "code",
   "execution_count": null,
   "id": "67609315",
   "metadata": {},
   "outputs": [
    {
     "data": {
      "text/plain": [
       "(   Input1  Input2\n",
       " 9       2      10\n",
       " 2       2       3\n",
       " 3       2       4\n",
       " 1       2       2\n",
       " 5       2       6\n",
       " 6       2       7\n",
       " 4       2       5,\n",
       " 9    20\n",
       " 2     6\n",
       " 3     8\n",
       " 1     4\n",
       " 5    12\n",
       " 6    14\n",
       " 4    10\n",
       " Name: Output, dtype: int64)"
      ]
     },
     "execution_count": 15,
     "metadata": {},
     "output_type": "execute_result"
    }
   ],
   "source": [
    "x_train"
   ]
  },
  {
   "cell_type": "code",
   "execution_count": 13,
   "id": "4d6ebeea",
   "metadata": {},
   "outputs": [
    {
     "data": {
      "application/vnd.microsoft.datawrangler.viewer.v0+json": {
       "columns": [
        {
         "name": "index",
         "rawType": "int64",
         "type": "integer"
        },
        {
         "name": "Output",
         "rawType": "int64",
         "type": "integer"
        }
       ],
       "ref": "1f24b80f-8cb2-4355-b42c-98e11f154106",
       "rows": [
        [
         "9",
         "20"
        ],
        [
         "2",
         "6"
        ],
        [
         "3",
         "8"
        ],
        [
         "1",
         "4"
        ],
        [
         "5",
         "12"
        ],
        [
         "6",
         "14"
        ],
        [
         "4",
         "10"
        ]
       ],
       "shape": {
        "columns": 1,
        "rows": 7
       }
      },
      "text/plain": [
       "9    20\n",
       "2     6\n",
       "3     8\n",
       "1     4\n",
       "5    12\n",
       "6    14\n",
       "4    10\n",
       "Name: Output, dtype: int64"
      ]
     },
     "execution_count": 13,
     "metadata": {},
     "output_type": "execute_result"
    }
   ],
   "source": [
    "y_train"
   ]
  },
  {
   "cell_type": "code",
   "execution_count": 14,
   "id": "02c2e90a",
   "metadata": {},
   "outputs": [
    {
     "data": {
      "application/vnd.microsoft.datawrangler.viewer.v0+json": {
       "columns": [
        {
         "name": "index",
         "rawType": "int64",
         "type": "integer"
        },
        {
         "name": "Input1",
         "rawType": "int64",
         "type": "integer"
        },
        {
         "name": "Input2",
         "rawType": "int64",
         "type": "integer"
        }
       ],
       "ref": "52e85dbb-ea1b-4035-a08f-1215d40b4ea9",
       "rows": [
        [
         "0",
         "2",
         "1"
        ],
        [
         "8",
         "2",
         "9"
        ],
        [
         "7",
         "2",
         "8"
        ]
       ],
       "shape": {
        "columns": 2,
        "rows": 3
       }
      },
      "text/html": [
       "<div>\n",
       "<style scoped>\n",
       "    .dataframe tbody tr th:only-of-type {\n",
       "        vertical-align: middle;\n",
       "    }\n",
       "\n",
       "    .dataframe tbody tr th {\n",
       "        vertical-align: top;\n",
       "    }\n",
       "\n",
       "    .dataframe thead th {\n",
       "        text-align: right;\n",
       "    }\n",
       "</style>\n",
       "<table border=\"1\" class=\"dataframe\">\n",
       "  <thead>\n",
       "    <tr style=\"text-align: right;\">\n",
       "      <th></th>\n",
       "      <th>Input1</th>\n",
       "      <th>Input2</th>\n",
       "    </tr>\n",
       "  </thead>\n",
       "  <tbody>\n",
       "    <tr>\n",
       "      <th>0</th>\n",
       "      <td>2</td>\n",
       "      <td>1</td>\n",
       "    </tr>\n",
       "    <tr>\n",
       "      <th>8</th>\n",
       "      <td>2</td>\n",
       "      <td>9</td>\n",
       "    </tr>\n",
       "    <tr>\n",
       "      <th>7</th>\n",
       "      <td>2</td>\n",
       "      <td>8</td>\n",
       "    </tr>\n",
       "  </tbody>\n",
       "</table>\n",
       "</div>"
      ],
      "text/plain": [
       "   Input1  Input2\n",
       "0       2       1\n",
       "8       2       9\n",
       "7       2       8"
      ]
     },
     "execution_count": 14,
     "metadata": {},
     "output_type": "execute_result"
    }
   ],
   "source": [
    "x_test"
   ]
  },
  {
   "cell_type": "code",
   "execution_count": 12,
   "id": "9e9c5e1d",
   "metadata": {},
   "outputs": [
    {
     "data": {
      "application/vnd.microsoft.datawrangler.viewer.v0+json": {
       "columns": [
        {
         "name": "index",
         "rawType": "int64",
         "type": "integer"
        },
        {
         "name": "Output",
         "rawType": "int64",
         "type": "integer"
        }
       ],
       "ref": "f2f33ed8-a713-4361-a8c7-28925689d532",
       "rows": [
        [
         "0",
         "2"
        ],
        [
         "8",
         "18"
        ],
        [
         "7",
         "16"
        ]
       ],
       "shape": {
        "columns": 1,
        "rows": 3
       }
      },
      "text/plain": [
       "0     2\n",
       "8    18\n",
       "7    16\n",
       "Name: Output, dtype: int64"
      ]
     },
     "execution_count": 12,
     "metadata": {},
     "output_type": "execute_result"
    }
   ],
   "source": [
    "y_test"
   ]
  },
  {
   "cell_type": "code",
   "execution_count": null,
   "id": "1826d562",
   "metadata": {},
   "outputs": [],
   "source": []
  }
 ],
 "metadata": {
  "kernelspec": {
   "display_name": "Python 3",
   "language": "python",
   "name": "python3"
  },
  "language_info": {
   "codemirror_mode": {
    "name": "ipython",
    "version": 3
   },
   "file_extension": ".py",
   "mimetype": "text/x-python",
   "name": "python",
   "nbconvert_exporter": "python",
   "pygments_lexer": "ipython3",
   "version": "3.13.3"
  }
 },
 "nbformat": 4,
 "nbformat_minor": 5
}
