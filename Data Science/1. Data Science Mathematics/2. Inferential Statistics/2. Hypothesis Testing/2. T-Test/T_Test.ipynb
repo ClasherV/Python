{
 "cells": [
  {
   "cell_type": "code",
   "execution_count": 1,
   "id": "22cf0f0c",
   "metadata": {},
   "outputs": [],
   "source": [
    "import numpy as np\n",
    "import scipy.stats as st"
   ]
  },
  {
   "cell_type": "code",
   "execution_count": 2,
   "id": "c0b1da8c",
   "metadata": {},
   "outputs": [],
   "source": [
    "u=150\n",
    "x=148\n",
    "s=5\n",
    "n=25\n",
    "a=0.05\n",
    "df=n-1"
   ]
  },
  {
   "cell_type": "code",
   "execution_count": 3,
   "id": "81384cc4",
   "metadata": {},
   "outputs": [
    {
     "data": {
      "text/plain": [
       "np.float64(-1.7108820799094282)"
      ]
     },
     "execution_count": 3,
     "metadata": {},
     "output_type": "execute_result"
    }
   ],
   "source": [
    "t_table=st.t.ppf(a,df)\n",
    "t_table"
   ]
  },
  {
   "cell_type": "code",
   "execution_count": 4,
   "id": "f5c4483a",
   "metadata": {},
   "outputs": [
    {
     "data": {
      "text/plain": [
       "np.float64(-2.0)"
      ]
     },
     "execution_count": 4,
     "metadata": {},
     "output_type": "execute_result"
    }
   ],
   "source": [
    "t_cal=(x-u)/(s/np.sqrt(n))\n",
    "t_cal"
   ]
  },
  {
   "cell_type": "code",
   "execution_count": 5,
   "id": "17330c30",
   "metadata": {},
   "outputs": [
    {
     "name": "stdout",
     "output_type": "stream",
     "text": [
      "Ha is Right\n"
     ]
    }
   ],
   "source": [
    "if t_cal<t_table:\n",
    "    print(\"Ha is Right\")\n",
    "else:\n",
    "    print(\"Ho is Right\")"
   ]
  },
  {
   "cell_type": "code",
   "execution_count": null,
   "id": "30d0f381",
   "metadata": {},
   "outputs": [],
   "source": []
  }
 ],
 "metadata": {
  "kernelspec": {
   "display_name": "Python 3",
   "language": "python",
   "name": "python3"
  },
  "language_info": {
   "codemirror_mode": {
    "name": "ipython",
    "version": 3
   },
   "file_extension": ".py",
   "mimetype": "text/x-python",
   "name": "python",
   "nbconvert_exporter": "python",
   "pygments_lexer": "ipython3",
   "version": "3.13.3"
  }
 },
 "nbformat": 4,
 "nbformat_minor": 5
}
