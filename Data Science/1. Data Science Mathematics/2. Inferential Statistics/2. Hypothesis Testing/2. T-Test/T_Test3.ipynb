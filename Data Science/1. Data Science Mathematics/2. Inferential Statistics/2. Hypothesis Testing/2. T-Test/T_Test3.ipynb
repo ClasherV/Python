{
 "cells": [
  {
   "cell_type": "code",
   "execution_count": 35,
   "id": "e0da8d55",
   "metadata": {},
   "outputs": [],
   "source": [
    "import numpy as np\n",
    "import scipy.stats as st"
   ]
  },
  {
   "cell_type": "code",
   "execution_count": 36,
   "id": "24c1b9dc",
   "metadata": {},
   "outputs": [],
   "source": [
    "Before=[50,60,45,65,55,70,40,75,80,65,70,60,50,55,45,75,60,50,65,70]\n",
    "After=[60,70,55,75,65,80,50,85,90,70,75,65,55,60,50,80,65,55,70,75]"
   ]
  },
  {
   "cell_type": "code",
   "execution_count": 37,
   "id": "af7e3aea",
   "metadata": {},
   "outputs": [],
   "source": [
    "xa=np.mean(Before)\n",
    "xb=np.mean(After)\n",
    "sa=np.std(Before)\n",
    "sb=np.std(After)\n",
    "n=20\n",
    "a=0.05\n",
    "df=n-1"
   ]
  },
  {
   "cell_type": "code",
   "execution_count": 38,
   "id": "68a800c1",
   "metadata": {},
   "outputs": [
    {
     "data": {
      "text/plain": [
       "np.float64(-2.0930240544082634)"
      ]
     },
     "execution_count": 38,
     "metadata": {},
     "output_type": "execute_result"
    }
   ],
   "source": [
    "t_val=st.t.ppf(a/2,df)\n",
    "t_val"
   ]
  },
  {
   "cell_type": "code",
   "execution_count": 39,
   "id": "05b110fe",
   "metadata": {},
   "outputs": [
    {
     "data": {
      "text/plain": [
       "np.float64(-2.061200527128206)"
      ]
     },
     "execution_count": 39,
     "metadata": {},
     "output_type": "execute_result"
    }
   ],
   "source": [
    "t_cal=(xa-xb)/(np.sqrt((np.pow(sa,2)+np.pow(sb,2))/n))\n",
    "t_cal"
   ]
  },
  {
   "cell_type": "code",
   "execution_count": null,
   "id": "52bef221",
   "metadata": {},
   "outputs": [],
   "source": []
  }
 ],
 "metadata": {
  "kernelspec": {
   "display_name": "Python 3",
   "language": "python",
   "name": "python3"
  },
  "language_info": {
   "codemirror_mode": {
    "name": "ipython",
    "version": 3
   },
   "file_extension": ".py",
   "mimetype": "text/x-python",
   "name": "python",
   "nbconvert_exporter": "python",
   "pygments_lexer": "ipython3",
   "version": "3.13.3"
  }
 },
 "nbformat": 4,
 "nbformat_minor": 5
}
