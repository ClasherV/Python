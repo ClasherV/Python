{
 "cells": [
  {
   "cell_type": "code",
   "execution_count": 5,
   "id": "e0da8d55",
   "metadata": {},
   "outputs": [],
   "source": [
    "import numpy as np\n",
    "import scipy.stats as st"
   ]
  },
  {
   "cell_type": "code",
   "execution_count": 6,
   "id": "24c1b9dc",
   "metadata": {},
   "outputs": [],
   "source": [
    "Before=[50,60,45,65,55,70,40,75,80,65,70,60,50,55,45,75,60,50,65,70]\n",
    "After=[60,70,55,75,65,80,50,85,90,70,75,65,55,60,50,80,65,55,70,75]"
   ]
  },
  {
   "cell_type": "code",
   "execution_count": 7,
   "id": "af7e3aea",
   "metadata": {},
   "outputs": [],
   "source": [
    "xa=np.mean(Before)\n",
    "xb=np.mean(After)\n",
    "sa=np.std(Before)\n",
    "sb=np.std(After)\n",
    "n=20\n",
    "a=0.05\n",
    "df=n-1"
   ]
  },
  {
   "cell_type": "code",
   "execution_count": 8,
   "id": "4f58041d",
   "metadata": {},
   "outputs": [
    {
     "data": {
      "text/plain": [
       "np.float64(-2.0930240544082634)"
      ]
     },
     "execution_count": 8,
     "metadata": {},
     "output_type": "execute_result"
    }
   ],
   "source": [
    "t_left=st.t.ppf(a/2,df)\n",
    "t_left"
   ]
  },
  {
   "cell_type": "code",
   "execution_count": 9,
   "id": "68a800c1",
   "metadata": {},
   "outputs": [
    {
     "data": {
      "text/plain": [
       "np.float64(2.093024054408263)"
      ]
     },
     "execution_count": 9,
     "metadata": {},
     "output_type": "execute_result"
    }
   ],
   "source": [
    "t_right=st.t.ppf(1-a/2,df)\n",
    "t_right"
   ]
  },
  {
   "cell_type": "code",
   "execution_count": 10,
   "id": "05b110fe",
   "metadata": {},
   "outputs": [
    {
     "data": {
      "text/plain": [
       "np.float64(-2.061200527128206)"
      ]
     },
     "execution_count": 10,
     "metadata": {},
     "output_type": "execute_result"
    }
   ],
   "source": [
    "t_cal=(xa-xb)/(np.sqrt((np.pow(sa,2)+np.pow(sb,2))/n))\n",
    "t_cal"
   ]
  },
  {
   "cell_type": "code",
   "execution_count": 11,
   "id": "52bef221",
   "metadata": {},
   "outputs": [
    {
     "name": "stdout",
     "output_type": "stream",
     "text": [
      "H0 is Right\n"
     ]
    }
   ],
   "source": [
    "if t_cal<t_left or t_cal>t_right:\n",
    "    print(\"Ha is Right\")\n",
    "else:\n",
    "    print(\"H0 is Right\")"
   ]
  },
  {
   "cell_type": "code",
   "execution_count": null,
   "id": "08fde5ee",
   "metadata": {},
   "outputs": [],
   "source": []
  }
 ],
 "metadata": {
  "kernelspec": {
   "display_name": "Python 3",
   "language": "python",
   "name": "python3"
  },
  "language_info": {
   "codemirror_mode": {
    "name": "ipython",
    "version": 3
   },
   "file_extension": ".py",
   "mimetype": "text/x-python",
   "name": "python",
   "nbconvert_exporter": "python",
   "pygments_lexer": "ipython3",
   "version": "3.13.3"
  }
 },
 "nbformat": 4,
 "nbformat_minor": 5
}
