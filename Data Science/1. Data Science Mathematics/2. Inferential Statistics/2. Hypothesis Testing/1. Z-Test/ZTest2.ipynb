{
 "cells": [
  {
   "cell_type": "code",
   "execution_count": 30,
   "id": "9a5e1c05",
   "metadata": {},
   "outputs": [],
   "source": [
    "import numpy as np\n",
    "import scipy.stats as st"
   ]
  },
  {
   "cell_type": "code",
   "execution_count": 31,
   "id": "7d76c250",
   "metadata": {},
   "outputs": [],
   "source": [
    "old_design_data=np.array([45.2,42.8,38.9,43.5,41.0,44.6,40.5,42.7,39.8,41.4,44.3,39.7,42.1,40.6,43.0,42.2,41.5,39.6,44.0,43.1,38.7,43.9,42.0,41.9,42.8,43.7,41.3,40.9,42.5,41.6])\n",
    "new_design_data=np.array([48.5,49.1,50.2,47.8,48.7,49.9,48.0,50.5,49.8,49.6,48.2,48.9,49.7,50.3,49.4,50.1,48.6,48.3,49.0,50.0,48.4,49.3,49.5,48.8,50.6,50.4,48.1,49.2,50.7,50.8])"
   ]
  },
  {
   "cell_type": "code",
   "execution_count": 32,
   "id": "ddce2a31",
   "metadata": {},
   "outputs": [
    {
     "data": {
      "text/plain": [
       "np.float64(41.99333333333333)"
      ]
     },
     "execution_count": 32,
     "metadata": {},
     "output_type": "execute_result"
    }
   ],
   "source": [
    "x_old=np.mean(old_design_data)\n",
    "x_old"
   ]
  },
  {
   "cell_type": "code",
   "execution_count": 33,
   "id": "fbc41e24",
   "metadata": {},
   "outputs": [
    {
     "data": {
      "text/plain": [
       "np.float64(49.346666666666664)"
      ]
     },
     "execution_count": 33,
     "metadata": {},
     "output_type": "execute_result"
    }
   ],
   "source": [
    "x_new=np.mean(new_design_data)\n",
    "x_new"
   ]
  },
  {
   "cell_type": "code",
   "execution_count": 34,
   "id": "7e8b7235",
   "metadata": {},
   "outputs": [],
   "source": [
    "std=2.5\n",
    "n=30\n",
    "a=0.05"
   ]
  },
  {
   "cell_type": "code",
   "execution_count": 35,
   "id": "1eb21d04",
   "metadata": {},
   "outputs": [
    {
     "data": {
      "text/plain": [
       "np.float64(1.6448536269514722)"
      ]
     },
     "execution_count": 35,
     "metadata": {},
     "output_type": "execute_result"
    }
   ],
   "source": [
    "z_table=st.norm.ppf(1-a)\n",
    "z_table"
   ]
  },
  {
   "cell_type": "code",
   "execution_count": 36,
   "id": "39949bd1",
   "metadata": {},
   "outputs": [
    {
     "data": {
      "text/plain": [
       "np.float64(16.11034615808528)"
      ]
     },
     "execution_count": 36,
     "metadata": {},
     "output_type": "execute_result"
    }
   ],
   "source": [
    "z_calc=(x_new-x_old)/(std/np.sqrt(n))\n",
    "z_calc"
   ]
  },
  {
   "cell_type": "code",
   "execution_count": 37,
   "id": "93fd41da",
   "metadata": {},
   "outputs": [
    {
     "name": "stdout",
     "output_type": "stream",
     "text": [
      "Ha is Right\n"
     ]
    }
   ],
   "source": [
    "if z_calc>z_table:\n",
    "    print(\"Ha is Right\")\n",
    "else:\n",
    "    print(\"Ho is Right\")"
   ]
  },
  {
   "cell_type": "code",
   "execution_count": null,
   "id": "86873220",
   "metadata": {},
   "outputs": [],
   "source": []
  }
 ],
 "metadata": {
  "kernelspec": {
   "display_name": "Python 3",
   "language": "python",
   "name": "python3"
  },
  "language_info": {
   "codemirror_mode": {
    "name": "ipython",
    "version": 3
   },
   "file_extension": ".py",
   "mimetype": "text/x-python",
   "name": "python",
   "nbconvert_exporter": "python",
   "pygments_lexer": "ipython3",
   "version": "3.13.3"
  }
 },
 "nbformat": 4,
 "nbformat_minor": 5
}
