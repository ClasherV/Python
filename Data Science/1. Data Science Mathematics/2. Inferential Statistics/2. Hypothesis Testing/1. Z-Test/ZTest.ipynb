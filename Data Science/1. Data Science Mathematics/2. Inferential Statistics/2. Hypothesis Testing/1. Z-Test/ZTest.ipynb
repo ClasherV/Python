{
 "cells": [
  {
   "cell_type": "code",
   "execution_count": 1,
   "id": "8a89df9d",
   "metadata": {},
   "outputs": [],
   "source": [
    "import numpy as np\n",
    "import scipy.stats as st"
   ]
  },
  {
   "cell_type": "code",
   "execution_count": 2,
   "id": "4e849dec",
   "metadata": {},
   "outputs": [],
   "source": [
    "u=82\n",
    "x=90\n",
    "std=20\n",
    "n=81\n",
    "a=0.05"
   ]
  },
  {
   "cell_type": "code",
   "execution_count": 4,
   "id": "c58a5229",
   "metadata": {},
   "outputs": [
    {
     "data": {
      "text/plain": [
       "np.float64(1.6448536269514722)"
      ]
     },
     "execution_count": 4,
     "metadata": {},
     "output_type": "execute_result"
    }
   ],
   "source": [
    "z_val=st.norm.ppf(1-a)\n",
    "z_val"
   ]
  },
  {
   "cell_type": "code",
   "execution_count": 6,
   "id": "447d36fd",
   "metadata": {},
   "outputs": [
    {
     "data": {
      "text/plain": [
       "np.float64(3.5999999999999996)"
      ]
     },
     "execution_count": 6,
     "metadata": {},
     "output_type": "execute_result"
    }
   ],
   "source": [
    "z_cal=(x-u)/(std/np.sqrt(n))\n",
    "z_cal"
   ]
  },
  {
   "cell_type": "code",
   "execution_count": 7,
   "id": "ae62a7a8",
   "metadata": {},
   "outputs": [
    {
     "name": "stdout",
     "output_type": "stream",
     "text": [
      "Ha is Right\n"
     ]
    }
   ],
   "source": [
    "if z_cal>z_val:\n",
    "    print(\"Ha is Right\")\n",
    "else:\n",
    "    print(\"Ho is Right\")"
   ]
  },
  {
   "cell_type": "code",
   "execution_count": null,
   "id": "a537cc63",
   "metadata": {},
   "outputs": [],
   "source": []
  }
 ],
 "metadata": {
  "kernelspec": {
   "display_name": "Python 3",
   "language": "python",
   "name": "python3"
  },
  "language_info": {
   "codemirror_mode": {
    "name": "ipython",
    "version": 3
   },
   "file_extension": ".py",
   "mimetype": "text/x-python",
   "name": "python",
   "nbconvert_exporter": "python",
   "pygments_lexer": "ipython3",
   "version": "3.13.3"
  }
 },
 "nbformat": 4,
 "nbformat_minor": 5
}
