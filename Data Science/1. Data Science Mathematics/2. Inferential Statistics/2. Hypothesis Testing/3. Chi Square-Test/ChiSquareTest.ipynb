{
 "cells": [
  {
   "cell_type": "code",
   "execution_count": 1,
   "id": "c3f5753c",
   "metadata": {},
   "outputs": [],
   "source": [
    "import numpy as np\n",
    "import scipy.stats as st"
   ]
  },
  {
   "cell_type": "code",
   "execution_count": 15,
   "id": "230a565b",
   "metadata": {},
   "outputs": [],
   "source": [
    "E=[20,20,20,20,20,20]\n",
    "O=[22,17,20,26,22,13]\n",
    "n=6\n",
    "a=0.05\n",
    "df=n-1"
   ]
  },
  {
   "cell_type": "code",
   "execution_count": 17,
   "id": "ea6275e9",
   "metadata": {},
   "outputs": [
    {
     "data": {
      "text/plain": [
       "np.float64(11.070497693516351)"
      ]
     },
     "execution_count": 17,
     "metadata": {},
     "output_type": "execute_result"
    }
   ],
   "source": [
    "chi2_table=st.chi2.ppf(1-a,df)\n",
    "chi2_table"
   ]
  },
  {
   "cell_type": "code",
   "execution_count": 18,
   "id": "38c548ed",
   "metadata": {},
   "outputs": [
    {
     "data": {
      "text/plain": [
       "np.float64(5.1000000000000005)"
      ]
     },
     "execution_count": 18,
     "metadata": {},
     "output_type": "execute_result"
    }
   ],
   "source": [
    "chi2_cal=0\n",
    "for i in range(6):\n",
    "    chi2_cal+=np.pow((O[i]-E[i]),2)/E[i]\n",
    "chi2_cal"
   ]
  },
  {
   "cell_type": "code",
   "execution_count": 19,
   "id": "13cf4af0",
   "metadata": {},
   "outputs": [
    {
     "name": "stdout",
     "output_type": "stream",
     "text": [
      "H0 is Right\n"
     ]
    }
   ],
   "source": [
    "if chi2_cal>chi2_table:\n",
    "    print(\"Ha is Right\")\n",
    "else:\n",
    "    print(\"H0 is Right\")"
   ]
  },
  {
   "cell_type": "code",
   "execution_count": null,
   "id": "75d201b7",
   "metadata": {},
   "outputs": [],
   "source": []
  }
 ],
 "metadata": {
  "kernelspec": {
   "display_name": "Python 3",
   "language": "python",
   "name": "python3"
  },
  "language_info": {
   "codemirror_mode": {
    "name": "ipython",
    "version": 3
   },
   "file_extension": ".py",
   "mimetype": "text/x-python",
   "name": "python",
   "nbconvert_exporter": "python",
   "pygments_lexer": "ipython3",
   "version": "3.13.3"
  }
 },
 "nbformat": 4,
 "nbformat_minor": 5
}
